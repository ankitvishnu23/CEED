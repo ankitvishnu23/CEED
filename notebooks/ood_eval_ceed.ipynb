{
 "cells": [
  {
   "cell_type": "code",
   "execution_count": 6,
   "id": "6a45facf",
   "metadata": {},
   "outputs": [],
   "source": [
    "from pathlib import Path\n",
    "import numpy as np\n",
    "import h5py\n",
    "from tqdm.auto import tqdm, trange\n",
    "import scipy.io\n",
    "import time\n",
    "import torch\n",
    "import random\n",
    "import math\n",
    "import shutil\n",
    "from sklearn.decomposition import PCA\n",
    "import scipy as sp\n",
    "import scipy.signal\n",
    "import os\n",
    "import pandas as pd\n",
    "from torch import nn\n",
    "from scipy.spatial.distance import cdist\n",
    "import spikeinterface.core as sc\n",
    "import spikeinterface.full as si\n",
    "\n",
    "from analysis.projections import learn_manifold_umap, pca_train, pca\n",
    "from analysis.plotting import plot_gmm, plot_closest_spikes\n",
    "from analysis.encoder_utils import load_GPT_backbone, get_fcenc_backbone\n",
    "from analysis.cluster import GMM, HDBSCAN\n",
    "from sklearn.mixture import GaussianMixture\n",
    "from sklearn.metrics import adjusted_rand_score\n",
    "from analysis.cluster import MeanShift\n",
    "from analysis.benchmarking import class_scores, avg_score, per_class_accs, avg_class_accs\n",
    "import matplotlib.patheffects as pe\n",
    "\n",
    "from ceed.models.model_simclr import FullyConnectedEnc\n",
    "from utils.ddp_utils import gmm_monitor, knn_monitor\n",
    "from data_aug.wf_data_augs import Crop\n",
    "from data_aug.contrastive_learning_dataset import WFDataset_lab "
   ]
  },
  {
   "cell_type": "code",
   "execution_count": 2,
   "id": "9fddcf02",
   "metadata": {},
   "outputs": [
    {
     "name": "stdout",
     "output_type": "stream",
     "text": [
      "1\n"
     ]
    }
   ],
   "source": [
    "# class Args(Object):\n",
    "#     def __init__(epoch_nums=1):\n",
    "#         epochs = epoch_nums\n",
    "    \n",
    "class Args(object):\n",
    "    pass\n",
    "\n",
    "args = Args()\n",
    "args.epochs = 1\n",
    "args.use_chan_pos = False\n",
    "args.use_gpt = False\n",
    "args.num_extra_chans = 2"
   ]
  },
  {
   "cell_type": "code",
   "execution_count": 3,
   "id": "0d8fd619",
   "metadata": {},
   "outputs": [],
   "source": [
    "ten_neur_ood_path_dy016 = '/Users/ankit/Documents/PaninskiLab/contrastive_spikes/dy016_10_neuron_400ood'\n",
    "ten_neur_ood_path_dy009 = '/Users/ankit/Documents/PaninskiLab/contrastive_spikes/dy009_10_neuron_400ood'\n",
    "fourhund_neur_ood_path = '/Users/ankit/Documents/PaninskiLab/contrastive_spikes/real400n_200s'\n",
    "sixhund_neur_ood_path = '/Users/ankit/Documents/PaninskiLab/contrastive_spikes/real600n_1200s'\n",
    "test_setA = '/Users/ankit/Documents/PaninskiLab/contrastive_spikes/dy016_og_goodunit_subset'\n",
    "test_fn = 'spikes_test.npy' \n",
    "train_fn = 'spikes_train.npy'"
   ]
  },
  {
   "cell_type": "code",
   "execution_count": 10,
   "id": "2fb32c3a",
   "metadata": {},
   "outputs": [
    {
     "name": "stdout",
     "output_type": "stream",
     "text": [
      "True spikes_train.npy\n",
      "(2000, 21, 121)\n",
      "(2000, 21, 121)\n",
      "True spikes_train.npy\n",
      "(2000, 21, 121)\n",
      "(2000, 21, 121)\n",
      "True spikes_train.npy\n",
      "(2000, 21, 121)\n",
      "(2000, 21, 121)\n",
      "True spikes_train.npy\n",
      "(2000, 21, 121)\n",
      "(2000, 21, 121)\n",
      "True spikes_train.npy\n",
      "(2000, 21, 121)\n",
      "(2000, 21, 121)\n",
      "True spikes_train.npy\n",
      "(2000, 21, 121)\n",
      "(2000, 21, 121)\n"
     ]
    }
   ],
   "source": [
    "# dy016 ood data loaders\n",
    "dy016_ood_5c_memory_dataset = WFDataset_lab(ten_neur_ood_path_dy016, split='train', multi_chan=True, transform=Crop(prob=0.0, num_extra_chans=2, ignore_chan_num=True), use_chan_pos=False)\n",
    "dy016_ood_5c_memory_loader = torch.utils.data.DataLoader(\n",
    "    dy016_ood_5c_memory_dataset, batch_size=128, shuffle=False,\n",
    "    num_workers=8, pin_memory=True, drop_last=False)\n",
    "dy016_ood_5c_test_dataset = WFDataset_lab(ten_neur_ood_path_dy016, split='test', multi_chan=True, transform=Crop(prob=0.0, num_extra_chans=2, ignore_chan_num=True), use_chan_pos=False)\n",
    "dy016_ood_5c_test_loader = torch.utils.data.DataLoader(\n",
    "    dy016_ood_5c_test_dataset, batch_size=256, shuffle=False,\n",
    "    num_workers=8, pin_memory=True, drop_last=False)\n",
    "\n",
    "dy016_ood_11c_memory_dataset = WFDataset_lab(ten_neur_ood_path_dy016, split='train', multi_chan=True, transform=Crop(prob=0.0, num_extra_chans=5, ignore_chan_num=True), use_chan_pos=False)\n",
    "dy016_ood_11c_memory_loader = torch.utils.data.DataLoader(\n",
    "    dy016_ood_11c_memory_dataset, batch_size=128, shuffle=False,\n",
    "    num_workers=8, pin_memory=True, drop_last=False)\n",
    "dy016_ood_11c_test_dataset = WFDataset_lab(ten_neur_ood_path_dy016, split='test', multi_chan=True, transform=Crop(prob=0.0, num_extra_chans=5, ignore_chan_num=True), use_chan_pos=False)\n",
    "dy016_ood_11c_test_loader = torch.utils.data.DataLoader(\n",
    "    dy016_ood_11c_test_dataset, batch_size=256, shuffle=False,\n",
    "    num_workers=8, pin_memory=True, drop_last=False)\n",
    "\n",
    "# dy009 ood data loaders\n",
    "dy009_ood_5c_memory_dataset = WFDataset_lab(ten_neur_ood_path_dy009, split='train', multi_chan=True, transform=Crop(prob=0.0, num_extra_chans=2, ignore_chan_num=True), use_chan_pos=False)\n",
    "dy009_ood_5c_memory_loader = torch.utils.data.DataLoader(\n",
    "    dy009_ood_5c_memory_dataset, batch_size=128, shuffle=False,\n",
    "    num_workers=8, pin_memory=True, drop_last=False)\n",
    "dy009_ood_5c_test_dataset = WFDataset_lab(ten_neur_ood_path_dy009, split='test', multi_chan=True, transform=Crop(prob=0.0, num_extra_chans=2, ignore_chan_num=True), use_chan_pos=False)\n",
    "dy009_ood_5c_test_loader = torch.utils.data.DataLoader(\n",
    "    dy009_ood_5c_test_dataset, batch_size=256, shuffle=False,\n",
    "    num_workers=8, pin_memory=True, drop_last=False)\n",
    "\n",
    "dy009_ood_11c_memory_dataset = WFDataset_lab(ten_neur_ood_path_dy009, split='train', multi_chan=True, transform=Crop(prob=0.0, num_extra_chans=5, ignore_chan_num=True), use_chan_pos=False)\n",
    "dy009_ood_11c_memory_loader = torch.utils.data.DataLoader(\n",
    "    dy009_ood_11c_memory_dataset, batch_size=128, shuffle=False,\n",
    "    num_workers=8, pin_memory=True, drop_last=False)\n",
    "dy009_ood_11c_test_dataset = WFDataset_lab(ten_neur_ood_path_dy009, split='test', multi_chan=True, transform=Crop(prob=0.0, num_extra_chans=5, ignore_chan_num=True), use_chan_pos=False)\n",
    "dy009_ood_11c_test_loader = torch.utils.data.DataLoader(\n",
    "    dy009_ood_11c_test_dataset, batch_size=256, shuffle=False,\n",
    "    num_workers=8, pin_memory=True, drop_last=False)\n",
    "\n",
    "# ten neuron ID data loaders\n",
    "# dy009 ood data loaders\n",
    "id_5c_memory_dataset = WFDataset_lab(test_setA, split='train', multi_chan=True, transform=Crop(prob=0.0, num_extra_chans=2, ignore_chan_num=True), use_chan_pos=False)\n",
    "id_5c_memory_loader = torch.utils.data.DataLoader(\n",
    "    id_5c_memory_dataset, batch_size=128, shuffle=False,\n",
    "    num_workers=8, pin_memory=True, drop_last=False)\n",
    "id_5c_test_dataset = WFDataset_lab(test_setA, split='test', multi_chan=True, transform=Crop(prob=0.0, num_extra_chans=2, ignore_chan_num=True), use_chan_pos=False)\n",
    "id_5c_test_loader = torch.utils.data.DataLoader(\n",
    "    id_5c_test_dataset, batch_size=256, shuffle=False,\n",
    "    num_workers=8, pin_memory=True, drop_last=False)\n",
    "\n",
    "id_11c_memory_dataset = WFDataset_lab(test_setA, split='train', multi_chan=True, transform=Crop(prob=0.0, num_extra_chans=5, ignore_chan_num=True), use_chan_pos=False)\n",
    "id_11c_memory_loader = torch.utils.data.DataLoader(\n",
    "    id_11c_memory_dataset, batch_size=128, shuffle=False,\n",
    "    num_workers=8, pin_memory=True, drop_last=False)\n",
    "id_11c_test_dataset = WFDataset_lab(test_setA, split='test', multi_chan=True, transform=Crop(prob=0.0, num_extra_chans=5, ignore_chan_num=True), use_chan_pos=False)\n",
    "id_11c_test_loader = torch.utils.data.DataLoader(\n",
    "    id_11c_test_dataset, batch_size=256, shuffle=False,\n",
    "    num_workers=8, pin_memory=True, drop_last=False)"
   ]
  },
  {
   "cell_type": "code",
   "execution_count": 4,
   "id": "2112bc79",
   "metadata": {},
   "outputs": [],
   "source": [
    "ten_neur_1200_11chan_mod = '/Users/ankit/Documents/PaninskiLab/contrastive_spikes_fc_models/10neur_11c_1200s/test'\n",
    "ten_neur_1200_5chan_mod = '/Users/ankit/Documents/PaninskiLab/contrastive_spikes_fc_models/10neur_5c_1200s/test'\n",
    "ten_neur_200_11chan_mod = '/Users/ankit/Documents/PaninskiLab/contrastive_spikes_fc_models/10neur_11c_200_gmm/test'\n",
    "ten_neur_200_5chan_mod = '/Users/ankit/Documents/PaninskiLab/contrastive_spikes_fc_models/10neur_5c_200_gmm/test'\n",
    "fourhund_neur_200_5chan_mod = '/Users/ankit/Documents/PaninskiLab/contrastive_spikes_fc_models/real400n_200s_10ntest/test'\n",
    "fourhund_neur_200_11chan_mod = '/Users/ankit/Documents/PaninskiLab/contrastive_spikes_fc_models/real400n_200s_10ntest_11c/test'\n",
    "sixhund_neur_1200_11chan_mod = '/Users/ankit/Documents/PaninskiLab/contrastive_spikes_fc_models/600neur_11c_1200s/test'\n",
    "ckpt_fn = 'checkpoint.pth'"
   ]
  },
  {
   "cell_type": "code",
   "execution_count": 5,
   "id": "6bcce117",
   "metadata": {},
   "outputs": [
    {
     "name": "stdout",
     "output_type": "stream",
     "text": [
      "Using projector; batchnorm False with depth 3; hidden_dim=512\n",
      "Using projector; batchnorm False with depth 3; hidden_dim=512\n",
      "Using projector; batchnorm False with depth 3; hidden_dim=512\n",
      "Using projector; batchnorm False with depth 3; hidden_dim=512\n",
      "Using projector; batchnorm False with depth 3; hidden_dim=512\n",
      "Using projector; batchnorm False with depth 3; hidden_dim=512\n",
      "Using projector; batchnorm False with depth 3; hidden_dim=512\n"
     ]
    }
   ],
   "source": [
    "ten_1200_5c_model = get_fcenc_backbone(FullyConnectedEnc(input_size=5*121, out_size=5, \\\n",
    "                                        multichan=True).load(os.path.join(ten_neur_1200_5chan_mod, ckpt_fn)))\n",
    "ten_1200_11c_model = get_fcenc_backbone(FullyConnectedEnc(input_size=11*121, out_size=5, \\\n",
    "                                        multichan=True).load(os.path.join(ten_neur_1200_11chan_mod, ckpt_fn)))\n",
    "ten_200_5c_model = get_fcenc_backbone(FullyConnectedEnc(input_size=5*121, out_size=5, \\\n",
    "                                        multichan=True).load(os.path.join(ten_neur_200_5chan_mod, ckpt_fn)))\n",
    "ten_200_11c_model = get_fcenc_backbone(FullyConnectedEnc(input_size=11*121, out_size=5, \\\n",
    "                                        multichan=True).load(os.path.join(ten_neur_200_11chan_mod, ckpt_fn)))\n",
    "fourhund_5c_model = get_fcenc_backbone(FullyConnectedEnc(input_size=5*121, out_size=5, \\\n",
    "                                        multichan=True).load(os.path.join(fourhund_neur_200_5chan_mod, ckpt_fn)))\n",
    "fourhund_11c_model = get_fcenc_backbone(FullyConnectedEnc(input_size=11*121, out_size=5, \\\n",
    "                                        multichan=True).load(os.path.join(fourhund_neur_200_11chan_mod, ckpt_fn)))\n",
    "sixhund_11c_model = get_fcenc_backbone(FullyConnectedEnc(input_size=11*121, out_size=5, \\\n",
    "                                        multichan=True).load(os.path.join(sixhund_neur_1200_11chan_mod, ckpt_fn)))"
   ]
  },
  {
   "cell_type": "code",
   "execution_count": 11,
   "id": "bec0d498",
   "metadata": {
    "scrolled": true
   },
   "outputs": [
    {
     "ename": "KeyboardInterrupt",
     "evalue": "",
     "output_type": "error",
     "traceback": [
      "\u001b[0;31m---------------------------------------------------------------------------\u001b[0m",
      "\u001b[0;31mKeyboardInterrupt\u001b[0m                         Traceback (most recent call last)",
      "Input \u001b[0;32mIn [11]\u001b[0m, in \u001b[0;36m<cell line: 12>\u001b[0;34m()\u001b[0m\n\u001b[1;32m      1\u001b[0m \u001b[38;5;66;03m# 10 neur, 5 chan, 1200 spikes results\u001b[39;00m\n\u001b[1;32m      2\u001b[0m \u001b[38;5;66;03m# dy016_ood_score = gmm_monitor(ten_1200_5c_model, dy016_ood_5c_memory_loader, dy016_ood_5c_test_loader,\u001b[39;00m\n\u001b[1;32m      3\u001b[0m \u001b[38;5;66;03m#                               device='cpu', args=args)\u001b[39;00m\n\u001b[0;32m   (...)\u001b[0m\n\u001b[1;32m      9\u001b[0m \u001b[38;5;66;03m#                               device='cpu', args=args)\u001b[39;00m\n\u001b[1;32m     10\u001b[0m \u001b[38;5;66;03m# print(\"test set A data GMM score: \" + str(testset_A_score))\u001b[39;00m\n\u001b[0;32m---> 12\u001b[0m testset_A_knn_score \u001b[38;5;241m=\u001b[39m \u001b[43mgmm_monitor\u001b[49m\u001b[43m(\u001b[49m\u001b[43mten_1200_5c_model\u001b[49m\u001b[43m,\u001b[49m\u001b[43m \u001b[49m\u001b[43mid_5c_memory_loader\u001b[49m\u001b[43m,\u001b[49m\u001b[43m \u001b[49m\u001b[43mid_5c_test_loader\u001b[49m\u001b[43m,\u001b[49m\n\u001b[1;32m     13\u001b[0m \u001b[43m                              \u001b[49m\u001b[43mdevice\u001b[49m\u001b[38;5;241;43m=\u001b[39;49m\u001b[38;5;124;43m'\u001b[39;49m\u001b[38;5;124;43mcpu\u001b[39;49m\u001b[38;5;124;43m'\u001b[39;49m\u001b[43m,\u001b[49m\u001b[43m \u001b[49m\u001b[43margs\u001b[49m\u001b[38;5;241;43m=\u001b[39;49m\u001b[43margs\u001b[49m\u001b[43m)\u001b[49m\n\u001b[1;32m     14\u001b[0m \u001b[38;5;28mprint\u001b[39m(\u001b[38;5;124m\"\u001b[39m\u001b[38;5;124mtest set A data KNN score: \u001b[39m\u001b[38;5;124m\"\u001b[39m \u001b[38;5;241m+\u001b[39m \u001b[38;5;28mstr\u001b[39m(testset_A_knn_score))\n",
      "File \u001b[0;32m~/Documents/PaninskiLab/SimCLR-torch/SimCLR/ddp_utils.py:150\u001b[0m, in \u001b[0;36mgmm_monitor\u001b[0;34m(net, memory_data_loader, test_data_loader, device, hide_progress, epoch_num, targets, args)\u001b[0m\n\u001b[1;32m    148\u001b[0m covariance_type \u001b[38;5;241m=\u001b[39m \u001b[38;5;124m'\u001b[39m\u001b[38;5;124mfull\u001b[39m\u001b[38;5;124m'\u001b[39m\n\u001b[1;32m    149\u001b[0m reps_train, labels_train \u001b[38;5;241m=\u001b[39m get_torch_reps(net, memory_data_loader, device, args)\n\u001b[0;32m--> 150\u001b[0m reps_test, labels_test \u001b[38;5;241m=\u001b[39m \u001b[43mget_torch_reps\u001b[49m\u001b[43m(\u001b[49m\u001b[43mnet\u001b[49m\u001b[43m,\u001b[49m\u001b[43m \u001b[49m\u001b[43mtest_data_loader\u001b[49m\u001b[43m,\u001b[49m\u001b[43m \u001b[49m\u001b[43mdevice\u001b[49m\u001b[43m,\u001b[49m\u001b[43m \u001b[49m\u001b[43margs\u001b[49m\u001b[43m)\u001b[49m\n\u001b[1;32m    151\u001b[0m gmm \u001b[38;5;241m=\u001b[39m GaussianMixture(classes,\n\u001b[1;32m    152\u001b[0m                     random_state\u001b[38;5;241m=\u001b[39mrandom\u001b[38;5;241m.\u001b[39mrandint(\u001b[38;5;241m0\u001b[39m, \u001b[38;5;241m1000000\u001b[39m),\n\u001b[1;32m    153\u001b[0m                     covariance_type\u001b[38;5;241m=\u001b[39mcovariance_type)\u001b[38;5;241m.\u001b[39mfit(reps_train)\n\u001b[1;32m    154\u001b[0m gmm_cont_test_labels \u001b[38;5;241m=\u001b[39m gmm\u001b[38;5;241m.\u001b[39mpredict(reps_test)\n",
      "File \u001b[0;32m~/Documents/PaninskiLab/SimCLR-torch/SimCLR/utils.py:144\u001b[0m, in \u001b[0;36mget_torch_reps\u001b[0;34m(net, data_loader, device, args)\u001b[0m\n\u001b[1;32m    141\u001b[0m feature_labels \u001b[38;5;241m=\u001b[39m torch\u001b[38;5;241m.\u001b[39mtensor([])\n\u001b[1;32m    142\u001b[0m \u001b[38;5;28;01mwith\u001b[39;00m torch\u001b[38;5;241m.\u001b[39mno_grad():\n\u001b[1;32m    143\u001b[0m     \u001b[38;5;66;03m# generate feature bank\u001b[39;00m\n\u001b[0;32m--> 144\u001b[0m     \u001b[38;5;28;01mfor\u001b[39;00m data, target \u001b[38;5;129;01min\u001b[39;00m data_loader:\n\u001b[1;32m    145\u001b[0m         \u001b[38;5;28;01mif\u001b[39;00m args\u001b[38;5;241m.\u001b[39muse_chan_pos:\n\u001b[1;32m    146\u001b[0m             data, chan_pos \u001b[38;5;241m=\u001b[39m data\n",
      "File \u001b[0;32m~/miniforge3/envs/psvae/lib/python3.8/site-packages/torch/utils/data/dataloader.py:681\u001b[0m, in \u001b[0;36m_BaseDataLoaderIter.__next__\u001b[0;34m(self)\u001b[0m\n\u001b[1;32m    678\u001b[0m \u001b[38;5;28;01mif\u001b[39;00m \u001b[38;5;28mself\u001b[39m\u001b[38;5;241m.\u001b[39m_sampler_iter \u001b[38;5;129;01mis\u001b[39;00m \u001b[38;5;28;01mNone\u001b[39;00m:\n\u001b[1;32m    679\u001b[0m     \u001b[38;5;66;03m# TODO(https://github.com/pytorch/pytorch/issues/76750)\u001b[39;00m\n\u001b[1;32m    680\u001b[0m     \u001b[38;5;28mself\u001b[39m\u001b[38;5;241m.\u001b[39m_reset()  \u001b[38;5;66;03m# type: ignore[call-arg]\u001b[39;00m\n\u001b[0;32m--> 681\u001b[0m data \u001b[38;5;241m=\u001b[39m \u001b[38;5;28;43mself\u001b[39;49m\u001b[38;5;241;43m.\u001b[39;49m\u001b[43m_next_data\u001b[49m\u001b[43m(\u001b[49m\u001b[43m)\u001b[49m\n\u001b[1;32m    682\u001b[0m \u001b[38;5;28mself\u001b[39m\u001b[38;5;241m.\u001b[39m_num_yielded \u001b[38;5;241m+\u001b[39m\u001b[38;5;241m=\u001b[39m \u001b[38;5;241m1\u001b[39m\n\u001b[1;32m    683\u001b[0m \u001b[38;5;28;01mif\u001b[39;00m \u001b[38;5;28mself\u001b[39m\u001b[38;5;241m.\u001b[39m_dataset_kind \u001b[38;5;241m==\u001b[39m _DatasetKind\u001b[38;5;241m.\u001b[39mIterable \u001b[38;5;129;01mand\u001b[39;00m \\\n\u001b[1;32m    684\u001b[0m         \u001b[38;5;28mself\u001b[39m\u001b[38;5;241m.\u001b[39m_IterableDataset_len_called \u001b[38;5;129;01mis\u001b[39;00m \u001b[38;5;129;01mnot\u001b[39;00m \u001b[38;5;28;01mNone\u001b[39;00m \u001b[38;5;129;01mand\u001b[39;00m \\\n\u001b[1;32m    685\u001b[0m         \u001b[38;5;28mself\u001b[39m\u001b[38;5;241m.\u001b[39m_num_yielded \u001b[38;5;241m>\u001b[39m \u001b[38;5;28mself\u001b[39m\u001b[38;5;241m.\u001b[39m_IterableDataset_len_called:\n",
      "File \u001b[0;32m~/miniforge3/envs/psvae/lib/python3.8/site-packages/torch/utils/data/dataloader.py:1348\u001b[0m, in \u001b[0;36m_MultiProcessingDataLoaderIter._next_data\u001b[0;34m(self)\u001b[0m\n\u001b[1;32m   1345\u001b[0m \u001b[38;5;28;01melse\u001b[39;00m:\n\u001b[1;32m   1346\u001b[0m     \u001b[38;5;66;03m# no valid `self._rcvd_idx` is found (i.e., didn't break)\u001b[39;00m\n\u001b[1;32m   1347\u001b[0m     \u001b[38;5;28;01mif\u001b[39;00m \u001b[38;5;129;01mnot\u001b[39;00m \u001b[38;5;28mself\u001b[39m\u001b[38;5;241m.\u001b[39m_persistent_workers:\n\u001b[0;32m-> 1348\u001b[0m         \u001b[38;5;28;43mself\u001b[39;49m\u001b[38;5;241;43m.\u001b[39;49m\u001b[43m_shutdown_workers\u001b[49m\u001b[43m(\u001b[49m\u001b[43m)\u001b[49m\n\u001b[1;32m   1349\u001b[0m     \u001b[38;5;28;01mraise\u001b[39;00m \u001b[38;5;167;01mStopIteration\u001b[39;00m\n\u001b[1;32m   1351\u001b[0m \u001b[38;5;66;03m# Now `self._rcvd_idx` is the batch index we want to fetch\u001b[39;00m\n\u001b[1;32m   1352\u001b[0m \n\u001b[1;32m   1353\u001b[0m \u001b[38;5;66;03m# Check if the next sample has already been generated\u001b[39;00m\n",
      "File \u001b[0;32m~/miniforge3/envs/psvae/lib/python3.8/site-packages/torch/utils/data/dataloader.py:1474\u001b[0m, in \u001b[0;36m_MultiProcessingDataLoaderIter._shutdown_workers\u001b[0;34m(self)\u001b[0m\n\u001b[1;32m   1469\u001b[0m         \u001b[38;5;28mself\u001b[39m\u001b[38;5;241m.\u001b[39m_mark_worker_as_unavailable(worker_id, shutdown\u001b[38;5;241m=\u001b[39m\u001b[38;5;28;01mTrue\u001b[39;00m)\n\u001b[1;32m   1470\u001b[0m \u001b[38;5;28;01mfor\u001b[39;00m w \u001b[38;5;129;01min\u001b[39;00m \u001b[38;5;28mself\u001b[39m\u001b[38;5;241m.\u001b[39m_workers:\n\u001b[1;32m   1471\u001b[0m     \u001b[38;5;66;03m# We should be able to join here, but in case anything went\u001b[39;00m\n\u001b[1;32m   1472\u001b[0m     \u001b[38;5;66;03m# wrong, we set a timeout and if the workers fail to join,\u001b[39;00m\n\u001b[1;32m   1473\u001b[0m     \u001b[38;5;66;03m# they are killed in the `finally` block.\u001b[39;00m\n\u001b[0;32m-> 1474\u001b[0m     \u001b[43mw\u001b[49m\u001b[38;5;241;43m.\u001b[39;49m\u001b[43mjoin\u001b[49m\u001b[43m(\u001b[49m\u001b[43mtimeout\u001b[49m\u001b[38;5;241;43m=\u001b[39;49m\u001b[43m_utils\u001b[49m\u001b[38;5;241;43m.\u001b[39;49m\u001b[43mMP_STATUS_CHECK_INTERVAL\u001b[49m\u001b[43m)\u001b[49m\n\u001b[1;32m   1475\u001b[0m \u001b[38;5;28;01mfor\u001b[39;00m q \u001b[38;5;129;01min\u001b[39;00m \u001b[38;5;28mself\u001b[39m\u001b[38;5;241m.\u001b[39m_index_queues:\n\u001b[1;32m   1476\u001b[0m     q\u001b[38;5;241m.\u001b[39mcancel_join_thread()\n",
      "File \u001b[0;32m~/miniforge3/envs/psvae/lib/python3.8/multiprocessing/process.py:149\u001b[0m, in \u001b[0;36mBaseProcess.join\u001b[0;34m(self, timeout)\u001b[0m\n\u001b[1;32m    147\u001b[0m \u001b[38;5;28;01massert\u001b[39;00m \u001b[38;5;28mself\u001b[39m\u001b[38;5;241m.\u001b[39m_parent_pid \u001b[38;5;241m==\u001b[39m os\u001b[38;5;241m.\u001b[39mgetpid(), \u001b[38;5;124m'\u001b[39m\u001b[38;5;124mcan only join a child process\u001b[39m\u001b[38;5;124m'\u001b[39m\n\u001b[1;32m    148\u001b[0m \u001b[38;5;28;01massert\u001b[39;00m \u001b[38;5;28mself\u001b[39m\u001b[38;5;241m.\u001b[39m_popen \u001b[38;5;129;01mis\u001b[39;00m \u001b[38;5;129;01mnot\u001b[39;00m \u001b[38;5;28;01mNone\u001b[39;00m, \u001b[38;5;124m'\u001b[39m\u001b[38;5;124mcan only join a started process\u001b[39m\u001b[38;5;124m'\u001b[39m\n\u001b[0;32m--> 149\u001b[0m res \u001b[38;5;241m=\u001b[39m \u001b[38;5;28;43mself\u001b[39;49m\u001b[38;5;241;43m.\u001b[39;49m\u001b[43m_popen\u001b[49m\u001b[38;5;241;43m.\u001b[39;49m\u001b[43mwait\u001b[49m\u001b[43m(\u001b[49m\u001b[43mtimeout\u001b[49m\u001b[43m)\u001b[49m\n\u001b[1;32m    150\u001b[0m \u001b[38;5;28;01mif\u001b[39;00m res \u001b[38;5;129;01mis\u001b[39;00m \u001b[38;5;129;01mnot\u001b[39;00m \u001b[38;5;28;01mNone\u001b[39;00m:\n\u001b[1;32m    151\u001b[0m     _children\u001b[38;5;241m.\u001b[39mdiscard(\u001b[38;5;28mself\u001b[39m)\n",
      "File \u001b[0;32m~/miniforge3/envs/psvae/lib/python3.8/multiprocessing/popen_fork.py:44\u001b[0m, in \u001b[0;36mPopen.wait\u001b[0;34m(self, timeout)\u001b[0m\n\u001b[1;32m     42\u001b[0m \u001b[38;5;28;01mif\u001b[39;00m timeout \u001b[38;5;129;01mis\u001b[39;00m \u001b[38;5;129;01mnot\u001b[39;00m \u001b[38;5;28;01mNone\u001b[39;00m:\n\u001b[1;32m     43\u001b[0m     \u001b[38;5;28;01mfrom\u001b[39;00m \u001b[38;5;21;01mmultiprocessing\u001b[39;00m\u001b[38;5;21;01m.\u001b[39;00m\u001b[38;5;21;01mconnection\u001b[39;00m \u001b[38;5;28;01mimport\u001b[39;00m wait\n\u001b[0;32m---> 44\u001b[0m     \u001b[38;5;28;01mif\u001b[39;00m \u001b[38;5;129;01mnot\u001b[39;00m \u001b[43mwait\u001b[49m\u001b[43m(\u001b[49m\u001b[43m[\u001b[49m\u001b[38;5;28;43mself\u001b[39;49m\u001b[38;5;241;43m.\u001b[39;49m\u001b[43msentinel\u001b[49m\u001b[43m]\u001b[49m\u001b[43m,\u001b[49m\u001b[43m \u001b[49m\u001b[43mtimeout\u001b[49m\u001b[43m)\u001b[49m:\n\u001b[1;32m     45\u001b[0m         \u001b[38;5;28;01mreturn\u001b[39;00m \u001b[38;5;28;01mNone\u001b[39;00m\n\u001b[1;32m     46\u001b[0m \u001b[38;5;66;03m# This shouldn't block if wait() returned successfully.\u001b[39;00m\n",
      "File \u001b[0;32m~/miniforge3/envs/psvae/lib/python3.8/multiprocessing/connection.py:931\u001b[0m, in \u001b[0;36mwait\u001b[0;34m(object_list, timeout)\u001b[0m\n\u001b[1;32m    928\u001b[0m     deadline \u001b[38;5;241m=\u001b[39m time\u001b[38;5;241m.\u001b[39mmonotonic() \u001b[38;5;241m+\u001b[39m timeout\n\u001b[1;32m    930\u001b[0m \u001b[38;5;28;01mwhile\u001b[39;00m \u001b[38;5;28;01mTrue\u001b[39;00m:\n\u001b[0;32m--> 931\u001b[0m     ready \u001b[38;5;241m=\u001b[39m \u001b[43mselector\u001b[49m\u001b[38;5;241;43m.\u001b[39;49m\u001b[43mselect\u001b[49m\u001b[43m(\u001b[49m\u001b[43mtimeout\u001b[49m\u001b[43m)\u001b[49m\n\u001b[1;32m    932\u001b[0m     \u001b[38;5;28;01mif\u001b[39;00m ready:\n\u001b[1;32m    933\u001b[0m         \u001b[38;5;28;01mreturn\u001b[39;00m [key\u001b[38;5;241m.\u001b[39mfileobj \u001b[38;5;28;01mfor\u001b[39;00m (key, events) \u001b[38;5;129;01min\u001b[39;00m ready]\n",
      "File \u001b[0;32m~/miniforge3/envs/psvae/lib/python3.8/selectors.py:415\u001b[0m, in \u001b[0;36m_PollLikeSelector.select\u001b[0;34m(self, timeout)\u001b[0m\n\u001b[1;32m    413\u001b[0m ready \u001b[38;5;241m=\u001b[39m []\n\u001b[1;32m    414\u001b[0m \u001b[38;5;28;01mtry\u001b[39;00m:\n\u001b[0;32m--> 415\u001b[0m     fd_event_list \u001b[38;5;241m=\u001b[39m \u001b[38;5;28;43mself\u001b[39;49m\u001b[38;5;241;43m.\u001b[39;49m\u001b[43m_selector\u001b[49m\u001b[38;5;241;43m.\u001b[39;49m\u001b[43mpoll\u001b[49m\u001b[43m(\u001b[49m\u001b[43mtimeout\u001b[49m\u001b[43m)\u001b[49m\n\u001b[1;32m    416\u001b[0m \u001b[38;5;28;01mexcept\u001b[39;00m \u001b[38;5;167;01mInterruptedError\u001b[39;00m:\n\u001b[1;32m    417\u001b[0m     \u001b[38;5;28;01mreturn\u001b[39;00m ready\n",
      "\u001b[0;31mKeyboardInterrupt\u001b[0m: "
     ]
    }
   ],
   "source": [
    "# 10 neur, 5 chan, 1200 spikes results\n",
    "args.num_extra_chans = 2\n",
    "# dy016_ood_score = gmm_monitor(ten_1200_5c_model, dy016_ood_5c_memory_loader, dy016_ood_5c_test_loader,\n",
    "#                               device='cpu', args=args)\n",
    "# print(\"DY016 OOD data GMM score: \" + str(dy016_ood_score))\n",
    "# dy009_ood_score = gmm_monitor(ten_1200_5c_model, dy009_ood_5c_memory_loader, dy009_ood_5c_test_loader, \n",
    "#                               device='cpu', args=args)\n",
    "# print(\"DY009 OOD data GMM score: \" + str(dy009_ood_score))\n",
    "# testset_A_score = gmm_monitor(ten_1200_5c_model, id_5c_memory_loader, id_5c_test_loader,\n",
    "#                               device='cpu', args=args)\n",
    "# print(\"test set A data GMM score: \" + str(testset_A_score))\n",
    "\n",
    "testset_A_knn_score = gmm_monitor(ten_1200_5c_model, id_5c_memory_loader, id_5c_test_loader,\n",
    "                              device='cpu', args=args)\n",
    "print(\"test set A data KNN score: \" + str(testset_A_knn_score))\n",
    "\n"
   ]
  },
  {
   "cell_type": "code",
   "execution_count": null,
   "id": "5c1c80ce",
   "metadata": {},
   "outputs": [],
   "source": [
    "# 10 neur, 11 chan, 1200 spikes results\n",
    "args.num_extra_chans = 5\n",
    "# dy016_ood_score = gmm_monitor(ten_1200_11c_model, dy016_ood_11c_memory_loader, dy016_ood_11c_test_loader,\n",
    "#                               device='cpu', args=args)\n",
    "# print(\"DY016 OOD data score: \" + str(dy016_ood_score))\n",
    "# dy009_ood_score = gmm_monitor(ten_1200_11c_model, dy009_ood_11c_memory_loader, dy009_ood_11c_test_loader, \n",
    "#                               device='cpu', args=args)\n",
    "# print(\"DY009 OOD data score: \" + str(dy009_ood_score))\n",
    "# testset_A_score = gmm_monitor(ten_1200_11c_model, id_11c_memory_loader, id_11c_test_loader,\n",
    "#                               device='cpu', args=args)\n",
    "# print(\"test set A data score: \" + str(testset_A_score))\n",
    "\n",
    "testset_A_knn_score = gmm_monitor(ten_1200_11c_model, id_11c_memory_loader, id_11c_test_loader,\n",
    "                              device='cpu', args=args)\n",
    "print(\"test set A data KNN score: \" + str(testset_A_knn_score))"
   ]
  },
  {
   "cell_type": "code",
   "execution_count": null,
   "id": "01bda5cf",
   "metadata": {},
   "outputs": [],
   "source": [
    "# 10 neur, 5 chan, 200 spikes results\n",
    "args.num_extra_chans = 2\n",
    "# dy016_ood_score = gmm_monitor(ten_200_5c_model, dy016_ood_5c_memory_loader, dy016_ood_5c_test_loader,\n",
    "#                               device='cpu', args=args)\n",
    "# print(\"DY016 OOD data score: \" + dy016_ood_score)\n",
    "# dy009_ood_score = gmm_monitor(ten_200_5c_model, dy009_ood_5c_memory_loader, dy009_ood_5c_test_loader, \n",
    "#                               device='cpu', args=args)\n",
    "# print(\"DY009 OOD data score: \" + str(dy009_ood_score))\n",
    "# testset_A_score = gmm_monitor(ten_200_5c_model, id_5c_memory_loader, id_5c_test_loader,\n",
    "#                               device='cpu', args=args)\n",
    "# print(\"test set A data score: \" + str(testset_A_score))\n",
    "\n",
    "testset_A_knn_score = gmm_monitor(ten_200_5c_model, id_5c_memory_loader, id_5c_test_loader,\n",
    "                              device='cpu', args=args)\n",
    "print(\"test set A data KNN score: \" + str(testset_A_knn_score))"
   ]
  },
  {
   "cell_type": "code",
   "execution_count": null,
   "id": "00c99ad4",
   "metadata": {},
   "outputs": [],
   "source": [
    "# 10 neur, 11 chan, 200 spikes results\n",
    "args.num_extra_chans = 5\n",
    "# dy016_ood_score = gmm_monitor(ten_200_11c_model, dy016_ood_11c_memory_loader, dy016_ood_11c_test_loader,\n",
    "#                               device='cpu', args=args)\n",
    "# print(\"DY016 OOD data score: \" + str(dy016_ood_score))\n",
    "# dy009_ood_score = gmm_monitor(ten_200_11c_model, dy009_ood_11c_memory_loader, dy009_ood_11c_test_loader, \n",
    "#                               device='cpu', args=args)\n",
    "# print(\"DY009 OOD data score: \" + str(dy009_ood_score))\n",
    "# testset_A_score = gmm_monitor(ten_200_11c_model, id_11c_memory_loader, id_11c_test_loader,\n",
    "#                               device='cpu', args=args)\n",
    "# print(\"test set A data score: \" + str(testset_A_score))\n",
    "\n",
    "testset_A_knn_score = gmm_monitor(ten_200_11c_model, id_11c_memory_loader, id_11c_test_loader,\n",
    "                              device='cpu', args=args)\n",
    "print(\"test set A data KNN score: \" + str(testset_A_knn_score))"
   ]
  },
  {
   "cell_type": "code",
   "execution_count": null,
   "id": "54fbc7bf",
   "metadata": {},
   "outputs": [],
   "source": [
    "# 400 neur, 5 chan results\n",
    "args.num_extra_chans = 2\n",
    "# dy016_ood_score = gmm_monitor(fourhund_5c_model, dy016_ood_5c_memory_loader, dy016_ood_5c_test_loader,\n",
    "#                               device='cpu', args=args)\n",
    "# print(\"DY016 OOD data score: \" + str(dy016_ood_score))\n",
    "# dy009_ood_score = gmm_monitor(fourhund_5c_model, dy009_ood_5c_memory_loader, dy009_ood_5c_test_loader, \n",
    "#                               device='cpu', args=args)\n",
    "# print(\"DY009 OOD data score: \" + str(dy009_ood_score))\n",
    "# testset_A_score = gmm_monitor(fourhund_5c_model, id_5c_memory_loader, id_5c_test_loader,\n",
    "#                               device='cpu', args=args)\n",
    "# print(\"test set A data score: \" + str(testset_A_score))\n",
    "\n",
    "testset_A_knn_score = gmm_monitor(fourhund_5c_model, id_5c_memory_loader, id_5c_test_loader,\n",
    "                              device='cpu', args=args)\n",
    "print(\"test set A data KNN score: \" + str(testset_A_knn_score))"
   ]
  },
  {
   "cell_type": "code",
   "execution_count": null,
   "id": "aed8587f",
   "metadata": {},
   "outputs": [],
   "source": [
    "# 400 neur, 11 chan results\n",
    "args.num_extra_chans = 5\n",
    "# dy016_ood_score = gmm_monitor(fourhund_11c_model, dy016_ood_11c_memory_loader, dy016_ood_11c_test_loader,\n",
    "#                               device='cpu', args=args)\n",
    "# print(\"DY016 OOD data score: \" + str(dy016_ood_score))\n",
    "# dy009_ood_score = gmm_monitor(fourhund_11c_model, dy009_ood_11c_memory_loader, dy009_ood_11c_test_loader, \n",
    "#                               device='cpu', args=args)\n",
    "# print(\"DY009 OOD data score: \" + str(dy009_ood_score))\n",
    "# testset_A_score = gmm_monitor(fourhund_11c_model, id_11c_memory_loader, id_11c_test_loader,\n",
    "#                               device='cpu', args=args)\n",
    "# print(\"test set A data score: \" + str(testset_A_score))\n",
    "\n",
    "testset_A_knn_score = gmm_monitor(fourhund_11c_model, id_11c_memory_loader, id_11c_test_loader,\n",
    "                              device='cpu', args=args)\n",
    "print(\"test set A data KNN score: \" + str(testset_A_knn_score))"
   ]
  },
  {
   "cell_type": "code",
   "execution_count": null,
   "id": "908504e7",
   "metadata": {},
   "outputs": [],
   "source": [
    "args.num_extra_chans = 5\n",
    "dy016_ood_score = gmm_monitor(sixhund_11c_model, dy016_ood_11c_memory_loader, dy016_ood_11c_test_loader,\n",
    "                              device='cpu', args=args)\n",
    "print(\"DY016 OOD data score: \" + str(dy016_ood_score))\n",
    "dy009_ood_score = gmm_monitor(sixhund_11c_model, dy009_ood_11c_memory_loader, dy009_ood_11c_test_loader, \n",
    "                              device='cpu', args=args)\n",
    "print(\"DY009 OOD data score: \" + str(dy009_ood_score))\n",
    "testset_A_score = gmm_monitor(sixhund_11c_model, id_11c_memory_loader, id_11c_test_loader,\n",
    "                              device='cpu', args=args)\n",
    "print(\"test set A data score: \" + str(testset_A_score))\n",
    "\n",
    "testset_A_knn_score = gmm_monitor(sixhund_11c_model, id_11c_memory_loader, id_11c_test_loader,\n",
    "                              device='cpu', args=args)\n",
    "print(\"test set A data KNN score: \" + str(testset_A_knn_score))"
   ]
  },
  {
   "cell_type": "code",
   "execution_count": null,
   "id": "393e9ef9",
   "metadata": {},
   "outputs": [],
   "source": []
  }
 ],
 "metadata": {
  "kernelspec": {
   "display_name": "Python 3 (ipykernel)",
   "language": "python",
   "name": "python3"
  },
  "language_info": {
   "codemirror_mode": {
    "name": "ipython",
    "version": 3
   },
   "file_extension": ".py",
   "mimetype": "text/x-python",
   "name": "python",
   "nbconvert_exporter": "python",
   "pygments_lexer": "ipython3",
   "version": "3.10.12"
  }
 },
 "nbformat": 4,
 "nbformat_minor": 5
}
