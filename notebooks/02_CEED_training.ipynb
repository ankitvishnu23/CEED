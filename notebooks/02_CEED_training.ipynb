{
 "cells": [
  {
   "cell_type": "code",
   "execution_count": 1,
   "metadata": {
    "tags": []
   },
   "outputs": [],
   "source": [
    "%load_ext autoreload\n",
    "%autoreload 2"
   ]
  },
  {
   "cell_type": "code",
   "execution_count": 2,
   "metadata": {
    "tags": []
   },
   "outputs": [
    {
     "name": "stderr",
     "output_type": "stream",
     "text": [
      "2023-10-25 00:51:40.938982: E tensorflow/compiler/xla/stream_executor/cuda/cuda_dnn.cc:9342] Unable to register cuDNN factory: Attempting to register factory for plugin cuDNN when one has already been registered\n",
      "2023-10-25 00:51:40.939024: E tensorflow/compiler/xla/stream_executor/cuda/cuda_fft.cc:609] Unable to register cuFFT factory: Attempting to register factory for plugin cuFFT when one has already been registered\n",
      "2023-10-25 00:51:40.941003: E tensorflow/compiler/xla/stream_executor/cuda/cuda_blas.cc:1518] Unable to register cuBLAS factory: Attempting to register factory for plugin cuBLAS when one has already been registered\n",
      "2023-10-25 00:51:41.135198: I tensorflow/core/platform/cpu_feature_guard.cc:182] This TensorFlow binary is optimized to use available CPU instructions in performance-critical operations.\n",
      "To enable the following instructions: AVX2 FMA, in other operations, rebuild TensorFlow with the appropriate compiler flags.\n",
      "2023-10-25 00:51:42.508389: W tensorflow/compiler/tf2tensorrt/utils/py_utils.cc:38] TF-TRT Warning: Could not find TensorRT\n"
     ]
    }
   ],
   "source": [
    "from ceed.models.ceed import CEED\n",
    "import numpy as np\n",
    "import matplotlib.pyplot as plt"
   ]
  },
  {
   "cell_type": "code",
   "execution_count": null,
   "metadata": {},
   "outputs": [
    {
     "name": "stdout",
     "output_type": "stream",
     "text": [
      "Using projector; batchnorm False with depth 3; hidden_dim=512\n",
      "True spikes_train.npy\n",
      "Testing units: [40 42 57 77 91]\n",
      "Testing units: [40 42 57 77 91]\n",
      "number of transfomer params:  0\n",
      "number of fcpart params:  0\n",
      "number of Proj params:  268293\n",
      "number of online classifier params:  0\n",
      "model and optimizer initialized!\n",
      "{'collide': 0.4, 'crop_shift': 0.4, 'amp_jitter': 0.5, 'temporal_jitter': 0.7, 'smart_noise': 0.2}\n",
      "starting training...\n",
      "Start SimCLR training for 400 epochs, starting at 0.\n",
      "Model checkpoint and metadata will be saved at /media/cat/data/IBL_data_CEED/dab512bd-a02d-4c1f-8dbc-9155a163efc0/ds/saved_models/spikesorting_CEED_test_aug/test\n",
      "Epoch 0, time: 23.639976501464844, loss: 5.269021511077881\n",
      "Epoch 1, knn_acc:79.4, gmm_acc:60.53045760914255\n",
      "Epoch 1, time: 24.962586641311646, loss: 3.925978660583496\n",
      "Epoch 2, knn_acc:81.6, gmm_acc:59.36328485676542\n",
      "Epoch 2, time: 24.744049787521362, loss: 4.042093276977539\n"
     ]
    }
   ],
   "source": [
    "save_folder_sess1 = '/media/cat/data/IBL_data_CEED/dab512bd-a02d-4c1f-8dbc-9155a163efc0/ds'\n",
    "# example spike sorting training on a 400 neuron, 400 spike MLP model\n",
    "data_dir = save_folder_sess1\n",
    "exp_name = 'spikesorting_CEED_test_aug'\n",
    "log_dir = data_dir + '/logs/'\n",
    "ckpt_dir = data_dir + '/saved_models/'\n",
    "batch_size = 512\n",
    "num_extra_chans = 5 #11 channels total\n",
    "save_metrics = True #very slow right now\n",
    "epochs = 400\n",
    "test_units_list = [40, 42, 57, 77, 91]\n",
    "aug_p_dict = {\"collide\": 0.4,\n",
    "              \"crop_shift\": 0.4,\n",
    "              \"amp_jitter\": 0.5,\n",
    "              \"temporal_jitter\": 0.7,\n",
    "              \"smart_noise\": 0.2,\n",
    "             }\n",
    "\n",
    "ceed_test = CEED(num_extra_chans=5)\n",
    "ceed_test.train(data_dir=data_dir, exp_name=exp_name, log_dir=log_dir, epochs=epochs,\n",
    "                ckpt_dir=ckpt_dir, batch_size=batch_size, save_metrics=save_metrics, \n",
    "                test_units_list=test_units_list, aug_p_dict=aug_p_dict)"
   ]
  },
  {
   "cell_type": "code",
   "execution_count": null,
   "metadata": {},
   "outputs": [],
   "source": []
  }
 ],
 "metadata": {
  "kernelspec": {
   "display_name": "Python [conda env:ceed]",
   "language": "python",
   "name": "conda-env-ceed-py"
  },
  "language_info": {
   "codemirror_mode": {
    "name": "ipython",
    "version": 3
   },
   "file_extension": ".py",
   "mimetype": "text/x-python",
   "name": "python",
   "nbconvert_exporter": "python",
   "pygments_lexer": "ipython3",
   "version": "3.10.12"
  }
 },
 "nbformat": 4,
 "nbformat_minor": 4
}
