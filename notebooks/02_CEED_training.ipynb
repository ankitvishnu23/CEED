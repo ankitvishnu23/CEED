{
 "cells": [
  {
   "cell_type": "code",
   "execution_count": null,
   "metadata": {
    "tags": []
   },
   "outputs": [],
   "source": [
    "%load_ext autoreload\n",
    "%autoreload 2"
   ]
  },
  {
   "cell_type": "code",
   "execution_count": null,
   "metadata": {
    "tags": []
   },
   "outputs": [],
   "source": [
    "from ceed.models.ceed import CEED\n",
    "import numpy as np\n",
    "import matplotlib.pyplot as plt"
   ]
  },
  {
   "cell_type": "code",
   "execution_count": null,
   "metadata": {},
   "outputs": [],
   "source": [
    "save_folder_sess1 = '/media/cat/data/IBL_data_CEED/dab512bd-a02d-4c1f-8dbc-9155a163efc0'\n",
    "# example spike sorting training on a 400 neuron, 400 spike MLP model\n",
    "data_dir = save_folder_sess1 + '/ds'\n",
    "exp_name = 'spikesorting_CEED'\n",
    "log_dir = data_dir + '/logs/'\n",
    "ckpt_dir = data_dir + '/saved_models/'\n",
    "batch_size = 512\n",
    "num_extra_chans = 5 #11 channels total\n",
    "save_metrics = False #very slow right now\n",
    "epochs = 400\n",
    "\n",
    "ceed_test = CEED(num_extra_chans=5)\n",
    "ceed_test.train(data_dir=data_dir, exp_name=exp_name, log_dir=log_dir, epochs=epochs,\n",
    "                ckpt_dir=ckpt_dir, batch_size=batch_size, save_metrics=save_metrics)"
   ]
  }
 ],
 "metadata": {
  "kernelspec": {
   "display_name": "Python [conda env:ceed]",
   "language": "python",
   "name": "conda-env-ceed-py"
  },
  "language_info": {
   "codemirror_mode": {
    "name": "ipython",
    "version": 3
   },
   "file_extension": ".py",
   "mimetype": "text/x-python",
   "name": "python",
   "nbconvert_exporter": "python",
   "pygments_lexer": "ipython3",
   "version": "3.10.12"
  }
 },
 "nbformat": 4,
 "nbformat_minor": 4
}
