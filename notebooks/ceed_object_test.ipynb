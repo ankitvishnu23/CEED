{
 "cells": [
  {
   "cell_type": "code",
   "execution_count": null,
   "metadata": {},
   "outputs": [],
   "source": [
    "from ceed.models.model_simclr import FullyConnectedEnc\n",
    "from ceed.models.ceed import CEED"
   ]
  },
  {
   "cell_type": "code",
   "execution_count": null,
   "metadata": {},
   "outputs": [],
   "source": [
    "# example cell training a 400 neuron, 200 spike MLP model\n",
    "data_dir = '/home/av3016/ceed/datasets/real400n_200s'\n",
    "exp_name = 'real400n_200s_CEEDtest'\n",
    "log_dir = '/home/av3016/ceed/runs/logs/'\n",
    "ckpt_dir = '/home/av3016/ceed/runs/saved_models/'\n",
    "batch_size = 512\n",
    "\n",
    "ceed_test = CEED(num_extra_chans=2)\n",
    "ceed_test.train(data_dir=data_dir, exp_name=exp_name, log_dir=log_dir, ckpt_dir=ckpt_dir, batch_size=batch_size)"
   ]
  },
  {
   "cell_type": "code",
   "execution_count": null,
   "metadata": {},
   "outputs": [],
   "source": [
    "# example cell loading a 400 neuron, 200 spike MLP cell type model\n",
    "celltype_test_data = '/home/av3016/ceed/datasets/real400n_200s_cell_type'\n",
    "celltype_ckpt_dir = '/home/av3016/ceed/runs/saved_models/400neur_200s_celltype'\n",
    "\n",
    "celltype_ceed_5d = CEED(num_extra_chans=0, out_dim=5, proj_dim=5)\n",
    "celltype_ceed_5d.load(celltype_ckpt_dir)\n",
    "celltype_ceed_5d.transform(celltype_test_data)"
   ]
  },
  {
   "cell_type": "code",
   "execution_count": null,
   "metadata": {},
   "outputs": [],
   "source": [
    "# example cell loading a 400 neuron, 200 spike Transformer cell type model\n",
    "celltype_tformer_ckpt_dir = '/home/av3016/ceed/runs/saved_models/400neur_200s_celltype_tformer'\n",
    "\n",
    "celltype_ceed_tformer = CEED(num_extra_chans=0, out_dim=128, proj_dim=5, model_arch='gpt')\n",
    "celltype_ceed_tformer.load(celltype_tformer_ckpt_dir)"
   ]
  }
 ],
 "metadata": {
  "language_info": {
   "name": "python"
  },
  "orig_nbformat": 4
 },
 "nbformat": 4,
 "nbformat_minor": 2
}
