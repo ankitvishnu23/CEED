{
 "cells": [
  {
   "cell_type": "code",
   "execution_count": null,
   "metadata": {},
   "outputs": [],
   "source": [
    "from ceed.models.model_simclr import FullyConnectedEnc\n",
    "from ceed.models.ceed import CEED"
   ]
  },
  {
   "cell_type": "code",
   "execution_count": null,
   "metadata": {},
   "outputs": [],
   "source": [
    "ceed_test = CEED(num_extra_chans=2)"
   ]
  },
  {
   "cell_type": "code",
   "execution_count": null,
   "metadata": {},
   "outputs": [],
   "source": [
    "data_dir = '/home/av3016/ceed/datasets/real400n_200s'\n",
    "exp_name = 'real400n_200s_CEEDtest'\n",
    "log_dir = '/home/av3016/ceed/runs/logs/'\n",
    "ckpt_dir = '/home/av3016/ceed/runs/saved_models/'\n",
    "batch_size = 512\n",
    "\n",
    "ceed_test.train(data_dir=data_dir, exp_name=exp_name, log_dir=log_dir, ckpt_dir=ckpt_dir, batch_size=batch_size)"
   ]
  }
 ],
 "metadata": {
  "language_info": {
   "name": "python"
  },
  "orig_nbformat": 4
 },
 "nbformat": 4,
 "nbformat_minor": 2
}
