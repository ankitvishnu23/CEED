{
 "cells": [
  {
   "attachments": {},
   "cell_type": "markdown",
   "metadata": {},
   "source": [
    "## Custom Ephys Recording Data\n",
    "In order to use your own custom ephys data recordings with CEED there are a few data objects that must be generated from such recordings for any\n",
    "type of dataset you wish to create.\n",
    "\n",
    "These objects are the **recording object**, **spike index**, and **probe geometry**."
   ]
  },
  {
   "cell_type": "markdown",
   "metadata": {},
   "source": [
    "#### Recording object\n",
    "\n",
    "The recording object is a SpikeInterface channel recording of a binary file containing your electrophysiology channel recording. This recording will be a N x T shaped object, where N is the number of recorded neural units and T is the total number of samples recorded (T = sampling rate x # of seconds). In order to load a binary file into SpikeInterface to create your recording object, you can refer to the cell below..."
   ]
  },
  {
   "cell_type": "code",
   "execution_count": null,
   "metadata": {
    "vscode": {
     "languageId": "plaintext"
    }
   },
   "outputs": [],
   "source": [
    "import spikeinterface.full as si\n",
    "\n",
    "save_folder = '/path/to/folder/containing/your/binary/file'\n",
    "rec_obj = si.read_binary_folder(save_folder)"
   ]
  },
  {
   "cell_type": "markdown",
   "metadata": {},
   "source": [
    "#### Spike Index\n",
    "\n",
    "The spike index is an object that is of shape (2, len(spike_train)) or (3, len(spike_train)) that contains the spike train of your recording, max amplitude channel of each spike in the spike train(, and the putative spike sorted neural unit from which each spike originates). It is recommended to spike sort your channel recording in order to get the spike train of your recording and the rest of the information needed for the spike index. \n",
    "\n",
    "You will need to download and use a spike sorter, such as kilosort, on the ephys recording separate from this codebase. Once this is done and you have a spike train, the putative neuronal unit for each index in the spike train(, and the max channels of each putative unit) you can make a spike index as follows:"
   ]
  },
  {
   "cell_type": "code",
   "execution_count": null,
   "metadata": {
    "vscode": {
     "languageId": "plaintext"
    }
   },
   "outputs": [],
   "source": [
    "spike_index = np.vstack(\n",
    "            [\n",
    "                spike_train,\n",
    "                np.array([max_channels[unit] for unit in spike_train_units]),\n",
    "                spike_train_units,\n",
    "            ]\n",
    ")"
   ]
  },
  {
   "cell_type": "markdown",
   "metadata": {},
   "source": [
    "#### Probe Geometry\n",
    "\n",
    "The probe geometry will have shape (# of channels, 2/3), where each row of the object is the x, y(, z) location of the channel on the electrophysiology probe. This information completely describes the layout of the probe and will be used to create the channel index. "
   ]
  }
 ],
 "metadata": {
  "language_info": {
   "name": "python"
  }
 },
 "nbformat": 4,
 "nbformat_minor": 2
}
