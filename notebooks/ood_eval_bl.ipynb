{
 "cells": [
  {
   "cell_type": "code",
   "execution_count": 28,
   "id": "6a45facf",
   "metadata": {},
   "outputs": [],
   "source": [
    "from pathlib import Path\n",
    "import numpy as np\n",
    "# import h5py\n",
    "from tqdm.auto import tqdm, trange\n",
    "import scipy.io\n",
    "import time\n",
    "import torch\n",
    "import random\n",
    "import math\n",
    "import shutil\n",
    "from sklearn.decomposition import PCA\n",
    "import scipy as sp\n",
    "import scipy.signal\n",
    "import os\n",
    "import pandas as pd\n",
    "from torch import nn\n",
    "from torchvision import transforms, datasets\n",
    "from torch.utils.data import Dataset\n",
    "from scipy.spatial.distance import cdist\n",
    "# import spikeinterface.core as sc\n",
    "# import spikeinterface.full as si\n",
    "from typing import Any, Callable, Optional, Tuple\n",
    "\n",
    "from analysis.projections import pca_train, pca, get_flattened_data\n",
    "from analysis.plotting import plot_gmm, plot_closest_spikes\n",
    "from analysis.encoder_utils import load_GPT_backbone, get_fcenc_backbone\n",
    "from analysis.cluster import GMM, HDBSCAN\n",
    "from sklearn.mixture import GaussianMixture\n",
    "from sklearn.metrics import adjusted_rand_score\n",
    "from analysis.cluster import MeanShift\n",
    "from analysis.benchmarking import class_scores, avg_score, per_class_accs, avg_class_accs\n",
    "import matplotlib.patheffects as pe\n",
    "\n",
    "from ceed.models.model_simclr import FullyConnectedEnc\n",
    "from utils.utils import gmm_monitor, knn_monitor\n",
    "from data_aug.wf_data_augs import Crop\n",
    "from data_aug.contrastive_learning_dataset import WFDataset_lab "
   ]
  },
  {
   "cell_type": "code",
   "execution_count": 29,
   "id": "9fddcf02",
   "metadata": {},
   "outputs": [
    {
     "name": "stdout",
     "output_type": "stream",
     "text": [
      "1\n"
     ]
    }
   ],
   "source": [
    "# class Args(Object):\n",
    "#     def __init__(epoch_nums=1):\n",
    "#         epochs = epoch_nums\n",
    "    \n",
    "class Args(object):\n",
    "    pass\n",
    "\n",
    "args = Args()\n",
    "args.epochs = 1\n",
    "args.use_chan_pos = False\n",
    "args.use_gpt = False\n",
    "print(args.epochs)"
   ]
  },
  {
   "cell_type": "code",
   "execution_count": 83,
   "id": "0d8fd619",
   "metadata": {},
   "outputs": [],
   "source": [
    "ten_neur_id_path_dy016 = '/Users/ankit/Documents/PaninskiLab/contrastive_spikes/dy016_random_choice_fix_mc'\n",
    "ten_neur_id_unshifted_path_dy016 = '/Users/ankit/Documents/PaninskiLab/contrastive_spikes/dy016_10n_1200s_pcaunshifted'\n",
    "ten_neur_ood_path_dy016 = '/Users/ankit/Documents/PaninskiLab/contrastive_spikes/dy016_10_neuron_400ood'\n",
    "ten_neur_ood_path_dy009 = '/Users/ankit/Documents/PaninskiLab/contrastive_spikes/dy009_10_neuron_400ood'\n",
    "fourhund_neur_path = '/Users/ankit/Documents/PaninskiLab/contrastive_spikes/real400n_200s'\n",
    "fourhund_neur_1200_path = '/Users/ankit/Documents/PaninskiLab/contrastive_spikes/real400n_1200s'\n",
    "threenine_neur_1200_path = '/Users/ankit/Documents/PaninskiLab/contrastive_spikes/real390n_1200s'\n",
    "threenine_neur_200_path = '/Users/ankit/Documents/PaninskiLab/contrastive_spikes/real390n_200s'\n",
    "sixhund_neur_path = '/Users/ankit/Documents/PaninskiLab/contrastive_spikes/real600n_1200s'\n",
    "test_setA = '/Users/ankit/Documents/PaninskiLab/contrastive_spikes/dy016_og_goodunit_subset'\n",
    "test_setA_unshifted = '/Users/ankit/Documents/PaninskiLab/contrastive_spikes/dy016_10n_200s_pcaunshifted'\n",
    "test_set_zfm = '/Users/ankit/Documents/PaninskiLab/contrastive_spikes/zfm_10n_OOD_set_hp'\n",
    "test_fn = 'spikes_test.npy' \n",
    "train_fn = 'spikes_train.npy'\n",
    "\n",
    "single_chan_ckpt = '/Users/ankit/Documents/PaninskiLab/spike-psvae/pretrained/single_chan_denoiser.pt'"
   ]
  },
  {
   "cell_type": "code",
   "execution_count": 84,
   "id": "4c4a320b",
   "metadata": {},
   "outputs": [],
   "source": [
    "# class WFDataset_lab(Dataset):\n",
    "#     train_set_fn = \"spikes_train.npy\"\n",
    "#     train_targets_fn = \"labels_train.npy\"\n",
    "#     spike_mcs_train_fn = \"channel_num_train.npy\"\n",
    "#     chan_coords_train_fn = \"channel_spike_locs_train.npy\"\n",
    "\n",
    "#     test_set_fn = \"spikes_test.npy\"\n",
    "#     test_targets_fn = \"labels_test.npy\"\n",
    "#     spike_mcs_test_fn = \"channel_num_test.npy\"\n",
    "#     chan_coords_test_fn = \"channel_spike_locs_test.npy\"\n",
    "\n",
    "#     val_set_fn = \"spikes_val.npy\"\n",
    "#     val_targets_fn = \"labels_val.npy\"\n",
    "#     spike_mcs_val_fn = \"channel_num_val.npy\"\n",
    "#     chan_coords_val_fn = \"channel_spike_locs_val.npy\"\n",
    "    \n",
    "#     def __init__(\n",
    "#         self,\n",
    "#         root: str,\n",
    "#         use_chan_pos: bool = False, \n",
    "#         multi_chan: bool = False,\n",
    "#         split: str = 'train',\n",
    "#         transform: Optional[Callable] = None,\n",
    "        \n",
    "#     ) -> None:\n",
    "\n",
    "#         super().__init__()\n",
    "#         if split == 'train':\n",
    "#             print(multi_chan, self.train_set_fn)\n",
    "#             self.data = np.load(os.path.join(root, self.train_set_fn)).astype('float32')\n",
    "#             self.targets = np.load(os.path.join(root, self.train_targets_fn))\n",
    "#             self.chan_nums = np.load(os.path.join(root, self.spike_mcs_train_fn))\n",
    "#             self.channel_locs = np.load(os.path.join(root, self.chan_coords_train_fn))\n",
    "#         elif split == 'test':\n",
    "#             self.data = np.load(os.path.join(root, self.test_set_fn)).astype('float32')\n",
    "#             self.targets = np.load(os.path.join(root, self.test_targets_fn))\n",
    "#             self.chan_nums = np.load(os.path.join(root, self.spike_mcs_test_fn))\n",
    "#             self.channel_locs = np.load(os.path.join(root, self.chan_coords_test_fn))\n",
    "#         elif split == 'val':\n",
    "#             self.data = np.load(os.path.join(root, self.val_set_fn)).astype('float32')\n",
    "#             self.targets = np.load(os.path.join(root, self.val_targets_fn))\n",
    "#             self.chan_nums = np.load(os.path.join(root, self.spike_mcs_val_fn))\n",
    "#             self.channel_locs = np.load(os.path.join(root, self.chan_coords_val_fn))\n",
    "            \n",
    "#         # self.data: Any = []\n",
    "\n",
    "#         # now load the numpy array\n",
    "#         print(self.data.shape)\n",
    "#         self.root = root\n",
    "#         self.transform = transform\n",
    "#         self.use_chan_pos = use_chan_pos\n",
    "#         self.num_classes = len(np.unique(self.targets))\n",
    "\n",
    "#     def __getitem__(self, index: int) -> Any :\n",
    "#         \"\"\"\n",
    "#         Args:\n",
    "#             index (int): Index\n",
    "#         Returns:\n",
    "#             tensor: wf\n",
    "#         \"\"\"\n",
    "#         wf = self.data[index].astype('float32')\n",
    "#         y = self.targets[index].astype('long')\n",
    "#         chan_nums = self.chan_nums[index]\n",
    "#         chan_loc = self.channel_locs[index].astype('float32')\n",
    "\n",
    "#         # doing this so that it is a tensor\n",
    "#         # wf = torch.from_numpy(wf)\n",
    "#         if self.transform is not None and self.use_chan_pos:\n",
    "#             wf, chan_loc = self.transform([wf, chan_nums, chan_loc])\n",
    "#         elif self.transform is not None:\n",
    "#             wf = self.transform([wf, chan_nums, y])\n",
    "\n",
    "#         if self.use_chan_pos:\n",
    "#             return [wf, chan_loc], y\n",
    "\n",
    "#         return wf, y\n",
    "\n",
    "#     def __len__(self) -> int:\n",
    "#         return len(self.data)\n",
    "    \n",
    "\n",
    "# class UnCrop(object):\n",
    "#     def __init__(self, num_extra_chans=2, ignore_chan_num=True, unshift=True, max_chans=None):\n",
    "#         self.num_extra_chans = num_extra_chans\n",
    "#         self.ignore_chan_num = ignore_chan_num\n",
    "#         self.unshift = unshift\n",
    "#         self.max_chans = max_chans\n",
    "        \n",
    "#     def __call__(self, sample):\n",
    "#         if len(sample) == 3:\n",
    "#             wf, chan_nums, y = sample\n",
    "#         else:\n",
    "#             wf, chan_nums = sample\n",
    "        \n",
    "#         if len(wf.shape) == 1:\n",
    "#             wf = np.expand_dims(wf, axis=0)\n",
    "#         n_chans = wf.shape[0]\n",
    "#         n_times = wf.shape[1]\n",
    "        \n",
    "#         max_chan_ind = math.floor(n_chans/2)\n",
    "\n",
    "#         if self.unshift:\n",
    "#             curr_mc = self.max_chans[y]\n",
    "#             max_chan_ind = list(chan_nums).index(curr_mc)\n",
    "#         wf = wf[max_chan_ind-self.num_extra_chans:max_chan_ind+self.num_extra_chans+1]\n",
    "# #         if wf.shape[0] != 2*self.num_extra_chans + 1:\n",
    "#         if y == 1:\n",
    "#             print(y)\n",
    "#             print(chan_nums)\n",
    "#             print(max_chan_ind)\n",
    "#             print(wf.shape)\n",
    "\n",
    "#         if not self.ignore_chan_num:\n",
    "#             if type(chan_nums) != np.int64: \n",
    "#                 chan_nums = chan_nums[max_chan_ind-self.num_extra_chans:max_chan_ind+self.num_extra_chans+1]\n",
    "\n",
    "#         # in single channel case the wf will become 1 dimensional\n",
    "#         if len(wf.shape) == 1:\n",
    "#             wf = np.expand_dims(wf, axis=0)\n",
    "        \n",
    "#         return wf"
   ]
  },
  {
   "cell_type": "code",
   "execution_count": 85,
   "id": "2fb32c3a",
   "metadata": {
    "scrolled": true
   },
   "outputs": [
    {
     "name": "stdout",
     "output_type": "stream",
     "text": [
      "True spikes_train.npy\n",
      "(2000, 21, 121)\n"
     ]
    },
    {
     "name": "stderr",
     "output_type": "stream",
     "text": [
      "100%|████████████████████████████████████████████████████████████████████████████████████████████████████████████████████████████████████████████████████████████████████| 2000/2000 [00:00<00:00, 178716.78it/s]\n",
      "100%|██████████████████████████████████████████████████████████████████████████████████████████████████████████████████████████████████████████████████████████████████████| 2000/2000 [00:00<00:00, 2108.69it/s]\n"
     ]
    },
    {
     "name": "stdout",
     "output_type": "stream",
     "text": [
      "(2000, 21, 121)\n"
     ]
    },
    {
     "name": "stderr",
     "output_type": "stream",
     "text": [
      "100%|████████████████████████████████████████████████████████████████████████████████████████████████████████████████████████████████████████████████████████████████████| 2000/2000 [00:00<00:00, 207618.26it/s]\n",
      "100%|██████████████████████████████████████████████████████████████████████████████████████████████████████████████████████████████████████████████████████████████████████| 2000/2000 [00:00<00:00, 2069.38it/s]\n"
     ]
    },
    {
     "name": "stdout",
     "output_type": "stream",
     "text": [
      "True spikes_train.npy\n",
      "(2000, 21, 121)\n"
     ]
    },
    {
     "name": "stderr",
     "output_type": "stream",
     "text": [
      "100%|████████████████████████████████████████████████████████████████████████████████████████████████████████████████████████████████████████████████████████████████████| 2000/2000 [00:00<00:00, 183401.65it/s]\n",
      "100%|███████████████████████████████████████████████████████████████████████████████████████████████████████████████████████████████████████████████████████████████████████| 2000/2000 [00:02<00:00, 962.60it/s]\n"
     ]
    },
    {
     "name": "stdout",
     "output_type": "stream",
     "text": [
      "(2000, 21, 121)\n"
     ]
    },
    {
     "name": "stderr",
     "output_type": "stream",
     "text": [
      "100%|████████████████████████████████████████████████████████████████████████████████████████████████████████████████████████████████████████████████████████████████████| 2000/2000 [00:00<00:00, 173043.05it/s]\n",
      "100%|██████████████████████████████████████████████████████████████████████████████████████████████████████████████████████████████████████████████████████████████████████| 2000/2000 [00:01<00:00, 1002.73it/s]\n"
     ]
    }
   ],
   "source": [
    "# dy016 ID train data\n",
    "# dy016_id_5c_train_dataset = WFDataset_lab(ten_neur_id_path_dy016, split='train', multi_chan=True, transform=Crop(prob=0.0, num_extra_chans=2, ignore_chan_num=True), use_chan_pos=False)\n",
    "# dy016_id_5c_train_data, dy016_id_5c_train_labels = get_flattened_data(dy016_id_5c_train_dataset)\n",
    "# dy016_denoised_id_5c_train_data, dy016_denoised_id_5c_train_labels = get_flattened_data(dy016_id_5c_train_dataset, denoise=True, denoise_path=single_chan_ckpt)\n",
    "\n",
    "# dy016_id_11c_train_dataset = WFDataset_lab(ten_neur_id_path_dy016, split='train', multi_chan=True, transform=Crop(prob=0.0, num_extra_chans=5, ignore_chan_num=True), use_chan_pos=False)\n",
    "# dy016_id_11c_train_data, dy016_id_11c_train_labels = get_flattened_data(dy016_id_11c_train_dataset)\n",
    "# dy016_denoised_id_11c_train_data, dy016_denoised_id_11c_train_labels = get_flattened_data(dy016_id_11c_train_dataset, denoise=True, denoise_path=single_chan_ckpt)\n",
    "\n",
    "# dy016 ID train data (Unshifted for PCA)\n",
    "# dy016_unshifted_id_3c_train_dataset = WFDataset_lab(ten_neur_id_unshifted_path_dy016, split='train', multi_chan=True, transform=Crop(prob=0.0, num_extra_chans=1, ignore_chan_num=True), use_chan_pos=False)\n",
    "# dy016_unshifted_id_3c_train_data, dy016_unshifted_id_3c_train_labels = get_flattened_data(dy016_unshifted_id_3c_train_dataset)\n",
    "# dy016_unshifted_denoised_id_3c_train_data, dy016_unshifted_denoised_id_3c_train_labels = get_flattened_data(dy016_unshifted_id_3c_train_dataset, denoise=True, denoise_path=single_chan_ckpt)\n",
    "\n",
    "# dy016_unshifted_id_5c_train_dataset = WFDataset_lab(ten_neur_id_unshifted_path_dy016, split='train', multi_chan=True, transform=Crop(prob=0.0, num_extra_chans=2, ignore_chan_num=True), use_chan_pos=False)\n",
    "# dy016_unshifted_id_5c_train_data, dy016_unshifted_id_5c_train_labels = get_flattened_data(dy016_unshifted_id_5c_train_dataset)\n",
    "# dy016_unshifted_denoised_id_5c_train_data, dy016_unshifted_denoised_id_5c_train_labels = get_flattened_data(dy016_unshifted_id_5c_train_dataset, denoise=True, denoise_path=single_chan_ckpt)\n",
    "\n",
    "# dy016_unshifted_id_11c_train_dataset = WFDataset_lab(ten_neur_id_unshifted_path_dy016, split='train', multi_chan=True, transform=Crop(prob=0.0, num_extra_chans=5, ignore_chan_num=True), use_chan_pos=False)\n",
    "# dy016_unshifted_id_11c_train_data, dy016_unshifted_id_11c_train_labels = get_flattened_data(dy016_unshifted_id_11c_train_dataset)\n",
    "# dy016_unshifted_denoised_id_11c_train_data, dy016_unshifted_denoised_id_11c_train_labels = get_flattened_data(dy016_unshifted_id_11c_train_dataset, denoise=True, denoise_path=single_chan_ckpt)\n",
    "\n",
    "# 400 neuron, 200 spikes train data\n",
    "# fourhund_5c_train_dataset = WFDataset_lab(fourhund_neur_path, split='train', multi_chan=True, transform=Crop(prob=0.0, num_extra_chans=2, ignore_chan_num=True), use_chan_pos=False)\n",
    "# fourhund_5c_train_data, fourhund_5c_train_labels = get_flattened_data(fourhund_5c_train_dataset)\n",
    "# fourhund_denoised_5c_train_data, fourhund_denoised_5c_train_labels = get_flattened_data(fourhund_5c_train_dataset, denoise=True, denoise_path=single_chan_ckpt)\n",
    "\n",
    "# fourhund_11c_train_dataset = WFDataset_lab(fourhund_neur_path, split='train', multi_chan=True, transform=Crop(prob=0.0, num_extra_chans=5, ignore_chan_num=True), use_chan_pos=False)\n",
    "# fourhund_11c_train_data, fourhund_11c_train_labels = get_flattened_data(fourhund_11c_train_dataset)\n",
    "# fourhund_denoised_11c_train_data, fourhund_denoised_11c_train_labels = get_flattened_data(fourhund_11c_train_dataset, denoise=True, denoise_path=single_chan_ckpt)\n",
    "\n",
    "# 400 neuron, 1200 spikes train data\n",
    "# fourhund_1200_5c_train_dataset = WFDataset_lab(fourhund_neur_1200_path, split='train', multi_chan=True, transform=Crop(prob=0.0, num_extra_chans=2, ignore_chan_num=True), use_chan_pos=False)\n",
    "# fourhund_1200_5c_train_data, fourhund_1200_5c_train_labels = get_flattened_data(fourhund_1200_5c_train_dataset)\n",
    "# fourhund_1200_denoised_5c_train_data, fourhund_1200_denoised_5c_train_labels = get_flattened_data(fourhund_1200_5c_train_dataset, denoise=True, denoise_path=single_chan_ckpt)\n",
    "\n",
    "# fourhund_1200_11c_train_dataset = WFDataset_lab(fourhund_neur_1200_path, split='train', multi_chan=True, transform=Crop(prob=0.0, num_extra_chans=5, ignore_chan_num=True), use_chan_pos=False)\n",
    "# fourhund_1200_11c_train_data, fourhund_1200_11c_train_labels = get_flattened_data(fourhund_1200_11c_train_dataset)\n",
    "# fourhund_1200_denoised_11c_train_data, fourhund_1200_denoised_11c_train_labels = get_flattened_data(fourhund_1200_11c_train_dataset, denoise=True, denoise_path=single_chan_ckpt)\n",
    "\n",
    "# 390 neuron, 1200 spikes train data\n",
    "# threenine_1200_5c_train_dataset = WFDataset_lab(threenine_neur_1200_path, split='train', multi_chan=True, transform=Crop(prob=0.0, num_extra_chans=2, ignore_chan_num=True), use_chan_pos=False)\n",
    "# threenine_1200_5c_train_data, threenine_1200_5c_train_labels = get_flattened_data(threenine_1200_5c_train_dataset)\n",
    "# threenine_1200_denoised_5c_train_data, threenine_1200_denoised_5c_train_labels = get_flattened_data(threenine_1200_5c_train_dataset, denoise=True, denoise_path=single_chan_ckpt)\n",
    "\n",
    "# threenine_1200_11c_train_dataset = WFDataset_lab(threenine_neur_1200_path, split='train', multi_chan=True, transform=Crop(prob=0.0, num_extra_chans=5, ignore_chan_num=True), use_chan_pos=False)\n",
    "# threenine_1200_11c_train_data, threenine_1200_11c_train_labels = get_flattened_data(threenine_1200_11c_train_dataset)\n",
    "# threenine_1200_denoised_11c_train_data, threenine_1200_denoised_11c_train_labels = get_flattened_data(threenine_1200_11c_train_dataset, denoise=True, denoise_path=single_chan_ckpt)\n",
    "\n",
    "# 390 neuron, 1200 spikes train data\n",
    "# threenine_200_5c_train_dataset = WFDataset_lab(threenine_neur_200_path, split='train', multi_chan=True, transform=Crop(prob=0.0, num_extra_chans=2, ignore_chan_num=True), use_chan_pos=False)\n",
    "# threenine_200_5c_train_data, threenine_200_5c_train_labels = get_flattened_data(threenine_200_5c_train_dataset)\n",
    "# threenine_200_denoised_5c_train_data, threenine_200_denoised_5c_train_labels = get_flattened_data(threenine_200_5c_train_dataset, denoise=True, denoise_path=single_chan_ckpt)\n",
    "\n",
    "# threenine_200_11c_train_dataset = WFDataset_lab(threenine_neur_200_path, split='train', multi_chan=True, transform=Crop(prob=0.0, num_extra_chans=5, ignore_chan_num=True), use_chan_pos=False)\n",
    "# threenine_200_11c_train_data, threenine_200_11c_train_labels = get_flattened_data(threenine_200_11c_train_dataset)\n",
    "# threenine_200_denoised_11c_train_data, threenine_200_denoised_11c_train_labels = get_flattened_data(threenine_200_11c_train_dataset, denoise=True, denoise_path=single_chan_ckpt)\n",
    "\n",
    "# dy016 ood data loaders\n",
    "# dy016_ood_5c_memory_dataset = WFDataset_lab(ten_neur_ood_path_dy016, split='train', multi_chan=True, transform=Crop(prob=0.0, num_extra_chans=2, ignore_chan_num=True), use_chan_pos=False)\n",
    "# dy016_ood_5c_memory_data, dy016_ood_5c_memory_labels = get_flattened_data(dy016_ood_5c_memory_dataset)\n",
    "# dy016_denoised_ood_5c_memory_data, dy016_denoised_ood_5c_memory_labels = get_flattened_data(dy016_ood_5c_memory_dataset, denoise=True, denoise_path=single_chan_ckpt)\n",
    "\n",
    "# dy016_ood_5c_test_dataset = WFDataset_lab(ten_neur_ood_path_dy016, split='test', multi_chan=True, transform=Crop(prob=0.0, num_extra_chans=2, ignore_chan_num=True), use_chan_pos=False)\n",
    "# dy016_ood_5c_test_data, dy016_ood_5c_test_labels = get_flattened_data(dy016_ood_5c_test_dataset)\n",
    "# dy016_denoised_ood_5c_test_data, dy016_denoised_ood_5c_test_labels = get_flattened_data(dy016_ood_5c_test_dataset, denoise=True, denoise_path=single_chan_ckpt)\n",
    "\n",
    "# dy016_ood_11c_memory_dataset = WFDataset_lab(ten_neur_ood_path_dy016, split='train', multi_chan=True, transform=Crop(prob=0.0, num_extra_chans=5, ignore_chan_num=True), use_chan_pos=False)\n",
    "# dy016_ood_11c_memory_data, dy016_ood_11c_memory_labels = get_flattened_data(dy016_ood_11c_memory_dataset)\n",
    "# dy016_denoised_ood_11c_memory_data, dy016_denoised_ood_11c_memory_labels = get_flattened_data(dy016_ood_11c_memory_dataset, denoise=True, denoise_path=single_chan_ckpt)\n",
    "\n",
    "# dy016_ood_11c_test_dataset = WFDataset_lab(ten_neur_ood_path_dy016, split='test', multi_chan=True, transform=Crop(prob=0.0, num_extra_chans=5, ignore_chan_num=True), use_chan_pos=False)\n",
    "# dy016_ood_11c_test_data, dy016_ood_11c_test_labels = get_flattened_data(dy016_ood_11c_test_dataset)\n",
    "# dy016_denoised_ood_11c_test_data, dy016_denoised_ood_11c_test_labels = get_flattened_data(dy016_ood_11c_test_dataset, denoise=True, denoise_path=single_chan_ckpt)\n",
    "\n",
    "# dy009 ood data loaders\n",
    "# dy009_ood_5c_memory_dataset = WFDataset_lab(ten_neur_ood_path_dy009, split='train', multi_chan=True, transform=Crop(prob=0.0, num_extra_chans=2, ignore_chan_num=True), use_chan_pos=False)\n",
    "# dy009_ood_5c_memory_data, dy009_ood_5c_memory_labels = get_flattened_data(dy009_ood_5c_memory_dataset)\n",
    "# dy009_denoised_ood_5c_memory_data, dy009_denoised_ood_5c_memory_labels = get_flattened_data(dy009_ood_5c_memory_dataset, denoise=True, denoise_path=single_chan_ckpt)\n",
    "\n",
    "# dy009_ood_5c_test_dataset = WFDataset_lab(ten_neur_ood_path_dy009, split='test', multi_chan=True, transform=Crop(prob=0.0, num_extra_chans=2, ignore_chan_num=True), use_chan_pos=False)\n",
    "# dy009_ood_5c_test_data, dy009_ood_5c_test_labels = get_flattened_data(dy016_ood_5c_test_dataset)\n",
    "# dy009_denoised_ood_5c_test_data, dy009_denoised_ood_5c_test_labels = get_flattened_data(dy009_ood_5c_memory_dataset, denoise=True, denoise_path=single_chan_ckpt)\n",
    "\n",
    "# dy009_ood_11c_memory_dataset = WFDataset_lab(ten_neur_ood_path_dy009, split='train', multi_chan=True, transform=Crop(prob=0.0, num_extra_chans=5, ignore_chan_num=True), use_chan_pos=False)\n",
    "# dy009_ood_11c_memory_data, dy009_ood_11c_memory_labels = get_flattened_data(dy009_ood_11c_memory_dataset)\n",
    "# dy009_denoised_ood_11c_memory_data, dy009_denoised_ood_11c_memory_labels = get_flattened_data(dy009_ood_11c_memory_dataset, denoise=True, denoise_path=single_chan_ckpt)\n",
    "\n",
    "# dy009_ood_11c_test_dataset = WFDataset_lab(ten_neur_ood_path_dy009, split='test', multi_chan=True, transform=Crop(prob=0.0, num_extra_chans=5, ignore_chan_num=True), use_chan_pos=False)\n",
    "# dy009_ood_11c_test_data, dy009_ood_11c_test_labels = get_flattened_data(dy009_ood_11c_test_dataset)\n",
    "# dy009_denoised_ood_11c_test_data, dy009_denoised_ood_11c_test_labels = get_flattened_data(dy009_ood_11c_test_dataset, denoise=True, denoise_path=single_chan_ckpt)\n",
    "\n",
    "# ten neuron ID data loaders\n",
    "# dy009 ood data loaders\n",
    "# id_5c_memory_dataset = WFDataset_lab(test_setA, split='train', multi_chan=True, transform=Crop(prob=0.0, num_extra_chans=2, ignore_chan_num=True), use_chan_pos=False)\n",
    "# id_5c_memory_data, id_5c_memory_labels = get_flattened_data(id_5c_memory_dataset)\n",
    "# id_denoised_5c_memory_data, id_denoised_5c_memory_labels = get_flattened_data(id_5c_memory_dataset, denoise=True, denoise_path=single_chan_ckpt)\n",
    "\n",
    "# id_5c_test_dataset = WFDataset_lab(test_setA, split='test', multi_chan=True, transform=Crop(prob=0.0, num_extra_chans=2, ignore_chan_num=True), use_chan_pos=False)\n",
    "# id_5c_test_data, id_5c_test_labels = get_flattened_data(id_5c_test_dataset)\n",
    "# id_denoised_5c_test_data, id_denoised_5c_test_labels = get_flattened_data(id_5c_test_dataset, denoise=True, denoise_path=single_chan_ckpt)\n",
    "\n",
    "# id_11c_memory_dataset = WFDataset_lab(test_setA, split='train', multi_chan=True, transform=Crop(prob=0.0, num_extra_chans=5, ignore_chan_num=True), use_chan_pos=False)\n",
    "# id_11c_memory_data, id_11c_memory_labels = get_flattened_data(id_11c_memory_dataset)\n",
    "# id_denoised_11c_memory_data, id_denoised_11c_memory_labels = get_flattened_data(id_11c_memory_dataset, denoise=True, denoise_path=single_chan_ckpt)\n",
    "\n",
    "# id_11c_test_dataset = WFDataset_lab(test_setA, split='test', multi_chan=True, transform=Crop(prob=0.0, num_extra_chans=5, ignore_chan_num=True), use_chan_pos=False)\n",
    "# id_11c_test_data, id_11c_test_labels = get_flattened_data(id_11c_test_dataset)\n",
    "# id_denoised_11c_test_data, id_denoised_11c_test_labels = get_flattened_data(id_11c_test_dataset, denoise=True, denoise_path=single_chan_ckpt)\n",
    "\n",
    "# ZFM OOD recording data loaders\n",
    "zfm_5c_memory_dataset = WFDataset_lab(test_set_zfm, split='train', multi_chan=True, transform=Crop(prob=0.0, num_extra_chans=2, ignore_chan_num=True), use_chan_pos=False)\n",
    "zfm_5c_memory_data, zfm_5c_memory_labels = get_flattened_data(zfm_5c_memory_dataset)\n",
    "zfm_denoised_5c_memory_data, zfm_denoised_5c_memory_labels = get_flattened_data(zfm_5c_memory_dataset, denoise=True, denoise_path=single_chan_ckpt)\n",
    "\n",
    "zfm_5c_test_dataset = WFDataset_lab(test_set_zfm, split='test', multi_chan=True, transform=Crop(prob=0.0, num_extra_chans=2, ignore_chan_num=True), use_chan_pos=False)\n",
    "zfm_5c_test_data, zfm_5c_test_labels = get_flattened_data(zfm_5c_test_dataset)\n",
    "zfm_denoised_5c_test_data, zfm_denoised_5c_test_labels = get_flattened_data(zfm_5c_test_dataset, denoise=True, denoise_path=single_chan_ckpt)\n",
    "\n",
    "zfm_11c_memory_dataset = WFDataset_lab(test_set_zfm, split='train', multi_chan=True, transform=Crop(prob=0.0, num_extra_chans=5, ignore_chan_num=True), use_chan_pos=False)\n",
    "zfm_11c_memory_data, zfm_11c_memory_labels = get_flattened_data(zfm_11c_memory_dataset)\n",
    "zfm_denoised_11c_memory_data, zfm_denoised_11c_memory_labels = get_flattened_data(zfm_11c_memory_dataset, denoise=True, denoise_path=single_chan_ckpt)\n",
    "\n",
    "zfm_11c_test_dataset = WFDataset_lab(test_set_zfm, split='test', multi_chan=True, transform=Crop(prob=0.0, num_extra_chans=5, ignore_chan_num=True), use_chan_pos=False)\n",
    "zfm_11c_test_data, zfm_11c_test_labels = get_flattened_data(zfm_11c_test_dataset)\n",
    "zfm_denoised_11c_test_data, zfm_denoised_11c_test_labels = get_flattened_data(zfm_11c_test_dataset, denoise=True, denoise_path=single_chan_ckpt)\n",
    "\n",
    "# ten neuron 200s test ID UNSHIFTED data loaders\n",
    "# id_unshifted_3c_memory_dataset = WFDataset_lab(test_setA_unshifted, split='train', multi_chan=True, transform=Crop(prob=0.0, num_extra_chans=1, ignore_chan_num=True), use_chan_pos=False)\n",
    "# id_unshifted_3c_memory_data, id_unshifted_3c_memory_labels = get_flattened_data(id_unshifted_3c_memory_dataset)\n",
    "# id_unshifted_denoised_3c_memory_data, id_unshifted_denoised_3c_memory_labels = get_flattened_data(id_unshifted_3c_memory_dataset, denoise=True, denoise_path=single_chan_ckpt)\n",
    "\n",
    "# id_unshifted_3c_test_dataset = WFDataset_lab(test_setA_unshifted, split='test', multi_chan=True, transform=Crop(prob=0.0, num_extra_chans=1, ignore_chan_num=True), use_chan_pos=False)\n",
    "# id_unshifted_3c_test_data, id_unshifted_3c_test_labels = get_flattened_data(id_unshifted_3c_test_dataset)\n",
    "# id_unshifted_denoised_3c_test_data, id_unshifted_denoised_3c_test_labels = get_flattened_data(id_unshifted_3c_test_dataset, denoise=True, denoise_path=single_chan_ckpt)\n",
    "\n",
    "# id_unshifted_5c_memory_dataset = WFDataset_lab(test_setA_unshifted, split='train', multi_chan=True, transform=Crop(prob=0.0, num_extra_chans=2, ignore_chan_num=True), use_chan_pos=False)\n",
    "# id_unshifted_5c_memory_data, id_unshifted_5c_memory_labels = get_flattened_data(id_unshifted_5c_memory_dataset)\n",
    "# id_unshifted_denoised_5c_memory_data, id_unshifted_denoised_5c_memory_labels = get_flattened_data(id_unshifted_5c_memory_dataset, denoise=True, denoise_path=single_chan_ckpt)\n",
    "\n",
    "# id_unshifted_5c_test_dataset = WFDataset_lab(test_setA_unshifted, split='test', multi_chan=True, transform=Crop(prob=0.0, num_extra_chans=2, ignore_chan_num=True), use_chan_pos=False)\n",
    "# id_unshifted_5c_test_data, id_unshifted_5c_test_labels = get_flattened_data(id_unshifted_5c_test_dataset)\n",
    "# id_unshifted_denoised_5c_test_data, id_unshifted_denoised_5c_test_labels = get_flattened_data(id_unshifted_5c_test_dataset, denoise=True, denoise_path=single_chan_ckpt)\n",
    "\n",
    "# id_unshifted_11c_memory_dataset = WFDataset_lab(test_setA_unshifted, split='train', multi_chan=True, transform=Crop(prob=0.0, num_extra_chans=5, ignore_chan_num=True), use_chan_pos=False)\n",
    "# id_unshifted_11c_memory_data, id_unshifted_11c_memory_labels = get_flattened_data(id_unshifted_11c_memory_dataset)\n",
    "# id_unshifted_denoised_11c_memory_data, id_unshifted_denoised_11c_memory_labels = get_flattened_data(id_unshifted_11c_memory_dataset, denoise=True, denoise_path=single_chan_ckpt)\n",
    "\n",
    "# id_unshifted_11c_test_dataset = WFDataset_lab(test_setA_unshifted, split='test', multi_chan=True, transform=Crop(prob=0.0, num_extra_chans=5, ignore_chan_num=True), use_chan_pos=False)\n",
    "# id_unshifted_11c_test_data, id_unshifted_11c_test_labels = get_flattened_data(id_unshifted_11c_test_dataset)\n",
    "# id_unshifted_denoised_11c_test_data, id_unshifted_denoised_11c_test_labels = get_flattened_data(id_unshifted_11c_test_dataset, denoise=True, denoise_path=single_chan_ckpt)"
   ]
  },
  {
   "cell_type": "code",
   "execution_count": 86,
   "id": "41075935",
   "metadata": {},
   "outputs": [],
   "source": [
    "def pca_gmm_average_tr(train_dataset, memory_dataset, test_dataset, test_labels, num_classes=10, num_iters=50, out_dim=5):\n",
    "    scores = []\n",
    "    np.random.seed(0)\n",
    "    random.seed(0)\n",
    "    reps_train, _, pca_ = pca(train_dataset, out_dim)\n",
    "    reps_memory = pca_.transform(memory_dataset)\n",
    "    reps_test = pca_.transform(test_dataset)\n",
    "    for i in range(num_iters):\n",
    "        # covariance_type : {'full', 'tied', 'diag', 'spherical'}\n",
    "        covariance_type = 'full'\n",
    "        gmm = GaussianMixture(num_classes,\n",
    "                            random_state=random.randint(0, 1000000),\n",
    "                            covariance_type=covariance_type).fit(reps_memory)\n",
    "        gmm_cont_test_labels = gmm.predict(reps_test)\n",
    "        curr_score = adjusted_rand_score(test_labels, gmm_cont_test_labels)*100\n",
    "        scores.append(curr_score)\n",
    "        if i == 49:\n",
    "           print(\"max gmm score: {}\".format(max(scores)))\n",
    "           print(\"min gmm score: {}\".format(min(scores)))\n",
    "           print(\"50 run gmm mean score: {}\".format(np.mean(scores)))\n",
    "           print(\"50 run gmm std-dev score: {}\".format(np.std(scores)))\n",
    "\n",
    "    score = np.mean(scores)\n",
    "\n",
    "    return score\n",
    "\n",
    "def pca_gmm_average(memory_dataset, test_dataset, test_labels, num_classes=10, num_iters=50, out_dim=5):\n",
    "    scores = []\n",
    "    np.random.seed(0)\n",
    "    random.seed(0)\n",
    "    for i in range(num_iters):\n",
    "        # covariance_type : {'full', 'tied', 'diag', 'spherical'}\n",
    "        covariance_type = 'full'\n",
    "        reps_train, _, pca_ = pca(memory_dataset, out_dim)\n",
    "        reps_test = pca_.transform(test_dataset)\n",
    "        gmm = GaussianMixture(num_classes,\n",
    "                            random_state=random.randint(0, 1000000),\n",
    "                            covariance_type=covariance_type).fit(reps_train)\n",
    "        gmm_cont_test_labels = gmm.predict(reps_test)\n",
    "        curr_score = adjusted_rand_score(test_labels, gmm_cont_test_labels)*100\n",
    "        scores.append(curr_score)\n",
    "        if i == 49:\n",
    "           print(\"max gmm score: {}\".format(max(scores)))\n",
    "           print(\"min gmm score: {}\".format(min(scores)))\n",
    "           print(\"50 run gmm mean score: {}\".format(np.mean(scores)))\n",
    "           print(\"50 run gmm std-dev score: {}\".format(np.std(scores)))\n",
    "\n",
    "    score = np.mean(scores)\n",
    "\n",
    "    return score"
   ]
  },
  {
   "cell_type": "markdown",
   "id": "f39b8e7c",
   "metadata": {},
   "source": [
    "# New Neuron metrics"
   ]
  },
  {
   "cell_type": "markdown",
   "id": "290982b5",
   "metadata": {},
   "source": [
    "## 10 neuron, 1200 spikes, 5 channels"
   ]
  },
  {
   "cell_type": "code",
   "execution_count": 16,
   "id": "e382969a",
   "metadata": {},
   "outputs": [
    {
     "name": "stdout",
     "output_type": "stream",
     "text": [
      "max gmm score: 49.94842592385938\n",
      "min gmm score: 42.4561070568621\n",
      "50 run gmm mean score: 46.41453202384358\n",
      "50 run gmm std-dev score: 1.641824642630016\n",
      "DY016 ID (200 train spikes) denoised data GMM score: 46.41453202384358\n",
      "max gmm score: 43.23980993019478\n",
      "min gmm score: 36.045935604862564\n",
      "50 run gmm mean score: 38.97439442092881\n",
      "50 run gmm std-dev score: 1.319551055255417\n",
      "DY009 ID (200 train spikes) denoised data GMM score: 38.97439442092881\n",
      "max gmm score: 55.71084489678194\n",
      "min gmm score: 33.0873169073262\n",
      "50 run gmm mean score: 46.00936104828743\n",
      "50 run gmm std-dev score: 6.792019176866088\n",
      "test set A (DY016) (200 train spikes) ID denoised data GMM score: 46.00936104828743\n"
     ]
    }
   ],
   "source": [
    "dy016_ood_score = pca_gmm_average_tr(dy016_denoised_id_5c_train_data, dy016_denoised_ood_5c_memory_data, dy016_denoised_ood_5c_test_data, dy016_denoised_ood_5c_test_labels)\n",
    "print(\"DY016 OOD (1200 train spikes) denoised data GMM score: \" + str(dy016_ood_score))\n",
    "dy009_ood_score = pca_gmm_average_tr(dy016_denoised_id_5c_train_data, dy009_denoised_ood_5c_memory_data, dy009_denoised_ood_5c_test_data, dy009_denoised_ood_5c_test_labels)\n",
    "print(\"DY009 OOD (1200 train spikes) denoised data GMM score: \" + str(dy009_ood_score))\n",
    "testset_A_score = pca_gmm_average_tr(dy016_denoised_id_5c_train_data, id_denoised_5c_memory_data, id_denoised_5c_test_data, id_denoised_5c_test_labels)\n",
    "print(\"test set A (DY016 ID) (1200 train spikes) ID denoised data GMM score: \" + str(testset_A_score))"
   ]
  },
  {
   "cell_type": "code",
   "execution_count": 18,
   "id": "823b30ac",
   "metadata": {},
   "outputs": [
    {
     "name": "stdout",
     "output_type": "stream",
     "text": [
      "max gmm score: 40.260985988403114\n",
      "min gmm score: 29.225243863254796\n",
      "50 run gmm mean score: 34.60790511126595\n",
      "50 run gmm std-dev score: 2.54071928339712\n",
      "DY016 OOD (10 neurons, 1200 train spikes) data GMM score: 34.60790511126595\n",
      "max gmm score: 26.317805234862252\n",
      "min gmm score: 18.433767303204288\n",
      "50 run gmm mean score: 21.828724358383383\n",
      "50 run gmm std-dev score: 2.094112767631093\n",
      "DY009 OOD (10 neurons, 1200 train spikes) data GMM score: 21.828724358383383\n",
      "max gmm score: 51.152363011948665\n",
      "min gmm score: 32.68867536638837\n",
      "50 run gmm mean score: 43.49786698028805\n",
      "50 run gmm std-dev score: 5.243246579351943\n",
      "test set A (ID DY016) (10 neurons, 1200 train spikes) ID data GMM score: 43.49786698028805\n"
     ]
    }
   ],
   "source": [
    "dy016_ood_score = pca_gmm_average_tr(dy016_id_5c_train_data, dy016_ood_5c_memory_data, dy016_ood_5c_test_data, dy016_ood_5c_test_labels)\n",
    "print(\"DY016 OOD (10 neurons, 1200 train spikes) data GMM score: \" + str(dy016_ood_score))\n",
    "dy009_ood_score = pca_gmm_average_tr(dy016_id_5c_train_data, dy009_ood_5c_memory_data, dy009_ood_5c_test_data, dy009_ood_5c_test_labels)\n",
    "print(\"DY009 OOD (10 neurons, 1200 train spikes) data GMM score: \" + str(dy009_ood_score))\n",
    "testset_A_score = pca_gmm_average_tr(dy016_id_5c_train_data, id_5c_memory_data, id_5c_test_data, id_5c_test_labels)\n",
    "print(\"test set A (ID DY016) (10 neurons, 1200 train spikes) ID data GMM score: \" + str(testset_A_score))"
   ]
  },
  {
   "cell_type": "markdown",
   "id": "25a19dff",
   "metadata": {},
   "source": [
    "## 10 neuron, 1200 spikes, 11 channels"
   ]
  },
  {
   "cell_type": "code",
   "execution_count": 38,
   "id": "e4d23bb9",
   "metadata": {},
   "outputs": [
    {
     "name": "stdout",
     "output_type": "stream",
     "text": [
      "max gmm score: 45.11223772731075\n",
      "min gmm score: 30.941207470431127\n",
      "50 run gmm mean score: 38.53493192043495\n",
      "50 run gmm std-dev score: 4.803947540894395\n",
      "test set A (DY016 ID) (1200 train spikes) ID denoised data GMM score: 38.53493192043495\n"
     ]
    }
   ],
   "source": [
    "# dy016_ood_score = pca_gmm_average_tr(dy016_denoised_id_11c_train_data, dy016_denoised_ood_11c_memory_data, dy016_denoised_ood_11c_test_data, dy016_denoised_ood_11c_test_labels)\n",
    "# print(\"DY016 OOD (1200 train spikes) denoised data GMM score: \" + str(dy016_ood_score))\n",
    "# dy009_ood_score = pca_gmm_average_tr(dy016_denoised_id_11c_train_data, dy009_denoised_ood_11c_memory_data, dy009_denoised_ood_11c_test_data, dy009_denoised_ood_11c_test_labels)\n",
    "# print(\"DY009 OOD (1200 train spikes) denoised data GMM score: \" + str(dy009_ood_score))\n",
    "testset_A_score = pca_gmm_average_tr(dy016_denoised_id_11c_train_data, id_denoised_11c_memory_data, id_denoised_11c_test_data, id_denoised_11c_test_labels)\n",
    "print(\"test set A (DY016 ID) (1200 train spikes) ID denoised data GMM score: \" + str(testset_A_score))"
   ]
  },
  {
   "cell_type": "code",
   "execution_count": 39,
   "id": "24b7436f",
   "metadata": {},
   "outputs": [
    {
     "name": "stdout",
     "output_type": "stream",
     "text": [
      "max gmm score: 48.424282139063166\n",
      "min gmm score: 32.454088162303144\n",
      "50 run gmm mean score: 42.3763257936804\n",
      "50 run gmm std-dev score: 4.32258951624318\n",
      "test set A (ID DY016) (10 neurons, 1200 train spikes) ID data GMM score: 42.3763257936804\n"
     ]
    }
   ],
   "source": [
    "# dy016_ood_score = pca_gmm_average_tr(dy016_id_11c_train_data, dy016_ood_11c_memory_data, dy016_ood_11c_test_data, dy016_ood_11c_test_labels)\n",
    "# print(\"DY016 OOD (10 neurons, 1200 train spikes) data GMM score: \" + str(dy016_ood_score))\n",
    "# dy009_ood_score = pca_gmm_average_tr(dy016_id_11c_train_data, dy009_ood_11c_memory_data, dy009_ood_11c_test_data, dy009_ood_11c_test_labels)\n",
    "# print(\"DY009 OOD (10 neurons, 1200 train spikes) data GMM score: \" + str(dy009_ood_score))\n",
    "testset_A_score = pca_gmm_average_tr(dy016_id_11c_train_data, id_11c_memory_data, id_11c_test_data, id_11c_test_labels)\n",
    "print(\"test set A (ID DY016) (10 neurons, 1200 train spikes) ID data GMM score: \" + str(testset_A_score))"
   ]
  },
  {
   "cell_type": "markdown",
   "id": "50f023db",
   "metadata": {},
   "source": [
    "# ZFM OOD recording"
   ]
  },
  {
   "cell_type": "markdown",
   "id": "b9256ceb",
   "metadata": {},
   "source": [
    "## 400 neuron, 1200 spikes, 5 channels"
   ]
  },
  {
   "cell_type": "code",
   "execution_count": 87,
   "id": "0c1f2d81",
   "metadata": {},
   "outputs": [
    {
     "name": "stdout",
     "output_type": "stream",
     "text": [
      "max gmm score: 65.89325561532141\n",
      "min gmm score: 51.84333377654061\n",
      "50 run gmm mean score: 57.8391398126883\n",
      "50 run gmm std-dev score: 4.1142152417722\n",
      "test set ZFM (new recording OOD) (200 train spikes) denoised data GMM score: 57.8391398126883\n"
     ]
    }
   ],
   "source": [
    "testset_zfm_score = pca_gmm_average_tr(zfm_denoised_5c_memory_data, zfm_denoised_5c_memory_data, zfm_denoised_5c_test_data, zfm_denoised_5c_test_labels)\n",
    "print(\"test set ZFM (new recording OOD) (200 train spikes) denoised data GMM score: \" + str(testset_zfm_score))"
   ]
  },
  {
   "cell_type": "code",
   "execution_count": 88,
   "id": "196be51e",
   "metadata": {},
   "outputs": [
    {
     "name": "stdout",
     "output_type": "stream",
     "text": [
      "max gmm score: 63.35312581416943\n",
      "min gmm score: 47.23009981959982\n",
      "50 run gmm mean score: 57.921201624894664\n",
      "50 run gmm std-dev score: 4.049843708782929\n",
      "test set ZFM (new recording OOD) (200 train spikes) data GMM score: 57.921201624894664\n"
     ]
    }
   ],
   "source": [
    "testset_zfm_score = pca_gmm_average_tr(zfm_5c_memory_data, zfm_5c_memory_data, zfm_5c_test_data, zfm_5c_test_labels)\n",
    "print(\"test set ZFM (new recording OOD) (200 train spikes) data GMM score: \" + str(testset_zfm_score))"
   ]
  },
  {
   "cell_type": "markdown",
   "id": "24f6005c",
   "metadata": {},
   "source": [
    "## 400 neuron, 1200 spikes, 11 channels"
   ]
  },
  {
   "cell_type": "code",
   "execution_count": 79,
   "id": "b03b13ce",
   "metadata": {},
   "outputs": [
    {
     "name": "stdout",
     "output_type": "stream",
     "text": [
      "max gmm score: 47.13053747814232\n",
      "min gmm score: 33.71500606087366\n",
      "50 run gmm mean score: 43.450344153478554\n",
      "50 run gmm std-dev score: 3.178009011823364\n",
      "test set ZFM (new recording OOD) (200 train spikes) denoised data GMM score: 43.450344153478554\n"
     ]
    }
   ],
   "source": [
    "testset_zfm_score = pca_gmm_average_tr(fourhund_denoised_11c_train_data, zfm_denoised_11c_memory_data, zfm_denoised_11c_test_data, zfm_denoised_11c_test_labels)\n",
    "print(\"test set ZFM (new recording OOD) (200 train spikes) denoised data GMM score: \" + str(testset_zfm_score))"
   ]
  },
  {
   "cell_type": "code",
   "execution_count": 80,
   "id": "916e78c0",
   "metadata": {},
   "outputs": [
    {
     "name": "stdout",
     "output_type": "stream",
     "text": [
      "max gmm score: 23.79046965113549\n",
      "min gmm score: 17.421474166473846\n",
      "50 run gmm mean score: 19.79304988245128\n",
      "50 run gmm std-dev score: 1.4824715818052951\n",
      "test set ZFM (new recording OOD) (200 train spikes) data GMM score: 19.79304988245128\n"
     ]
    }
   ],
   "source": [
    "testset_zfm_score = pca_gmm_average_tr(fourhund_11c_train_data, zfm_11c_memory_data, zfm_11c_test_data, zfm_11c_test_labels)\n",
    "print(\"test set ZFM (new recording OOD) (200 train spikes) data GMM score: \" + str(testset_zfm_score))"
   ]
  },
  {
   "cell_type": "code",
   "execution_count": null,
   "id": "0429ee1e",
   "metadata": {},
   "outputs": [],
   "source": [
    "ceed_5chan = [0.66, .69, .72, ]\n",
    "depca_5chan = [.54, .58, .51, ]\n",
    "pca_5chan = [.26, .31, .53, ]\n",
    "ceed_11chan = [0.61, .76, .70, ]\n",
    "depca_11chan = [.52, .50, .53, ]\n",
    "pca_11chan = [.28, .30, .50, ]"
   ]
  },
  {
   "cell_type": "markdown",
   "id": "34732cda",
   "metadata": {},
   "source": [
    "# UNSHIFTED DATA"
   ]
  },
  {
   "cell_type": "markdown",
   "id": "31f467c8",
   "metadata": {},
   "source": [
    "## 5D"
   ]
  },
  {
   "cell_type": "markdown",
   "id": "1c934449",
   "metadata": {},
   "source": [
    "## 10 neuron, 1200 spikes, 3 channels"
   ]
  },
  {
   "cell_type": "code",
   "execution_count": 9,
   "id": "92c92239",
   "metadata": {},
   "outputs": [
    {
     "name": "stdout",
     "output_type": "stream",
     "text": [
      "max gmm score: 76.30853852749749\n",
      "min gmm score: 45.993274753132226\n",
      "50 run gmm mean score: 66.35200224815352\n",
      "50 run gmm std-dev score: 6.030691451046885\n",
      "test set A (DY016 ID) (1200 train spikes) unshifted ID denoised data GMM score: 66.35200224815352\n"
     ]
    }
   ],
   "source": [
    "# dy016_ood_score = pca_gmm_average_tr(dy016_unshifted_denoised_id_5c_train_data, dy016_denoised_ood_5c_memory_data, dy016_denoised_ood_5c_test_data, dy016_denoised_ood_5c_test_labels)\n",
    "# print(\"DY016 OOD (1200 train spikes) denoised data GMM score: \" + str(dy016_ood_score))\n",
    "# dy009_ood_score = pca_gmm_average_tr(dy016_denoised_id_5c_train_data, dy009_denoised_ood_5c_memory_data, dy009_denoised_ood_5c_test_data, dy009_denoised_ood_5c_test_labels)\n",
    "# print(\"DY009 OOD (1200 train spikes) denoised data GMM score: \" + str(dy009_ood_score))\n",
    "testset_A_score = pca_gmm_average_tr(dy016_unshifted_denoised_id_3c_train_data, id_unshifted_denoised_3c_memory_data, id_unshifted_denoised_3c_test_data, id_unshifted_denoised_3c_test_labels)\n",
    "print(\"test set A (DY016 ID) (1200 train spikes) unshifted ID denoised data GMM score: \" + str(testset_A_score))"
   ]
  },
  {
   "cell_type": "code",
   "execution_count": 78,
   "id": "fc171b08",
   "metadata": {},
   "outputs": [
    {
     "name": "stdout",
     "output_type": "stream",
     "text": [
      "max gmm score: 65.96319758793757\n",
      "min gmm score: 40.2332860231257\n",
      "50 run gmm mean score: 60.70185469702851\n",
      "50 run gmm std-dev score: 3.9961677486698\n",
      "test set A (ID DY016) (10 neurons, 1200 train spikes) unshifted ID data GMM score: 60.70185469702851\n"
     ]
    }
   ],
   "source": [
    "# dy016_ood_score = pca_gmm_average_tr(dy016_id_5c_train_data, dy016_ood_5c_memory_data, dy016_ood_5c_test_data, dy016_ood_5c_test_labels)\n",
    "# print(\"DY016 OOD (10 neurons, 1200 train spikes) data GMM score: \" + str(dy016_ood_score))\n",
    "# dy009_ood_score = pca_gmm_average_tr(dy016_id_5c_train_data, dy009_ood_5c_memory_data, dy009_ood_5c_test_data, dy009_ood_5c_test_labels)\n",
    "# print(\"DY009 OOD (10 neurons, 1200 train spikes) data GMM score: \" + str(dy009_ood_score))\n",
    "testset_A_score = pca_gmm_average_tr(dy016_unshifted_id_3c_train_data, id_unshifted_3c_memory_data, id_unshifted_3c_test_data, id_unshifted_3c_test_labels)\n",
    "print(\"test set A (ID DY016) (10 neurons, 1200 train spikes) unshifted ID data GMM score: \" + str(testset_A_score))"
   ]
  },
  {
   "cell_type": "markdown",
   "id": "c47dd139",
   "metadata": {},
   "source": [
    "## 10 neuron, 1200 spikes, 5 channels"
   ]
  },
  {
   "cell_type": "code",
   "execution_count": 10,
   "id": "c71d8e08",
   "metadata": {},
   "outputs": [
    {
     "name": "stdout",
     "output_type": "stream",
     "text": [
      "max gmm score: 88.53915483702174\n",
      "min gmm score: 46.81109537355625\n",
      "50 run gmm mean score: 70.38432162311973\n",
      "50 run gmm std-dev score: 6.1667722216090946\n",
      "test set A (DY016 ID) (1200 train spikes) unshifted ID denoised data GMM score: 70.38432162311973\n"
     ]
    }
   ],
   "source": [
    "# dy016_ood_score = pca_gmm_average_tr(dy016_unshifted_denoised_id_5c_train_data, dy016_denoised_ood_5c_memory_data, dy016_denoised_ood_5c_test_data, dy016_denoised_ood_5c_test_labels)\n",
    "# print(\"DY016 OOD (1200 train spikes) denoised data GMM score: \" + str(dy016_ood_score))\n",
    "# dy009_ood_score = pca_gmm_average_tr(dy016_denoised_id_5c_train_data, dy009_denoised_ood_5c_memory_data, dy009_denoised_ood_5c_test_data, dy009_denoised_ood_5c_test_labels)\n",
    "# print(\"DY009 OOD (1200 train spikes) denoised data GMM score: \" + str(dy009_ood_score))\n",
    "testset_A_score = pca_gmm_average_tr(dy016_unshifted_denoised_id_5c_train_data, id_unshifted_denoised_5c_memory_data, id_unshifted_denoised_5c_test_data, id_unshifted_denoised_5c_test_labels)\n",
    "print(\"test set A (DY016 ID) (1200 train spikes) unshifted ID denoised data GMM score: \" + str(testset_A_score))"
   ]
  },
  {
   "cell_type": "code",
   "execution_count": 80,
   "id": "cb72da36",
   "metadata": {},
   "outputs": [
    {
     "name": "stdout",
     "output_type": "stream",
     "text": [
      "max gmm score: 71.60519361278969\n",
      "min gmm score: 48.425702189770185\n",
      "50 run gmm mean score: 66.75133247670489\n",
      "50 run gmm std-dev score: 3.638737995036119\n",
      "test set A (ID DY016) (10 neurons, 1200 train spikes) unshifted ID data GMM score: 66.75133247670489\n"
     ]
    }
   ],
   "source": [
    "# dy016_ood_score = pca_gmm_average_tr(dy016_id_5c_train_data, dy016_ood_5c_memory_data, dy016_ood_5c_test_data, dy016_ood_5c_test_labels)\n",
    "# print(\"DY016 OOD (10 neurons, 1200 train spikes) data GMM score: \" + str(dy016_ood_score))\n",
    "# dy009_ood_score = pca_gmm_average_tr(dy016_id_5c_train_data, dy009_ood_5c_memory_data, dy009_ood_5c_test_data, dy009_ood_5c_test_labels)\n",
    "# print(\"DY009 OOD (10 neurons, 1200 train spikes) data GMM score: \" + str(dy009_ood_score))\n",
    "testset_A_score = pca_gmm_average_tr(dy016_unshifted_id_5c_train_data, id_unshifted_5c_memory_data, id_unshifted_5c_test_data, id_unshifted_5c_test_labels)\n",
    "print(\"test set A (ID DY016) (10 neurons, 1200 train spikes) unshifted ID data GMM score: \" + str(testset_A_score))"
   ]
  },
  {
   "cell_type": "markdown",
   "id": "60650ca5",
   "metadata": {},
   "source": [
    "## 10 neuron, 1200 spikes, 11 channels"
   ]
  },
  {
   "cell_type": "code",
   "execution_count": 11,
   "id": "90d7d9f4",
   "metadata": {},
   "outputs": [
    {
     "name": "stdout",
     "output_type": "stream",
     "text": [
      "max gmm score: 48.38169206354698\n",
      "min gmm score: 36.982199597751496\n",
      "50 run gmm mean score: 44.0537510873049\n",
      "50 run gmm std-dev score: 3.265764618517954\n",
      "test set A (DY016 ID) (1200 train spikes, unshifted) ID denoised data GMM score: 44.0537510873049\n"
     ]
    }
   ],
   "source": [
    "# dy016_ood_score = pca_gmm_average_tr(dy016_denoised_id_11c_train_data, dy016_denoised_ood_11c_memory_data, dy016_denoised_ood_11c_test_data, dy016_denoised_ood_11c_test_labels)\n",
    "# print(\"DY016 OOD (1200 train spikes) denoised data GMM score: \" + str(dy016_ood_score))\n",
    "# dy009_ood_score = pca_gmm_average_tr(dy016_denoised_id_11c_train_data, dy009_denoised_ood_11c_memory_data, dy009_denoised_ood_11c_test_data, dy009_denoised_ood_11c_test_labels)\n",
    "# print(\"DY009 OOD (1200 train spikes) denoised data GMM score: \" + str(dy009_ood_score))\n",
    "testset_A_score = pca_gmm_average_tr(dy016_unshifted_denoised_id_11c_train_data, id_denoised_11c_memory_data, id_denoised_11c_test_data, id_denoised_11c_test_labels)\n",
    "print(\"test set A (DY016 ID) (1200 train spikes, unshifted) ID denoised data GMM score: \" + str(testset_A_score))"
   ]
  },
  {
   "cell_type": "code",
   "execution_count": 82,
   "id": "dead0899",
   "metadata": {},
   "outputs": [
    {
     "name": "stdout",
     "output_type": "stream",
     "text": [
      "max gmm score: 52.60847520629673\n",
      "min gmm score: 35.92053452483929\n",
      "50 run gmm mean score: 45.8206854102799\n",
      "50 run gmm std-dev score: 4.3143859601744845\n",
      "test set A (ID DY016) (10 neurons, 1200 train spikes, unshifted) ID data GMM score: 45.8206854102799\n"
     ]
    }
   ],
   "source": [
    "# dy016_ood_score = pca_gmm_average_tr(dy016_id_11c_train_data, dy016_ood_11c_memory_data, dy016_ood_11c_test_data, dy016_ood_11c_test_labels)\n",
    "# print(\"DY016 OOD (10 neurons, 1200 train spikes) data GMM score: \" + str(dy016_ood_score))\n",
    "# dy009_ood_score = pca_gmm_average_tr(dy016_id_11c_train_data, dy009_ood_11c_memory_data, dy009_ood_11c_test_data, dy009_ood_11c_test_labels)\n",
    "# print(\"DY009 OOD (10 neurons, 1200 train spikes) data GMM score: \" + str(dy009_ood_score))\n",
    "testset_A_score = pca_gmm_average_tr(dy016_unshifted_id_11c_train_data, id_11c_memory_data, id_11c_test_data, id_11c_test_labels)\n",
    "print(\"test set A (ID DY016) (10 neurons, 1200 train spikes, unshifted) ID data GMM score: \" + str(testset_A_score))"
   ]
  },
  {
   "cell_type": "markdown",
   "id": "0d42d24e",
   "metadata": {},
   "source": [
    "## 3D"
   ]
  },
  {
   "cell_type": "markdown",
   "id": "ec842d17",
   "metadata": {},
   "source": [
    "## 10 neuron, 1200 spikes, 3 channels"
   ]
  },
  {
   "cell_type": "code",
   "execution_count": 12,
   "id": "7d276999",
   "metadata": {},
   "outputs": [
    {
     "name": "stdout",
     "output_type": "stream",
     "text": [
      "max gmm score: 66.00855102539781\n",
      "min gmm score: 50.54808865343365\n",
      "50 run gmm mean score: 60.22607903111482\n",
      "50 run gmm std-dev score: 3.8696406996201587\n",
      "test set A (DY016 ID) (1200 train spikes) unshifted ID denoised data GMM score: 60.22607903111482\n"
     ]
    }
   ],
   "source": [
    "dim = 3\n",
    "# dy016_ood_score = pca_gmm_average_tr(dy016_unshifted_denoised_id_5c_train_data, dy016_denoised_ood_5c_memory_data, dy016_denoised_ood_5c_test_data, dy016_denoised_ood_5c_test_labels)\n",
    "# print(\"DY016 OOD (1200 train spikes) denoised data GMM score: \" + str(dy016_ood_score))\n",
    "# dy009_ood_score = pca_gmm_average_tr(dy016_denoised_id_5c_train_data, dy009_denoised_ood_5c_memory_data, dy009_denoised_ood_5c_test_data, dy009_denoised_ood_5c_test_labels)\n",
    "# print(\"DY009 OOD (1200 train spikes) denoised data GMM score: \" + str(dy009_ood_score))\n",
    "testset_A_score = pca_gmm_average_tr(dy016_unshifted_denoised_id_3c_train_data, id_unshifted_denoised_3c_memory_data, id_unshifted_denoised_3c_test_data, id_unshifted_denoised_3c_test_labels, out_dim=dim)\n",
    "print(\"test set A (DY016 ID) (1200 train spikes) unshifted ID denoised data GMM score: \" + str(testset_A_score))"
   ]
  },
  {
   "cell_type": "code",
   "execution_count": null,
   "id": "6b366943",
   "metadata": {},
   "outputs": [],
   "source": [
    "# dy016_ood_score = pca_gmm_average_tr(dy016_id_5c_train_data, dy016_ood_5c_memory_data, dy016_ood_5c_test_data, dy016_ood_5c_test_labels)\n",
    "# print(\"DY016 OOD (10 neurons, 1200 train spikes) data GMM score: \" + str(dy016_ood_score))\n",
    "# dy009_ood_score = pca_gmm_average_tr(dy016_id_5c_train_data, dy009_ood_5c_memory_data, dy009_ood_5c_test_data, dy009_ood_5c_test_labels)\n",
    "# print(\"DY009 OOD (10 neurons, 1200 train spikes) data GMM score: \" + str(dy009_ood_score))\n",
    "testset_A_score = pca_gmm_average_tr(dy016_unshifted_id_3c_train_data, id_unshifted_3c_memory_data, id_unshifted_3c_test_data, id_unshifted_3c_test_labels, out_dim=dim)\n",
    "print(\"test set A (ID DY016) (10 neurons, 1200 train spikes) unshifted ID data GMM score: \" + str(testset_A_score))"
   ]
  },
  {
   "cell_type": "markdown",
   "id": "b2bba0fb",
   "metadata": {},
   "source": [
    "## 10 neuron, 1200 spikes, 5 channels"
   ]
  },
  {
   "cell_type": "code",
   "execution_count": 13,
   "id": "9c35a44a",
   "metadata": {},
   "outputs": [
    {
     "name": "stdout",
     "output_type": "stream",
     "text": [
      "max gmm score: 66.53412100798866\n",
      "min gmm score: 31.18912880747499\n",
      "50 run gmm mean score: 54.52864285427125\n",
      "50 run gmm std-dev score: 7.02508213444077\n",
      "test set A (DY016 ID) (1200 train spikes) unshifted ID denoised data GMM score: 54.52864285427125\n"
     ]
    }
   ],
   "source": [
    "# dy016_ood_score = pca_gmm_average_tr(dy016_unshifted_denoised_id_5c_train_data, dy016_denoised_ood_5c_memory_data, dy016_denoised_ood_5c_test_data, dy016_denoised_ood_5c_test_labels)\n",
    "# print(\"DY016 OOD (1200 train spikes) denoised data GMM score: \" + str(dy016_ood_score))\n",
    "# dy009_ood_score = pca_gmm_average_tr(dy016_denoised_id_5c_train_data, dy009_denoised_ood_5c_memory_data, dy009_denoised_ood_5c_test_data, dy009_denoised_ood_5c_test_labels)\n",
    "# print(\"DY009 OOD (1200 train spikes) denoised data GMM score: \" + str(dy009_ood_score))\n",
    "testset_A_score = pca_gmm_average_tr(dy016_unshifted_denoised_id_5c_train_data, id_unshifted_denoised_5c_memory_data, id_unshifted_denoised_5c_test_data, id_unshifted_denoised_5c_test_labels, out_dim=dim)\n",
    "print(\"test set A (DY016 ID) (1200 train spikes) unshifted ID denoised data GMM score: \" + str(testset_A_score))\n"
   ]
  },
  {
   "cell_type": "code",
   "execution_count": null,
   "id": "37f32f3f",
   "metadata": {},
   "outputs": [],
   "source": [
    "# dy016_ood_score = pca_gmm_average_tr(dy016_id_5c_train_data, dy016_ood_5c_memory_data, dy016_ood_5c_test_data, dy016_ood_5c_test_labels)\n",
    "# print(\"DY016 OOD (10 neurons, 1200 train spikes) data GMM score: \" + str(dy016_ood_score))\n",
    "# dy009_ood_score = pca_gmm_average_tr(dy016_id_5c_train_data, dy009_ood_5c_memory_data, dy009_ood_5c_test_data, dy009_ood_5c_test_labels)\n",
    "# print(\"DY009 OOD (10 neurons, 1200 train spikes) data GMM score: \" + str(dy009_ood_score))\n",
    "testset_A_score = pca_gmm_average_tr(dy016_unshifted_id_5c_train_data, id_unshifted_5c_memory_data, id_unshifted_5c_test_data, id_unshifted_5c_test_labels, out_dim=dim)\n",
    "print(\"test set A (ID DY016) (10 neurons, 1200 train spikes) unshifted ID data GMM score: \" + str(testset_A_score))\n"
   ]
  },
  {
   "cell_type": "markdown",
   "id": "532b3626",
   "metadata": {},
   "source": [
    "## 10 neuron, 1200 spikes, 11 channels"
   ]
  },
  {
   "cell_type": "code",
   "execution_count": 14,
   "id": "18727665",
   "metadata": {},
   "outputs": [
    {
     "name": "stdout",
     "output_type": "stream",
     "text": [
      "max gmm score: 41.36333362566773\n",
      "min gmm score: 25.609027662111515\n",
      "50 run gmm mean score: 39.00482181099553\n",
      "50 run gmm std-dev score: 2.011718397307804\n",
      "test set A (DY016 ID) (1200 train spikes, unshifted) ID denoised data GMM score: 39.00482181099553\n"
     ]
    }
   ],
   "source": [
    "# dy016_ood_score = pca_gmm_average_tr(dy016_denoised_id_11c_train_data, dy016_denoised_ood_11c_memory_data, dy016_denoised_ood_11c_test_data, dy016_denoised_ood_11c_test_labels)\n",
    "# print(\"DY016 OOD (1200 train spikes) denoised data GMM score: \" + str(dy016_ood_score))\n",
    "# dy009_ood_score = pca_gmm_average_tr(dy016_denoised_id_11c_train_data, dy009_denoised_ood_11c_memory_data, dy009_denoised_ood_11c_test_data, dy009_denoised_ood_11c_test_labels)\n",
    "# print(\"DY009 OOD (1200 train spikes) denoised data GMM score: \" + str(dy009_ood_score))\n",
    "testset_A_score = pca_gmm_average_tr(dy016_unshifted_denoised_id_11c_train_data, id_denoised_11c_memory_data, id_denoised_11c_test_data, id_denoised_11c_test_labels, out_dim=dim)\n",
    "print(\"test set A (DY016 ID) (1200 train spikes, unshifted) ID denoised data GMM score: \" + str(testset_A_score))"
   ]
  },
  {
   "cell_type": "code",
   "execution_count": null,
   "id": "3484ef13",
   "metadata": {},
   "outputs": [],
   "source": [
    "# dy016_ood_score = pca_gmm_average_tr(dy016_id_11c_train_data, dy016_ood_11c_memory_data, dy016_ood_11c_test_data, dy016_ood_11c_test_labels)\n",
    "# print(\"DY016 OOD (10 neurons, 1200 train spikes) data GMM score: \" + str(dy016_ood_score))\n",
    "# dy009_ood_score = pca_gmm_average_tr(dy016_id_11c_train_data, dy009_ood_11c_memory_data, dy009_ood_11c_test_data, dy009_ood_11c_test_labels)\n",
    "# print(\"DY009 OOD (10 neurons, 1200 train spikes) data GMM score: \" + str(dy009_ood_score))\n",
    "testset_A_score = pca_gmm_average_tr(dy016_unshifted_id_11c_train_data, id_11c_memory_data, id_11c_test_data, id_11c_test_labels, out_dim=dim)\n",
    "print(\"test set A (ID DY016) (10 neurons, 1200 train spikes, unshifted) ID data GMM score: \" + str(testset_A_score))"
   ]
  },
  {
   "cell_type": "markdown",
   "id": "cbf928f1",
   "metadata": {},
   "source": [
    "## 2D"
   ]
  },
  {
   "cell_type": "markdown",
   "id": "007e73f3",
   "metadata": {},
   "source": [
    "## 10 neuron, 1200 spikes, 3 channels"
   ]
  },
  {
   "cell_type": "code",
   "execution_count": 15,
   "id": "0bd208e8",
   "metadata": {},
   "outputs": [
    {
     "name": "stdout",
     "output_type": "stream",
     "text": [
      "max gmm score: 48.941234082839266\n",
      "min gmm score: 44.8093877073006\n",
      "50 run gmm mean score: 46.964517768178375\n",
      "50 run gmm std-dev score: 1.239935605228106\n",
      "test set A (DY016 ID) (1200 train spikes) unshifted ID denoised data GMM score: 46.964517768178375\n"
     ]
    }
   ],
   "source": [
    "dim = 2\n",
    "# dy016_ood_score = pca_gmm_average_tr(dy016_unshifted_denoised_id_5c_train_data, dy016_denoised_ood_5c_memory_data, dy016_denoised_ood_5c_test_data, dy016_denoised_ood_5c_test_labels)\n",
    "# print(\"DY016 OOD (1200 train spikes) denoised data GMM score: \" + str(dy016_ood_score))\n",
    "# dy009_ood_score = pca_gmm_average_tr(dy016_denoised_id_5c_train_data, dy009_denoised_ood_5c_memory_data, dy009_denoised_ood_5c_test_data, dy009_denoised_ood_5c_test_labels)\n",
    "# print(\"DY009 OOD (1200 train spikes) denoised data GMM score: \" + str(dy009_ood_score))\n",
    "testset_A_score = pca_gmm_average_tr(dy016_unshifted_denoised_id_3c_train_data, id_unshifted_denoised_3c_memory_data, id_unshifted_denoised_3c_test_data, id_unshifted_denoised_3c_test_labels, out_dim=dim)\n",
    "print(\"test set A (DY016 ID) (1200 train spikes) unshifted ID denoised data GMM score: \" + str(testset_A_score))"
   ]
  },
  {
   "cell_type": "code",
   "execution_count": null,
   "id": "2dbe4402",
   "metadata": {},
   "outputs": [],
   "source": [
    "# dy016_ood_score = pca_gmm_average_tr(dy016_id_5c_train_data, dy016_ood_5c_memory_data, dy016_ood_5c_test_data, dy016_ood_5c_test_labels)\n",
    "# print(\"DY016 OOD (10 neurons, 1200 train spikes) data GMM score: \" + str(dy016_ood_score))\n",
    "# dy009_ood_score = pca_gmm_average_tr(dy016_id_5c_train_data, dy009_ood_5c_memory_data, dy009_ood_5c_test_data, dy009_ood_5c_test_labels)\n",
    "# print(\"DY009 OOD (10 neurons, 1200 train spikes) data GMM score: \" + str(dy009_ood_score))\n",
    "testset_A_score = pca_gmm_average_tr(dy016_unshifted_id_3c_train_data, id_unshifted_3c_memory_data, id_unshifted_3c_test_data, id_unshifted_3c_test_labels, out_dim=dim)\n",
    "print(\"test set A (ID DY016) (10 neurons, 1200 train spikes) unshifted ID data GMM score: \" + str(testset_A_score))"
   ]
  },
  {
   "cell_type": "markdown",
   "id": "9c4ab4f9",
   "metadata": {},
   "source": [
    "## 10 neuron, 1200 spikes, 5 channels"
   ]
  },
  {
   "cell_type": "code",
   "execution_count": 16,
   "id": "51e14c53",
   "metadata": {},
   "outputs": [
    {
     "name": "stdout",
     "output_type": "stream",
     "text": [
      "max gmm score: 51.39686680519359\n",
      "min gmm score: 46.562615264111116\n",
      "50 run gmm mean score: 48.98216236033746\n",
      "50 run gmm std-dev score: 1.1805603676421002\n",
      "test set A (DY016 ID) (1200 train spikes) unshifted ID denoised data GMM score: 48.98216236033746\n"
     ]
    }
   ],
   "source": [
    "# dy016_ood_score = pca_gmm_average_tr(dy016_unshifted_denoised_id_5c_train_data, dy016_denoised_ood_5c_memory_data, dy016_denoised_ood_5c_test_data, dy016_denoised_ood_5c_test_labels)\n",
    "# print(\"DY016 OOD (1200 train spikes) denoised data GMM score: \" + str(dy016_ood_score))\n",
    "# dy009_ood_score = pca_gmm_average_tr(dy016_denoised_id_5c_train_data, dy009_denoised_ood_5c_memory_data, dy009_denoised_ood_5c_test_data, dy009_denoised_ood_5c_test_labels)\n",
    "# print(\"DY009 OOD (1200 train spikes) denoised data GMM score: \" + str(dy009_ood_score))\n",
    "testset_A_score = pca_gmm_average_tr(dy016_unshifted_denoised_id_5c_train_data, id_unshifted_denoised_5c_memory_data, id_unshifted_denoised_5c_test_data, id_unshifted_denoised_5c_test_labels, out_dim=dim)\n",
    "print(\"test set A (DY016 ID) (1200 train spikes) unshifted ID denoised data GMM score: \" + str(testset_A_score))\n"
   ]
  },
  {
   "cell_type": "code",
   "execution_count": null,
   "id": "791a7f3e",
   "metadata": {},
   "outputs": [],
   "source": [
    "# dy016_ood_score = pca_gmm_average_tr(dy016_id_5c_train_data, dy016_ood_5c_memory_data, dy016_ood_5c_test_data, dy016_ood_5c_test_labels)\n",
    "# print(\"DY016 OOD (10 neurons, 1200 train spikes) data GMM score: \" + str(dy016_ood_score))\n",
    "# dy009_ood_score = pca_gmm_average_tr(dy016_id_5c_train_data, dy009_ood_5c_memory_data, dy009_ood_5c_test_data, dy009_ood_5c_test_labels)\n",
    "# print(\"DY009 OOD (10 neurons, 1200 train spikes) data GMM score: \" + str(dy009_ood_score))\n",
    "testset_A_score = pca_gmm_average_tr(dy016_unshifted_id_5c_train_data, id_unshifted_5c_memory_data, id_unshifted_5c_test_data, id_unshifted_5c_test_labels, out_dim=dim)\n",
    "print(\"test set A (ID DY016) (10 neurons, 1200 train spikes) unshifted ID data GMM score: \" + str(testset_A_score))\n"
   ]
  },
  {
   "cell_type": "markdown",
   "id": "16a76662",
   "metadata": {},
   "source": [
    "## 10 neuron, 1200 spikes, 11 channels"
   ]
  },
  {
   "cell_type": "code",
   "execution_count": 17,
   "id": "45fb9fc9",
   "metadata": {},
   "outputs": [
    {
     "name": "stdout",
     "output_type": "stream",
     "text": [
      "max gmm score: 46.26000710486856\n",
      "min gmm score: 40.35075927008782\n",
      "50 run gmm mean score: 42.72871192107223\n",
      "50 run gmm std-dev score: 1.3126639974493244\n",
      "test set A (DY016 ID) (1200 train spikes, unshifted) ID denoised data GMM score: 42.72871192107223\n"
     ]
    }
   ],
   "source": [
    "# dy016_ood_score = pca_gmm_average_tr(dy016_denoised_id_11c_train_data, dy016_denoised_ood_11c_memory_data, dy016_denoised_ood_11c_test_data, dy016_denoised_ood_11c_test_labels)\n",
    "# print(\"DY016 OOD (1200 train spikes) denoised data GMM score: \" + str(dy016_ood_score))\n",
    "# dy009_ood_score = pca_gmm_average_tr(dy016_denoised_id_11c_train_data, dy009_denoised_ood_11c_memory_data, dy009_denoised_ood_11c_test_data, dy009_denoised_ood_11c_test_labels)\n",
    "# print(\"DY009 OOD (1200 train spikes) denoised data GMM score: \" + str(dy009_ood_score))\n",
    "testset_A_score = pca_gmm_average_tr(dy016_unshifted_denoised_id_11c_train_data, id_denoised_11c_memory_data, id_denoised_11c_test_data, id_denoised_11c_test_labels, out_dim=dim)\n",
    "print(\"test set A (DY016 ID) (1200 train spikes, unshifted) ID denoised data GMM score: \" + str(testset_A_score))"
   ]
  },
  {
   "cell_type": "code",
   "execution_count": null,
   "id": "4b73c1c7",
   "metadata": {},
   "outputs": [],
   "source": [
    "# dy016_ood_score = pca_gmm_average_tr(dy016_id_11c_train_data, dy016_ood_11c_memory_data, dy016_ood_11c_test_data, dy016_ood_11c_test_labels)\n",
    "# print(\"DY016 OOD (10 neurons, 1200 train spikes) data GMM score: \" + str(dy016_ood_score))\n",
    "# dy009_ood_score = pca_gmm_average_tr(dy016_id_11c_train_data, dy009_ood_11c_memory_data, dy009_ood_11c_test_data, dy009_ood_11c_test_labels)\n",
    "# print(\"DY009 OOD (10 neurons, 1200 train spikes) data GMM score: \" + str(dy009_ood_score))\n",
    "testset_A_score = pca_gmm_average_tr(dy016_unshifted_id_11c_train_data, id_11c_memory_data, id_11c_test_data, id_11c_test_labels, out_dim=dim)\n",
    "print(\"test set A (ID DY016) (10 neurons, 1200 train spikes, unshifted) ID data GMM score: \" + str(testset_A_score))"
   ]
  },
  {
   "cell_type": "markdown",
   "id": "7b930e5d",
   "metadata": {},
   "source": [
    "## 10D"
   ]
  },
  {
   "cell_type": "markdown",
   "id": "91b762c4",
   "metadata": {},
   "source": [
    "## 10 neuron, 1200 spikes, 3 channels"
   ]
  },
  {
   "cell_type": "code",
   "execution_count": 18,
   "id": "654b0fe5",
   "metadata": {},
   "outputs": [
    {
     "name": "stdout",
     "output_type": "stream",
     "text": [
      "max gmm score: 82.6561392404478\n",
      "min gmm score: 58.301906193863104\n",
      "50 run gmm mean score: 72.77005206267118\n",
      "50 run gmm std-dev score: 4.9595837892275085\n",
      "test set A (DY016 ID) (1200 train spikes) unshifted ID denoised data GMM score: 72.77005206267118\n"
     ]
    }
   ],
   "source": [
    "dim = 10\n",
    "# dy016_ood_score = pca_gmm_average_tr(dy016_unshifted_denoised_id_5c_train_data, dy016_denoised_ood_5c_memory_data, dy016_denoised_ood_5c_test_data, dy016_denoised_ood_5c_test_labels)\n",
    "# print(\"DY016 OOD (1200 train spikes) denoised data GMM score: \" + str(dy016_ood_score))\n",
    "# dy009_ood_score = pca_gmm_average_tr(dy016_denoised_id_5c_train_data, dy009_denoised_ood_5c_memory_data, dy009_denoised_ood_5c_test_data, dy009_denoised_ood_5c_test_labels)\n",
    "# print(\"DY009 OOD (1200 train spikes) denoised data GMM score: \" + str(dy009_ood_score))\n",
    "testset_A_score = pca_gmm_average_tr(dy016_unshifted_denoised_id_3c_train_data, id_unshifted_denoised_3c_memory_data, id_unshifted_denoised_3c_test_data, id_unshifted_denoised_3c_test_labels, out_dim=dim)\n",
    "print(\"test set A (DY016 ID) (1200 train spikes) unshifted ID denoised data GMM score: \" + str(testset_A_score))"
   ]
  },
  {
   "cell_type": "code",
   "execution_count": null,
   "id": "fd931cfb",
   "metadata": {},
   "outputs": [],
   "source": [
    "# dy016_ood_score = pca_gmm_average_tr(dy016_id_5c_train_data, dy016_ood_5c_memory_data, dy016_ood_5c_test_data, dy016_ood_5c_test_labels)\n",
    "# print(\"DY016 OOD (10 neurons, 1200 train spikes) data GMM score: \" + str(dy016_ood_score))\n",
    "# dy009_ood_score = pca_gmm_average_tr(dy016_id_5c_train_data, dy009_ood_5c_memory_data, dy009_ood_5c_test_data, dy009_ood_5c_test_labels)\n",
    "# print(\"DY009 OOD (10 neurons, 1200 train spikes) data GMM score: \" + str(dy009_ood_score))\n",
    "testset_A_score = pca_gmm_average_tr(dy016_unshifted_id_3c_train_data, id_unshifted_3c_memory_data, id_unshifted_3c_test_data, id_unshifted_3c_test_labels, out_dim=dim)\n",
    "print(\"test set A (ID DY016) (10 neurons, 1200 train spikes) unshifted ID data GMM score: \" + str(testset_A_score))"
   ]
  },
  {
   "cell_type": "markdown",
   "id": "3d8508d2",
   "metadata": {},
   "source": [
    "## 10 neuron, 1200 spikes, 5 channels"
   ]
  },
  {
   "cell_type": "code",
   "execution_count": 19,
   "id": "8a3ffeca",
   "metadata": {},
   "outputs": [
    {
     "name": "stdout",
     "output_type": "stream",
     "text": [
      "max gmm score: 95.59290347984087\n",
      "min gmm score: 59.700709968268725\n",
      "50 run gmm mean score: 81.93192996065864\n",
      "50 run gmm std-dev score: 8.064676916804142\n",
      "test set A (DY016 ID) (1200 train spikes) unshifted ID denoised data GMM score: 81.93192996065864\n"
     ]
    }
   ],
   "source": [
    "dim = 10\n",
    "# dy016_ood_score = pca_gmm_average_tr(dy016_unshifted_denoised_id_5c_train_data, dy016_denoised_ood_5c_memory_data, dy016_denoised_ood_5c_test_data, dy016_denoised_ood_5c_test_labels)\n",
    "# print(\"DY016 OOD (1200 train spikes) denoised data GMM score: \" + str(dy016_ood_score))\n",
    "# dy009_ood_score = pca_gmm_average_tr(dy016_denoised_id_5c_train_data, dy009_denoised_ood_5c_memory_data, dy009_denoised_ood_5c_test_data, dy009_denoised_ood_5c_test_labels)\n",
    "# print(\"DY009 OOD (1200 train spikes) denoised data GMM score: \" + str(dy009_ood_score))\n",
    "testset_A_score = pca_gmm_average_tr(dy016_unshifted_denoised_id_5c_train_data, id_unshifted_denoised_5c_memory_data, id_unshifted_denoised_5c_test_data, id_unshifted_denoised_5c_test_labels, out_dim=dim)\n",
    "print(\"test set A (DY016 ID) (1200 train spikes) unshifted ID denoised data GMM score: \" + str(testset_A_score))\n"
   ]
  },
  {
   "cell_type": "code",
   "execution_count": null,
   "id": "54270ffc",
   "metadata": {},
   "outputs": [],
   "source": [
    "# dy016_ood_score = pca_gmm_average_tr(dy016_id_5c_train_data, dy016_ood_5c_memory_data, dy016_ood_5c_test_data, dy016_ood_5c_test_labels)\n",
    "# print(\"DY016 OOD (10 neurons, 1200 train spikes) data GMM score: \" + str(dy016_ood_score))\n",
    "# dy009_ood_score = pca_gmm_average_tr(dy016_id_5c_train_data, dy009_ood_5c_memory_data, dy009_ood_5c_test_data, dy009_ood_5c_test_labels)\n",
    "# print(\"DY009 OOD (10 neurons, 1200 train spikes) data GMM score: \" + str(dy009_ood_score))\n",
    "testset_A_score = pca_gmm_average_tr(dy016_unshifted_id_5c_train_data, id_unshifted_5c_memory_data, id_unshifted_5c_test_data, id_unshifted_5c_test_labels, out_dim=dim)\n",
    "print(\"test set A (ID DY016) (10 neurons, 1200 train spikes) unshifted ID data GMM score: \" + str(testset_A_score))\n"
   ]
  },
  {
   "cell_type": "markdown",
   "id": "2dc9fb27",
   "metadata": {},
   "source": [
    "## 10 neuron, 1200 spikes, 11 channels"
   ]
  },
  {
   "cell_type": "code",
   "execution_count": 20,
   "id": "a9bcac5d",
   "metadata": {},
   "outputs": [
    {
     "name": "stdout",
     "output_type": "stream",
     "text": [
      "max gmm score: 59.07042922868088\n",
      "min gmm score: 44.40798976749304\n",
      "50 run gmm mean score: 53.83105451524947\n",
      "50 run gmm std-dev score: 3.410861492467726\n",
      "test set A (DY016 ID) (1200 train spikes, unshifted) ID denoised data GMM score: 53.83105451524947\n"
     ]
    }
   ],
   "source": [
    "# dy016_ood_score = pca_gmm_average_tr(dy016_denoised_id_11c_train_data, dy016_denoised_ood_11c_memory_data, dy016_denoised_ood_11c_test_data, dy016_denoised_ood_11c_test_labels)\n",
    "# print(\"DY016 OOD (1200 train spikes) denoised data GMM score: \" + str(dy016_ood_score))\n",
    "# dy009_ood_score = pca_gmm_average_tr(dy016_denoised_id_11c_train_data, dy009_denoised_ood_11c_memory_data, dy009_denoised_ood_11c_test_data, dy009_denoised_ood_11c_test_labels)\n",
    "# print(\"DY009 OOD (1200 train spikes) denoised data GMM score: \" + str(dy009_ood_score))\n",
    "testset_A_score = pca_gmm_average_tr(dy016_unshifted_denoised_id_11c_train_data, id_denoised_11c_memory_data, id_denoised_11c_test_data, id_denoised_11c_test_labels, out_dim=dim)\n",
    "print(\"test set A (DY016 ID) (1200 train spikes, unshifted) ID denoised data GMM score: \" + str(testset_A_score))"
   ]
  },
  {
   "cell_type": "code",
   "execution_count": null,
   "id": "043c3d8f",
   "metadata": {},
   "outputs": [],
   "source": [
    "# dy016_ood_score = pca_gmm_average_tr(dy016_id_11c_train_data, dy016_ood_11c_memory_data, dy016_ood_11c_test_data, dy016_ood_11c_test_labels)\n",
    "# print(\"DY016 OOD (10 neurons, 1200 train spikes) data GMM score: \" + str(dy016_ood_score))\n",
    "# dy009_ood_score = pca_gmm_average_tr(dy016_id_11c_train_data, dy009_ood_11c_memory_data, dy009_ood_11c_test_data, dy009_ood_11c_test_labels)\n",
    "# print(\"DY009 OOD (10 neurons, 1200 train spikes) data GMM score: \" + str(dy009_ood_score))\n",
    "testset_A_score = pca_gmm_average_tr(dy016_unshifted_id_11c_train_data, id_11c_memory_data, id_11c_test_data, id_11c_test_labels, out_dim=dim)\n",
    "print(\"test set A (ID DY016) (10 neurons, 1200 train spikes, unshifted) ID data GMM score: \" + str(testset_A_score))"
   ]
  },
  {
   "cell_type": "markdown",
   "id": "e3a849bb",
   "metadata": {},
   "source": [
    "# END UNSHIFTED TESTS"
   ]
  },
  {
   "cell_type": "markdown",
   "id": "dafc335d",
   "metadata": {},
   "source": [
    "## 10 neuron, 200 spikes, 11 channels"
   ]
  },
  {
   "cell_type": "code",
   "execution_count": 40,
   "id": "65ff2ada",
   "metadata": {},
   "outputs": [
    {
     "name": "stdout",
     "output_type": "stream",
     "text": [
      "max gmm score: 41.11059022606896\n",
      "min gmm score: 29.91931955444329\n",
      "50 run gmm mean score: 39.08140017287369\n",
      "50 run gmm std-dev score: 2.8374318290906606\n",
      "test set A (DY016 ID) (200 train spikes) ID denoised data GMM score: 39.08140017287369\n"
     ]
    }
   ],
   "source": [
    "# dy016_ood_score = pca_gmm_average_tr(id_denoised_11c_memory_data, dy016_denoised_ood_11c_memory_data, dy016_denoised_ood_11c_test_data, dy016_denoised_ood_11c_test_labels)\n",
    "# print(\"DY016 OOD (200 train spikes) denoised data GMM score: \" + str(dy016_ood_score))\n",
    "# dy009_ood_score = pca_gmm_average_tr(id_denoised_11c_memory_data, dy009_denoised_ood_11c_memory_data, dy009_denoised_ood_11c_test_data, dy009_denoised_ood_11c_test_labels)\n",
    "# print(\"DY009 OOD (200 train spikes) denoised data GMM score: \" + str(dy009_ood_score))\n",
    "testset_A_score = pca_gmm_average_tr(id_denoised_11c_memory_data, id_denoised_11c_memory_data, id_denoised_11c_test_data, id_denoised_11c_test_labels)\n",
    "print(\"test set A (DY016 ID) (200 train spikes) ID denoised data GMM score: \" + str(testset_A_score))"
   ]
  },
  {
   "cell_type": "code",
   "execution_count": 41,
   "id": "d5c466c4",
   "metadata": {},
   "outputs": [
    {
     "name": "stdout",
     "output_type": "stream",
     "text": [
      "max gmm score: 48.1801530981552\n",
      "min gmm score: 33.90870090124835\n",
      "50 run gmm mean score: 40.99033602493144\n",
      "50 run gmm std-dev score: 3.4998472420404356\n",
      "test set A (ID DY016) (10 neurons, 200 train spikes) ID data GMM score: 40.99033602493144\n"
     ]
    }
   ],
   "source": [
    "# dy016_ood_score = pca_gmm_average_tr(id_11c_memory_data, dy016_ood_11c_memory_data, dy016_ood_11c_test_data, dy016_ood_11c_test_labels)\n",
    "# print(\"DY016 OOD (10 neurons, 200 train spikes) data GMM score: \" + str(dy016_ood_score))\n",
    "# dy009_ood_score = pca_gmm_average_tr(id_11c_memory_data, dy009_ood_11c_memory_data, dy009_ood_11c_test_data, dy009_ood_11c_test_labels)\n",
    "# print(\"DY009 OOD (10 neurons, 200 train spikes) data GMM score: \" + str(dy009_ood_score))\n",
    "testset_A_score = pca_gmm_average_tr(id_11c_memory_data, id_11c_memory_data, id_11c_test_data, id_11c_test_labels)\n",
    "print(\"test set A (ID DY016) (10 neurons, 200 train spikes) ID data GMM score: \" + str(testset_A_score))"
   ]
  },
  {
   "cell_type": "markdown",
   "id": "1bfcef20",
   "metadata": {},
   "source": [
    "## 400 neuron, 200 spikes, 5 chan"
   ]
  },
  {
   "cell_type": "code",
   "execution_count": 24,
   "id": "de5f631a",
   "metadata": {},
   "outputs": [
    {
     "name": "stdout",
     "output_type": "stream",
     "text": [
      "max gmm score: 48.852660255138034\n",
      "min gmm score: 42.61961320461751\n",
      "50 run gmm mean score: 45.859394513078385\n",
      "50 run gmm std-dev score: 1.6699787348189143\n",
      "DY016 OOD (400 neurons, 200 train spikes) denoised data GMM score: 45.859394513078385\n",
      "max gmm score: 43.50847543736153\n",
      "min gmm score: 35.619292892656055\n",
      "50 run gmm mean score: 39.15385726020336\n",
      "50 run gmm std-dev score: 2.1699930947155828\n",
      "DY009 OOD (400 neurons, 200 train spikes) denoised data GMM score: 39.15385726020336\n",
      "max gmm score: 54.64599017617606\n",
      "min gmm score: 38.370586128739106\n",
      "50 run gmm mean score: 49.26934635422893\n",
      "50 run gmm std-dev score: 4.472748220905369\n",
      "test set A (ID DY016) (400 neurons, 200 train spikes) ID denoised data GMM score: 49.26934635422893\n"
     ]
    }
   ],
   "source": [
    "dy016_ood_score = pca_gmm_average_tr(fourhund_denoised_5c_train_data, dy016_denoised_ood_5c_memory_data, dy016_denoised_ood_5c_test_data, dy016_denoised_ood_5c_test_labels)\n",
    "print(\"DY016 OOD (400 neurons, 200 train spikes) denoised data GMM score: \" + str(dy016_ood_score))\n",
    "dy009_ood_score = pca_gmm_average_tr(fourhund_denoised_5c_train_data, dy009_denoised_ood_5c_memory_data, dy009_denoised_ood_5c_test_data, dy009_denoised_ood_5c_test_labels)\n",
    "print(\"DY009 OOD (400 neurons, 200 train spikes) denoised data GMM score: \" + str(dy009_ood_score))\n",
    "testset_A_score = pca_gmm_average_tr(fourhund_denoised_5c_train_data, id_denoised_5c_memory_data, id_denoised_5c_test_data, id_denoised_5c_test_labels)\n",
    "print(\"test set A (ID DY016) (400 neurons, 200 train spikes) ID denoised data GMM score: \" + str(testset_A_score))"
   ]
  },
  {
   "cell_type": "code",
   "execution_count": 25,
   "id": "48b08031",
   "metadata": {},
   "outputs": [
    {
     "name": "stdout",
     "output_type": "stream",
     "text": [
      "max gmm score: 42.5790105809703\n",
      "min gmm score: 24.839751754514143\n",
      "50 run gmm mean score: 34.62326199084467\n",
      "50 run gmm std-dev score: 4.1181057189157615\n",
      "DY016 OOD (400 neurons, 200 train spikes) data GMM score: 34.62326199084467\n",
      "max gmm score: 23.64360815251711\n",
      "min gmm score: 15.598370364436695\n",
      "50 run gmm mean score: 19.737513415238556\n",
      "50 run gmm std-dev score: 1.5803748763485617\n",
      "DY009 OOD (400 neurons, 200 train spikes) denoised data GMM score: 19.737513415238556\n",
      "max gmm score: 48.41062989522548\n",
      "min gmm score: 36.001991663148324\n",
      "50 run gmm mean score: 43.56754906865924\n",
      "50 run gmm std-dev score: 3.468305734304177\n",
      "test set A (ID DY016) (400 neurons, 200 train spikes) ID data GMM score: 43.56754906865924\n"
     ]
    }
   ],
   "source": [
    "dy016_ood_score = pca_gmm_average_tr(fourhund_5c_train_data, dy016_ood_5c_memory_data, dy016_ood_5c_test_data, dy016_ood_5c_test_labels)\n",
    "print(\"DY016 OOD (400 neurons, 200 train spikes) data GMM score: \" + str(dy016_ood_score))\n",
    "dy009_ood_score = pca_gmm_average_tr(fourhund_5c_train_data, dy009_ood_5c_memory_data, dy009_ood_5c_test_data, dy009_ood_5c_test_labels)\n",
    "print(\"DY009 OOD (400 neurons, 200 train spikes) data GMM score: \" + str(dy009_ood_score))\n",
    "testset_A_score = pca_gmm_average_tr(fourhund_5c_train_data, id_5c_memory_data, id_5c_test_data, id_5c_test_labels)\n",
    "print(\"test set A (ID DY016) (400 neurons, 200 train spikes) ID data GMM score: \" + str(testset_A_score))"
   ]
  },
  {
   "cell_type": "markdown",
   "id": "e0e68a4e",
   "metadata": {},
   "source": [
    "## 400 neuron, 200 spikes, 11 chan"
   ]
  },
  {
   "cell_type": "code",
   "execution_count": 26,
   "id": "6538f6bb",
   "metadata": {},
   "outputs": [
    {
     "name": "stdout",
     "output_type": "stream",
     "text": [
      "max gmm score: 48.244958295217174\n",
      "min gmm score: 40.4848033111489\n",
      "50 run gmm mean score: 46.448484524812066\n",
      "50 run gmm std-dev score: 1.4455020400279521\n",
      "DY016 OOD (400 neurons, 200 train spikes) denoised data GMM score: 46.448484524812066\n",
      "max gmm score: 45.47727678049991\n",
      "min gmm score: 38.70774512786305\n",
      "50 run gmm mean score: 42.776622635266406\n",
      "50 run gmm std-dev score: 1.8247957739373344\n",
      "DY009 OOD (400 neurons, 200 train spikes) denoised data GMM score: 42.776622635266406\n",
      "max gmm score: 54.28607334870959\n",
      "min gmm score: 34.691665530745844\n",
      "50 run gmm mean score: 42.675400186749386\n",
      "50 run gmm std-dev score: 3.2538126642336005\n",
      "test set A (ID DY016) (400 neurons, 200 train spikes) ID denoised data GMM score: 42.675400186749386\n"
     ]
    }
   ],
   "source": [
    "dy016_ood_score = pca_gmm_average_tr(fourhund_denoised_11c_train_data, dy016_denoised_ood_11c_memory_data, dy016_denoised_ood_11c_test_data, dy016_denoised_ood_11c_test_labels)\n",
    "print(\"DY016 OOD (400 neurons, 200 train spikes) denoised data GMM score: \" + str(dy016_ood_score))\n",
    "dy009_ood_score = pca_gmm_average_tr(fourhund_denoised_11c_train_data, dy009_denoised_ood_11c_memory_data, dy009_denoised_ood_11c_test_data, dy009_denoised_ood_11c_test_labels)\n",
    "print(\"DY009 OOD (400 neurons, 200 train spikes) denoised data GMM score: \" + str(dy009_ood_score))\n",
    "testset_A_score = pca_gmm_average_tr(fourhund_denoised_11c_train_data, id_denoised_11c_memory_data, id_denoised_11c_test_data, id_denoised_11c_test_labels)\n",
    "print(\"test set A (ID DY016) (400 neurons, 200 train spikes) ID denoised data GMM score: \" + str(testset_A_score))"
   ]
  },
  {
   "cell_type": "code",
   "execution_count": 27,
   "id": "12ca9c95",
   "metadata": {},
   "outputs": [
    {
     "name": "stdout",
     "output_type": "stream",
     "text": [
      "max gmm score: 41.60675125017051\n",
      "min gmm score: 30.786828103802954\n",
      "50 run gmm mean score: 36.10275655248079\n",
      "50 run gmm std-dev score: 2.521434748232127\n",
      "DY016 OOD (400 neurons, 200 train spikes) data GMM score: 36.10275655248079\n",
      "max gmm score: 37.55857981940917\n",
      "min gmm score: 27.450000211494384\n",
      "50 run gmm mean score: 31.2089024732494\n",
      "50 run gmm std-dev score: 2.53233762744236\n",
      "DY009 OOD (400 neurons, 200 train spikes) denoised data GMM score: 31.2089024732494\n",
      "max gmm score: 44.705760996409985\n",
      "min gmm score: 33.909147579717605\n",
      "50 run gmm mean score: 40.77009849126654\n",
      "50 run gmm std-dev score: 3.3294820050708007\n",
      "test set A (ID DY016) (400 neurons, 200 train spikes) ID data GMM score: 40.77009849126654\n"
     ]
    }
   ],
   "source": [
    "dy016_ood_score = pca_gmm_average_tr(fourhund_11c_train_data, dy016_ood_11c_memory_data, dy016_ood_11c_test_data, dy016_ood_11c_test_labels)\n",
    "print(\"DY016 OOD (400 neurons, 200 train spikes) data GMM score: \" + str(dy016_ood_score))\n",
    "dy009_ood_score = pca_gmm_average_tr(fourhund_11c_train_data, dy009_ood_11c_memory_data, dy009_ood_11c_test_data, dy009_ood_11c_test_labels)\n",
    "print(\"DY009 OOD (400 neurons, 200 train spikes) denoised data GMM score: \" + str(dy009_ood_score))\n",
    "testset_A_score = pca_gmm_average_tr(fourhund_11c_train_data, id_11c_memory_data, id_11c_test_data, id_11c_test_labels)\n",
    "print(\"test set A (ID DY016) (400 neurons, 200 train spikes) ID data GMM score: \" + str(testset_A_score))"
   ]
  },
  {
   "cell_type": "markdown",
   "id": "0b7adeb5",
   "metadata": {},
   "source": [
    "### 2D"
   ]
  },
  {
   "cell_type": "code",
   "execution_count": 24,
   "id": "733050ad",
   "metadata": {},
   "outputs": [
    {
     "name": "stdout",
     "output_type": "stream",
     "text": [
      "max gmm score: 31.367574020052764\n",
      "min gmm score: 27.38031033848398\n",
      "50 run gmm mean score: 29.244440577614792\n",
      "50 run gmm std-dev score: 1.0886161482527004\n",
      "\n",
      "DY016 OOD (390 neurons, 200 train spikes) denoised PCA 2D GMM score: 29.244440577614792\n",
      "\n",
      "max gmm score: 30.870854321855884\n",
      "min gmm score: 24.50727620625854\n",
      "50 run gmm mean score: 28.809550748941007\n",
      "50 run gmm std-dev score: 1.1716856479121662\n",
      "\n",
      "DY009 OOD (390 neurons, 200 train spikes) denoised PCA 2D GMM score: 28.809550748941007\n",
      "\n",
      "max gmm score: 36.63381960074184\n",
      "min gmm score: 26.59223611376787\n",
      "50 run gmm mean score: 33.520080756522894\n",
      "50 run gmm std-dev score: 2.4862008372452036\n",
      "\n",
      "test set A (real OOD DY016) (390 neurons, 200 train spikes) denoised PCA 2D GMM score: 33.520080756522894\n",
      "\n"
     ]
    }
   ],
   "source": [
    "dy016_ood_score = pca_gmm_average_tr(fourhund_denoised_11c_train_data, dy016_denoised_ood_11c_memory_data, dy016_denoised_ood_11c_test_data, dy016_denoised_ood_11c_test_labels, out_dim=2)\n",
    "print(\"\\nDY016 OOD (390 neurons, 200 train spikes) denoised PCA 2D GMM score: \" + str(dy016_ood_score) + \"\\n\")\n",
    "dy009_ood_score = pca_gmm_average_tr(fourhund_denoised_11c_train_data, dy009_denoised_ood_11c_memory_data, dy009_denoised_ood_11c_test_data, dy009_denoised_ood_11c_test_labels, out_dim=2)\n",
    "print(\"\\nDY009 OOD (390 neurons, 200 train spikes) denoised PCA 2D GMM score: \" + str(dy009_ood_score) + \"\\n\")\n",
    "testset_A_score = pca_gmm_average_tr(fourhund_denoised_11c_train_data, id_denoised_11c_memory_data, id_denoised_11c_test_data, id_denoised_11c_test_labels, out_dim=2)\n",
    "print(\"\\ntest set A (real OOD DY016) (390 neurons, 200 train spikes) denoised PCA 2D GMM score: \" + str(testset_A_score) + \"\\n\")"
   ]
  },
  {
   "cell_type": "code",
   "execution_count": 25,
   "id": "61e8ec6e",
   "metadata": {},
   "outputs": [
    {
     "name": "stdout",
     "output_type": "stream",
     "text": [
      "max gmm score: 33.167844396349736\n",
      "min gmm score: 28.7783684046229\n",
      "50 run gmm mean score: 31.014090855677026\n",
      "50 run gmm std-dev score: 1.0324469274778698\n",
      "DY016 OOD (400 neurons, 200 train spikes) PCA 2D GMM score: 31.014090855677026\n",
      "\n",
      "max gmm score: 34.05127026658665\n",
      "min gmm score: 27.391791501622\n",
      "50 run gmm mean score: 31.74023959848015\n",
      "50 run gmm std-dev score: 1.4542760976541103\n",
      "DY009 OOD (400 neurons, 200 train spikes) PCA 2D GMM score: 31.74023959848015\n",
      "\n",
      "max gmm score: 38.821342632509115\n",
      "min gmm score: 32.91445827202066\n",
      "50 run gmm mean score: 36.99547710870561\n",
      "50 run gmm std-dev score: 1.7696993427193137\n",
      "test set A (ID DY016) (400 neurons, 200 train spikes) ID PCA 2D GMM score: 36.99547710870561\n",
      "\n"
     ]
    }
   ],
   "source": [
    "dy016_ood_score = pca_gmm_average_tr(fourhund_11c_train_data, dy016_ood_11c_memory_data, dy016_ood_11c_test_data, dy016_ood_11c_test_labels, out_dim=2)\n",
    "print(\"DY016 OOD (400 neurons, 200 train spikes) PCA 2D GMM score: \" + str(dy016_ood_score) + \"\\n\")\n",
    "dy009_ood_score = pca_gmm_average_tr(fourhund_11c_train_data, dy009_ood_11c_memory_data, dy009_ood_11c_test_data, dy009_ood_11c_test_labels, out_dim=2)\n",
    "print(\"DY009 OOD (400 neurons, 200 train spikes) PCA 2D GMM score: \" + str(dy009_ood_score) + \"\\n\")\n",
    "testset_A_score = pca_gmm_average_tr(fourhund_11c_train_data, id_11c_memory_data, id_11c_test_data, id_11c_test_labels, out_dim=2)\n",
    "print(\"test set A (ID DY016) (400 neurons, 200 train spikes) ID PCA 2D GMM score: \" + str(testset_A_score) + \"\\n\")"
   ]
  },
  {
   "cell_type": "markdown",
   "id": "09b73bff",
   "metadata": {},
   "source": [
    "### 3D"
   ]
  },
  {
   "cell_type": "code",
   "execution_count": 26,
   "id": "88e5d4ff",
   "metadata": {},
   "outputs": [
    {
     "name": "stdout",
     "output_type": "stream",
     "text": [
      "max gmm score: 39.01603204195286\n",
      "min gmm score: 32.67454849350456\n",
      "50 run gmm mean score: 36.17061203820948\n",
      "50 run gmm std-dev score: 1.3058295216570994\n",
      "\n",
      "DY016 OOD (390 neurons, 200 train spikes) denoised PCA 3D GMM score: 36.17061203820948\n",
      "\n",
      "max gmm score: 36.188735090611175\n",
      "min gmm score: 27.87475251794593\n",
      "50 run gmm mean score: 33.70920759211706\n",
      "50 run gmm std-dev score: 1.8005758078270524\n",
      "\n",
      "DY009 OOD (390 neurons, 200 train spikes) denoised PCA 3D GMM score: 33.70920759211706\n",
      "\n",
      "max gmm score: 44.27892692399163\n",
      "min gmm score: 36.37786716203638\n",
      "50 run gmm mean score: 40.57326114160049\n",
      "50 run gmm std-dev score: 1.5958209221026214\n",
      "\n",
      "test set A (real OOD DY016) (390 neurons, 200 train spikes) denoised PCA 3D GMM score: 40.57326114160049\n",
      "\n"
     ]
    }
   ],
   "source": [
    "dim = 3\n",
    "dy016_ood_score = pca_gmm_average_tr(fourhund_denoised_11c_train_data, dy016_denoised_ood_11c_memory_data, dy016_denoised_ood_11c_test_data, dy016_denoised_ood_11c_test_labels, out_dim=dim)\n",
    "print(f\"\\nDY016 OOD (390 neurons, 200 train spikes) denoised PCA {dim}D GMM score: \" + str(dy016_ood_score) + \"\\n\")\n",
    "dy009_ood_score = pca_gmm_average_tr(fourhund_denoised_11c_train_data, dy009_denoised_ood_11c_memory_data, dy009_denoised_ood_11c_test_data, dy009_denoised_ood_11c_test_labels, out_dim=dim)\n",
    "print(f\"\\nDY009 OOD (390 neurons, 200 train spikes) denoised PCA {dim}D GMM score: \" + str(dy009_ood_score) + \"\\n\")\n",
    "testset_A_score = pca_gmm_average_tr(fourhund_denoised_11c_train_data, id_denoised_11c_memory_data, id_denoised_11c_test_data, id_denoised_11c_test_labels, out_dim=dim)\n",
    "print(f\"\\ntest set A (real OOD DY016) (390 neurons, 200 train spikes) denoised PCA {dim}D GMM score: \" + str(testset_A_score) + \"\\n\")"
   ]
  },
  {
   "cell_type": "code",
   "execution_count": 27,
   "id": "ee35e956",
   "metadata": {},
   "outputs": [
    {
     "name": "stdout",
     "output_type": "stream",
     "text": [
      "max gmm score: 39.57835323294429\n",
      "min gmm score: 28.624295494070175\n",
      "50 run gmm mean score: 36.137226517439245\n",
      "50 run gmm std-dev score: 1.9192390064517644\n",
      "DY016 OOD (400 neurons, 200 train spikes) PCA 3D GMM score: 36.137226517439245\n",
      "\n",
      "max gmm score: 36.395982959319525\n",
      "min gmm score: 24.766110069731457\n",
      "50 run gmm mean score: 31.458855826096627\n",
      "50 run gmm std-dev score: 2.467101437468211\n",
      "DY009 OOD (400 neurons, 200 train spikes) PCA 3D GMM score: 31.458855826096627\n",
      "\n",
      "max gmm score: 42.29058232596206\n",
      "min gmm score: 31.951975464239023\n",
      "50 run gmm mean score: 39.588873535457154\n",
      "50 run gmm std-dev score: 2.0603759007301834\n",
      "test set A (ID DY016) (400 neurons, 200 train spikes) ID PCA 3D GMM score: 39.588873535457154\n",
      "\n"
     ]
    }
   ],
   "source": [
    "dim = 3\n",
    "dy016_ood_score = pca_gmm_average_tr(fourhund_11c_train_data, dy016_ood_11c_memory_data, dy016_ood_11c_test_data, dy016_ood_11c_test_labels, out_dim=dim)\n",
    "print(f\"DY016 OOD (400 neurons, 200 train spikes) PCA {dim}D GMM score: \" + str(dy016_ood_score) + \"\\n\")\n",
    "dy009_ood_score = pca_gmm_average_tr(fourhund_11c_train_data, dy009_ood_11c_memory_data, dy009_ood_11c_test_data, dy009_ood_11c_test_labels, out_dim=dim)\n",
    "print(f\"DY009 OOD (400 neurons, 200 train spikes) PCA {dim}D GMM score: \" + str(dy009_ood_score) + \"\\n\")\n",
    "testset_A_score = pca_gmm_average_tr(fourhund_11c_train_data, id_11c_memory_data, id_11c_test_data, id_11c_test_labels, out_dim=dim)\n",
    "print(f\"test set A (ID DY016) (400 neurons, 200 train spikes) ID PCA {dim}D GMM score: \" + str(testset_A_score) + \"\\n\")"
   ]
  },
  {
   "cell_type": "markdown",
   "id": "ef7e7c4c",
   "metadata": {},
   "source": [
    "### 4D"
   ]
  },
  {
   "cell_type": "code",
   "execution_count": 29,
   "id": "8431b2fe",
   "metadata": {},
   "outputs": [
    {
     "name": "stdout",
     "output_type": "stream",
     "text": [
      "max gmm score: 44.70991818431373\n",
      "min gmm score: 37.045341394642676\n",
      "50 run gmm mean score: 41.52627591657378\n",
      "50 run gmm std-dev score: 1.7388605350810977\n",
      "\n",
      "DY016 OOD (390 neurons, 200 train spikes) denoised PCA 4D GMM score: 41.52627591657378\n",
      "\n",
      "max gmm score: 41.62855275072068\n",
      "min gmm score: 34.971295541103785\n",
      "50 run gmm mean score: 38.51223397439103\n",
      "50 run gmm std-dev score: 1.4461434718493789\n",
      "\n",
      "DY009 OOD (390 neurons, 200 train spikes) denoised PCA 4D GMM score: 38.51223397439103\n",
      "\n",
      "max gmm score: 43.9988763788631\n",
      "min gmm score: 30.411199751991447\n",
      "50 run gmm mean score: 38.69095555443882\n",
      "50 run gmm std-dev score: 3.773274400859903\n",
      "\n",
      "test set A (real OOD DY016) (390 neurons, 200 train spikes) denoised PCA 4D GMM score: 38.69095555443882\n",
      "\n"
     ]
    }
   ],
   "source": [
    "dim = 4\n",
    "dy016_ood_score = pca_gmm_average_tr(fourhund_denoised_11c_train_data, dy016_denoised_ood_11c_memory_data, dy016_denoised_ood_11c_test_data, dy016_denoised_ood_11c_test_labels, out_dim=dim)\n",
    "print(f\"\\nDY016 OOD (390 neurons, 200 train spikes) denoised PCA {dim}D GMM score: \" + str(dy016_ood_score) + \"\\n\")\n",
    "dy009_ood_score = pca_gmm_average_tr(fourhund_denoised_11c_train_data, dy009_denoised_ood_11c_memory_data, dy009_denoised_ood_11c_test_data, dy009_denoised_ood_11c_test_labels, out_dim=dim)\n",
    "print(f\"\\nDY009 OOD (390 neurons, 200 train spikes) denoised PCA {dim}D GMM score: \" + str(dy009_ood_score) + \"\\n\")\n",
    "testset_A_score = pca_gmm_average_tr(fourhund_denoised_11c_train_data, id_denoised_11c_memory_data, id_denoised_11c_test_data, id_denoised_11c_test_labels, out_dim=dim)\n",
    "print(f\"\\ntest set A (real OOD DY016) (390 neurons, 200 train spikes) denoised PCA {dim}D GMM score: \" + str(testset_A_score) + \"\\n\")"
   ]
  },
  {
   "cell_type": "code",
   "execution_count": 30,
   "id": "c6309c89",
   "metadata": {},
   "outputs": [
    {
     "name": "stdout",
     "output_type": "stream",
     "text": [
      "max gmm score: 41.79262785828829\n",
      "min gmm score: 35.171255357500684\n",
      "50 run gmm mean score: 38.69434611909317\n",
      "50 run gmm std-dev score: 1.2166306754951735\n",
      "DY016 OOD (400 neurons, 200 train spikes) PCA 4D GMM score: 38.69434611909317\n",
      "\n",
      "max gmm score: 39.37748449070801\n",
      "min gmm score: 26.886333918583148\n",
      "50 run gmm mean score: 31.851110424729104\n",
      "50 run gmm std-dev score: 2.575194005705665\n",
      "DY009 OOD (400 neurons, 200 train spikes) PCA 4D GMM score: 31.851110424729104\n",
      "\n",
      "max gmm score: 45.056046556912115\n",
      "min gmm score: 31.127771864885332\n",
      "50 run gmm mean score: 40.69499622416758\n",
      "50 run gmm std-dev score: 3.1956207068698204\n",
      "test set A (ID DY016) (400 neurons, 200 train spikes) ID PCA 4D GMM score: 40.69499622416758\n",
      "\n"
     ]
    }
   ],
   "source": [
    "dim = 4\n",
    "dy016_ood_score = pca_gmm_average_tr(fourhund_11c_train_data, dy016_ood_11c_memory_data, dy016_ood_11c_test_data, dy016_ood_11c_test_labels, out_dim=dim)\n",
    "print(f\"DY016 OOD (400 neurons, 200 train spikes) PCA {dim}D GMM score: \" + str(dy016_ood_score) + \"\\n\")\n",
    "dy009_ood_score = pca_gmm_average_tr(fourhund_11c_train_data, dy009_ood_11c_memory_data, dy009_ood_11c_test_data, dy009_ood_11c_test_labels, out_dim=dim)\n",
    "print(f\"DY009 OOD (400 neurons, 200 train spikes) PCA {dim}D GMM score: \" + str(dy009_ood_score) + \"\\n\")\n",
    "testset_A_score = pca_gmm_average_tr(fourhund_11c_train_data, id_11c_memory_data, id_11c_test_data, id_11c_test_labels, out_dim=dim)\n",
    "print(f\"test set A (ID DY016) (400 neurons, 200 train spikes) ID PCA {dim}D GMM score: \" + str(testset_A_score) + \"\\n\")"
   ]
  },
  {
   "cell_type": "markdown",
   "id": "05005c7f",
   "metadata": {},
   "source": [
    "### 6D"
   ]
  },
  {
   "cell_type": "code",
   "execution_count": 31,
   "id": "f42540a7",
   "metadata": {},
   "outputs": [
    {
     "name": "stdout",
     "output_type": "stream",
     "text": [
      "max gmm score: 53.59458729227635\n",
      "min gmm score: 44.923582598294786\n",
      "50 run gmm mean score: 51.05898662925873\n",
      "50 run gmm std-dev score: 1.8648315210679824\n",
      "\n",
      "DY016 OOD (390 neurons, 200 train spikes) denoised PCA 6D GMM score: 51.05898662925873\n",
      "\n",
      "max gmm score: 54.91883163794719\n",
      "min gmm score: 33.230882664272485\n",
      "50 run gmm mean score: 46.426277570261185\n",
      "50 run gmm std-dev score: 3.46394505121059\n",
      "\n",
      "DY009 OOD (390 neurons, 200 train spikes) denoised PCA 6D GMM score: 46.426277570261185\n",
      "\n",
      "max gmm score: 51.60619406094356\n",
      "min gmm score: 39.58927279373619\n",
      "50 run gmm mean score: 46.60302426691909\n",
      "50 run gmm std-dev score: 3.013585282046302\n",
      "\n",
      "test set A (real OOD DY016) (390 neurons, 200 train spikes) denoised PCA 6D GMM score: 46.60302426691909\n",
      "\n"
     ]
    }
   ],
   "source": [
    "dim = 6\n",
    "dy016_ood_score = pca_gmm_average_tr(fourhund_denoised_11c_train_data, dy016_denoised_ood_11c_memory_data, dy016_denoised_ood_11c_test_data, dy016_denoised_ood_11c_test_labels, out_dim=dim)\n",
    "print(f\"\\nDY016 OOD (390 neurons, 200 train spikes) denoised PCA {dim}D GMM score: \" + str(dy016_ood_score) + \"\\n\")\n",
    "dy009_ood_score = pca_gmm_average_tr(fourhund_denoised_11c_train_data, dy009_denoised_ood_11c_memory_data, dy009_denoised_ood_11c_test_data, dy009_denoised_ood_11c_test_labels, out_dim=dim)\n",
    "print(f\"\\nDY009 OOD (390 neurons, 200 train spikes) denoised PCA {dim}D GMM score: \" + str(dy009_ood_score) + \"\\n\")\n",
    "testset_A_score = pca_gmm_average_tr(fourhund_denoised_11c_train_data, id_denoised_11c_memory_data, id_denoised_11c_test_data, id_denoised_11c_test_labels, out_dim=dim)\n",
    "print(f\"\\ntest set A (real OOD DY016) (390 neurons, 200 train spikes) denoised PCA {dim}D GMM score: \" + str(testset_A_score) + \"\\n\")"
   ]
  },
  {
   "cell_type": "code",
   "execution_count": 32,
   "id": "57ee28ff",
   "metadata": {},
   "outputs": [
    {
     "name": "stdout",
     "output_type": "stream",
     "text": [
      "max gmm score: 41.78698411451484\n",
      "min gmm score: 29.053191512325082\n",
      "50 run gmm mean score: 34.216320889194364\n",
      "50 run gmm std-dev score: 2.7071074141174454\n",
      "DY016 OOD (400 neurons, 200 train spikes) PCA 6D GMM score: 34.216320889194364\n",
      "\n",
      "max gmm score: 35.442904363780144\n",
      "min gmm score: 25.594807667495928\n",
      "50 run gmm mean score: 30.618875993840238\n",
      "50 run gmm std-dev score: 1.9967235580410598\n",
      "DY009 OOD (400 neurons, 200 train spikes) PCA 6D GMM score: 30.618875993840238\n",
      "\n",
      "max gmm score: 45.900629990867614\n",
      "min gmm score: 32.81812803253475\n",
      "50 run gmm mean score: 39.09476244850222\n",
      "50 run gmm std-dev score: 3.673600377855609\n",
      "test set A (ID DY016) (400 neurons, 200 train spikes) ID PCA 6D GMM score: 39.09476244850222\n",
      "\n"
     ]
    }
   ],
   "source": [
    "dim = 6\n",
    "dy016_ood_score = pca_gmm_average_tr(fourhund_11c_train_data, dy016_ood_11c_memory_data, dy016_ood_11c_test_data, dy016_ood_11c_test_labels, out_dim=dim)\n",
    "print(f\"DY016 OOD (400 neurons, 200 train spikes) PCA {dim}D GMM score: \" + str(dy016_ood_score) + \"\\n\")\n",
    "dy009_ood_score = pca_gmm_average_tr(fourhund_11c_train_data, dy009_ood_11c_memory_data, dy009_ood_11c_test_data, dy009_ood_11c_test_labels, out_dim=dim)\n",
    "print(f\"DY009 OOD (400 neurons, 200 train spikes) PCA {dim}D GMM score: \" + str(dy009_ood_score) + \"\\n\")\n",
    "testset_A_score = pca_gmm_average_tr(fourhund_11c_train_data, id_11c_memory_data, id_11c_test_data, id_11c_test_labels, out_dim=dim)\n",
    "print(f\"test set A (ID DY016) (400 neurons, 200 train spikes) ID PCA {dim}D GMM score: \" + str(testset_A_score) + \"\\n\")"
   ]
  },
  {
   "cell_type": "markdown",
   "id": "b6cb189d",
   "metadata": {},
   "source": [
    "### 10D"
   ]
  },
  {
   "cell_type": "code",
   "execution_count": 33,
   "id": "54ec2108",
   "metadata": {},
   "outputs": [
    {
     "name": "stdout",
     "output_type": "stream",
     "text": [
      "max gmm score: 57.18476642724454\n",
      "min gmm score: 49.883241538378286\n",
      "50 run gmm mean score: 55.019208284122506\n",
      "50 run gmm std-dev score: 1.3332919765417302\n",
      "\n",
      "DY016 OOD (390 neurons, 200 train spikes) denoised PCA 10D GMM score: 55.019208284122506\n",
      "\n",
      "max gmm score: 57.4905861327079\n",
      "min gmm score: 42.938224730089765\n",
      "50 run gmm mean score: 52.120867759237356\n",
      "50 run gmm std-dev score: 4.016084557095273\n",
      "\n",
      "DY009 OOD (390 neurons, 200 train spikes) denoised PCA 10D GMM score: 52.120867759237356\n",
      "\n",
      "max gmm score: 54.50032478734125\n",
      "min gmm score: 36.82806932996983\n",
      "50 run gmm mean score: 46.70704239168859\n",
      "50 run gmm std-dev score: 5.4774460228140684\n",
      "\n",
      "test set A (real OOD DY016) (390 neurons, 200 train spikes) denoised PCA 10D GMM score: 46.70704239168859\n",
      "\n"
     ]
    }
   ],
   "source": [
    "dim = 10\n",
    "dy016_ood_score = pca_gmm_average_tr(fourhund_denoised_11c_train_data, dy016_denoised_ood_11c_memory_data, dy016_denoised_ood_11c_test_data, dy016_denoised_ood_11c_test_labels, out_dim=dim)\n",
    "print(f\"\\nDY016 OOD (390 neurons, 200 train spikes) denoised PCA {dim}D GMM score: \" + str(dy016_ood_score) + \"\\n\")\n",
    "dy009_ood_score = pca_gmm_average_tr(fourhund_denoised_11c_train_data, dy009_denoised_ood_11c_memory_data, dy009_denoised_ood_11c_test_data, dy009_denoised_ood_11c_test_labels, out_dim=dim)\n",
    "print(f\"\\nDY009 OOD (390 neurons, 200 train spikes) denoised PCA {dim}D GMM score: \" + str(dy009_ood_score) + \"\\n\")\n",
    "testset_A_score = pca_gmm_average_tr(fourhund_denoised_11c_train_data, id_denoised_11c_memory_data, id_denoised_11c_test_data, id_denoised_11c_test_labels, out_dim=dim)\n",
    "print(f\"\\ntest set A (real OOD DY016) (390 neurons, 200 train spikes) denoised PCA {dim}D GMM score: \" + str(testset_A_score) + \"\\n\")"
   ]
  },
  {
   "cell_type": "code",
   "execution_count": 34,
   "id": "7b841f7d",
   "metadata": {},
   "outputs": [
    {
     "name": "stdout",
     "output_type": "stream",
     "text": [
      "max gmm score: 40.40950212600583\n",
      "min gmm score: 28.02585529414987\n",
      "50 run gmm mean score: 34.274381516991326\n",
      "50 run gmm std-dev score: 2.5701400210950416\n",
      "DY016 OOD (400 neurons, 200 train spikes) PCA 10D GMM score: 34.274381516991326\n",
      "\n",
      "max gmm score: 38.599254391188964\n",
      "min gmm score: 25.979475407087655\n",
      "50 run gmm mean score: 32.605137166420484\n",
      "50 run gmm std-dev score: 3.664304636864035\n",
      "DY009 OOD (400 neurons, 200 train spikes) PCA 10D GMM score: 32.605137166420484\n",
      "\n",
      "max gmm score: 48.69308703250956\n",
      "min gmm score: 37.632748323557\n",
      "50 run gmm mean score: 42.12261330107361\n",
      "50 run gmm std-dev score: 2.5117913739183972\n",
      "test set A (ID DY016) (400 neurons, 200 train spikes) ID PCA 10D GMM score: 42.12261330107361\n",
      "\n"
     ]
    }
   ],
   "source": [
    "dim = 10\n",
    "dy016_ood_score = pca_gmm_average_tr(fourhund_11c_train_data, dy016_ood_11c_memory_data, dy016_ood_11c_test_data, dy016_ood_11c_test_labels, out_dim=dim)\n",
    "print(f\"DY016 OOD (400 neurons, 200 train spikes) PCA {dim}D GMM score: \" + str(dy016_ood_score) + \"\\n\")\n",
    "dy009_ood_score = pca_gmm_average_tr(fourhund_11c_train_data, dy009_ood_11c_memory_data, dy009_ood_11c_test_data, dy009_ood_11c_test_labels, out_dim=dim)\n",
    "print(f\"DY009 OOD (400 neurons, 200 train spikes) PCA {dim}D GMM score: \" + str(dy009_ood_score) + \"\\n\")\n",
    "testset_A_score = pca_gmm_average_tr(fourhund_11c_train_data, id_11c_memory_data, id_11c_test_data, id_11c_test_labels, out_dim=dim)\n",
    "print(f\"test set A (ID DY016) (400 neurons, 200 train spikes) ID PCA {dim}D GMM score: \" + str(testset_A_score) + \"\\n\")"
   ]
  },
  {
   "cell_type": "markdown",
   "id": "0500eae2",
   "metadata": {},
   "source": [
    "## 400 neuron, 1200 spikes, 5 chan"
   ]
  },
  {
   "cell_type": "code",
   "execution_count": 28,
   "id": "fa9c3437",
   "metadata": {},
   "outputs": [
    {
     "name": "stdout",
     "output_type": "stream",
     "text": [
      "max gmm score: 48.094395698234464\n",
      "min gmm score: 41.745284448139024\n",
      "50 run gmm mean score: 44.502718507091146\n",
      "50 run gmm std-dev score: 1.7779936129471667\n",
      "DY016 OOD (400 neurons, 1200 train spikes) denoised data GMM score: 44.502718507091146\n",
      "max gmm score: 44.52775351653091\n",
      "min gmm score: 34.04123445104575\n",
      "50 run gmm mean score: 40.33534892495606\n",
      "50 run gmm std-dev score: 2.6011016533929294\n",
      "DY009 OOD (400 neurons, 1200 train spikes) denoised data GMM score: 40.33534892495606\n",
      "max gmm score: 55.92005422904447\n",
      "min gmm score: 39.23059834144118\n",
      "50 run gmm mean score: 48.38147559926359\n",
      "50 run gmm std-dev score: 4.251579451897838\n",
      "test set A (ID DY016) (400 neurons, 1200 train spikes) ID denoised data GMM score: 48.38147559926359\n"
     ]
    }
   ],
   "source": [
    "dy016_ood_score = pca_gmm_average_tr(fourhund_1200_denoised_5c_train_data, dy016_denoised_ood_5c_memory_data, dy016_denoised_ood_5c_test_data, dy016_denoised_ood_5c_test_labels)\n",
    "print(\"DY016 OOD (400 neurons, 1200 train spikes) denoised data GMM score: \" + str(dy016_ood_score))\n",
    "dy009_ood_score = pca_gmm_average_tr(fourhund_1200_denoised_5c_train_data, dy009_denoised_ood_5c_memory_data, dy009_denoised_ood_5c_test_data, dy009_denoised_ood_5c_test_labels)\n",
    "print(\"DY009 OOD (400 neurons, 1200 train spikes) denoised data GMM score: \" + str(dy009_ood_score))\n",
    "testset_A_score = pca_gmm_average_tr(fourhund_1200_denoised_5c_train_data, id_denoised_5c_memory_data, id_denoised_5c_test_data, id_denoised_5c_test_labels)\n",
    "print(\"test set A (ID DY016) (400 neurons, 1200 train spikes) ID denoised data GMM score: \" + str(testset_A_score))"
   ]
  },
  {
   "cell_type": "code",
   "execution_count": 29,
   "id": "ac0649e2",
   "metadata": {},
   "outputs": [
    {
     "name": "stdout",
     "output_type": "stream",
     "text": [
      "max gmm score: 39.89104024339202\n",
      "min gmm score: 26.546702953463004\n",
      "50 run gmm mean score: 34.43533178154106\n",
      "50 run gmm std-dev score: 3.5552293564893485\n",
      "DY016 OOD (400 neurons, 1200 train spikes) data GMM score: 34.43533178154106\n",
      "max gmm score: 26.50103263323565\n",
      "min gmm score: 17.536011558451317\n",
      "50 run gmm mean score: 20.862068292899586\n",
      "50 run gmm std-dev score: 1.5991941748639513\n",
      "DY009 OOD (400 neurons, 1200 train spikes) denoised data GMM score: 20.862068292899586\n",
      "max gmm score: 51.654971611343306\n",
      "min gmm score: 35.082526937637624\n",
      "50 run gmm mean score: 44.87747682661522\n",
      "50 run gmm std-dev score: 4.001206501321743\n",
      "test set A (ID DY016) (400 neurons, 1200 train spikes) ID data GMM score: 44.87747682661522\n"
     ]
    }
   ],
   "source": [
    "dy016_ood_score = pca_gmm_average_tr(fourhund_1200_5c_train_data, dy016_ood_5c_memory_data, dy016_ood_5c_test_data, dy016_ood_5c_test_labels)\n",
    "print(\"DY016 OOD (400 neurons, 1200 train spikes) data GMM score: \" + str(dy016_ood_score))\n",
    "dy009_ood_score = pca_gmm_average_tr(fourhund_1200_5c_train_data, dy009_ood_5c_memory_data, dy009_ood_5c_test_data, dy009_ood_5c_test_labels)\n",
    "print(\"DY009 OOD (400 neurons, 1200 train spikes) denoised data GMM score: \" + str(dy009_ood_score))\n",
    "testset_A_score = pca_gmm_average_tr(fourhund_1200_5c_train_data, id_5c_memory_data, id_5c_test_data, id_5c_test_labels)\n",
    "print(\"test set A (ID DY016) (400 neurons, 1200 train spikes) ID data GMM score: \" + str(testset_A_score))"
   ]
  },
  {
   "cell_type": "markdown",
   "id": "dd37830c",
   "metadata": {},
   "source": [
    "## 400 neuron, 1200 spikes, 11 chan"
   ]
  },
  {
   "cell_type": "code",
   "execution_count": 30,
   "id": "2270863d",
   "metadata": {},
   "outputs": [
    {
     "name": "stdout",
     "output_type": "stream",
     "text": [
      "max gmm score: 48.99614025165182\n",
      "min gmm score: 40.78003377881754\n",
      "50 run gmm mean score: 46.727223066562104\n",
      "50 run gmm std-dev score: 1.5269670513611084\n",
      "DY016 OOD (400 neurons, 1200 train spikes) denoised data GMM score: 46.727223066562104\n",
      "max gmm score: 45.14165294730949\n",
      "min gmm score: 35.96376483977253\n",
      "50 run gmm mean score: 41.27244488979042\n",
      "50 run gmm std-dev score: 2.310532488437097\n",
      "DY009 OOD (400 neurons, 1200 train spikes) denoised data GMM score: 41.27244488979042\n",
      "max gmm score: 55.17556987256861\n",
      "min gmm score: 34.355718816344115\n",
      "50 run gmm mean score: 44.6044794271138\n",
      "50 run gmm std-dev score: 4.258011368895061\n",
      "test set A (ID DY016) (400 neurons, 1200 train spikes) ID denoised data GMM score: 44.6044794271138\n"
     ]
    }
   ],
   "source": [
    "dy016_ood_score = pca_gmm_average_tr(fourhund_1200_denoised_11c_train_data, dy016_denoised_ood_11c_memory_data, dy016_denoised_ood_11c_test_data, dy016_denoised_ood_11c_test_labels)\n",
    "print(\"DY016 OOD (400 neurons, 1200 train spikes) denoised data GMM score: \" + str(dy016_ood_score))\n",
    "dy009_ood_score = pca_gmm_average_tr(fourhund_1200_denoised_11c_train_data, dy009_denoised_ood_11c_memory_data, dy009_denoised_ood_11c_test_data, dy009_denoised_ood_11c_test_labels)\n",
    "print(\"DY009 OOD (400 neurons, 1200 train spikes) denoised data GMM score: \" + str(dy009_ood_score))\n",
    "testset_A_score = pca_gmm_average_tr(fourhund_1200_denoised_11c_train_data, id_denoised_11c_memory_data, id_denoised_11c_test_data, id_denoised_11c_test_labels)\n",
    "print(\"test set A (ID DY016) (400 neurons, 1200 train spikes) ID denoised data GMM score: \" + str(testset_A_score))"
   ]
  },
  {
   "cell_type": "code",
   "execution_count": 31,
   "id": "4c0ad845",
   "metadata": {},
   "outputs": [
    {
     "name": "stdout",
     "output_type": "stream",
     "text": [
      "max gmm score: 40.8809364902398\n",
      "min gmm score: 31.559800924748416\n",
      "50 run gmm mean score: 36.01833361293192\n",
      "50 run gmm std-dev score: 2.358189822154822\n",
      "DY016 OOD (400 neurons, 1200 train spikes) data GMM score: 36.01833361293192\n",
      "max gmm score: 38.4876234446748\n",
      "min gmm score: 27.708631557995485\n",
      "50 run gmm mean score: 30.764194111764947\n",
      "50 run gmm std-dev score: 2.1523340052588593\n",
      "DY009 OOD (400 neurons, 1200 train spikes) denoised data GMM score: 30.764194111764947\n",
      "max gmm score: 43.2844852786714\n",
      "min gmm score: 26.144529981858213\n",
      "50 run gmm mean score: 37.77904473049833\n",
      "50 run gmm std-dev score: 3.780511526098917\n",
      "test set A (ID DY016) (400 neurons, 1200 train spikes) ID data GMM score: 37.77904473049833\n"
     ]
    }
   ],
   "source": [
    "dy016_ood_score = pca_gmm_average_tr(fourhund_1200_11c_train_data, dy016_ood_11c_memory_data, dy016_ood_11c_test_data, dy016_ood_11c_test_labels)\n",
    "print(\"DY016 OOD (400 neurons, 1200 train spikes) data GMM score: \" + str(dy016_ood_score))\n",
    "dy009_ood_score = pca_gmm_average_tr(fourhund_1200_11c_train_data, dy009_ood_11c_memory_data, dy009_ood_11c_test_data, dy009_ood_11c_test_labels)\n",
    "print(\"DY009 OOD (400 neurons, 1200 train spikes) denoised data GMM score: \" + str(dy009_ood_score))\n",
    "testset_A_score = pca_gmm_average_tr(fourhund_1200_11c_train_data, id_11c_memory_data, id_11c_test_data, id_11c_test_labels)\n",
    "print(\"test set A (ID DY016) (400 neurons, 1200 train spikes) ID data GMM score: \" + str(testset_A_score))"
   ]
  },
  {
   "cell_type": "markdown",
   "id": "7981f51f",
   "metadata": {},
   "source": [
    "## 390 neuron, 1200 spikes, 11 chan"
   ]
  },
  {
   "cell_type": "code",
   "execution_count": 6,
   "id": "44c579ac",
   "metadata": {},
   "outputs": [
    {
     "name": "stdout",
     "output_type": "stream",
     "text": [
      "max gmm score: 48.60804477338698\n",
      "min gmm score: 39.75480683937004\n",
      "50 run gmm mean score: 45.92914436746882\n",
      "50 run gmm std-dev score: 1.6328892611301953\n",
      "DY016 OOD (390 neurons, 1200 train spikes) denoised data GMM score: 45.92914436746882\n",
      "max gmm score: 46.13402195125406\n",
      "min gmm score: 35.80291780581771\n",
      "50 run gmm mean score: 42.379070562153146\n",
      "50 run gmm std-dev score: 2.2303673248404534\n",
      "DY009 OOD (390 neurons, 1200 train spikes) denoised data GMM score: 42.379070562153146\n",
      "max gmm score: 55.18234671845307\n",
      "min gmm score: 35.598123840937454\n",
      "50 run gmm mean score: 45.77485420791682\n",
      "50 run gmm std-dev score: 4.1986008009968385\n",
      "test set A (real OOD DY016) (390 neurons, 1200 train spikes) denoised data GMM score: 45.77485420791682\n"
     ]
    }
   ],
   "source": [
    "dy016_ood_score = pca_gmm_average_tr(threenine_1200_denoised_11c_train_data, dy016_denoised_ood_11c_memory_data, dy016_denoised_ood_11c_test_data, dy016_denoised_ood_11c_test_labels)\n",
    "print(\"DY016 OOD (390 neurons, 1200 train spikes) denoised data GMM score: \" + str(dy016_ood_score))\n",
    "dy009_ood_score = pca_gmm_average_tr(threenine_1200_denoised_11c_train_data, dy009_denoised_ood_11c_memory_data, dy009_denoised_ood_11c_test_data, dy009_denoised_ood_11c_test_labels)\n",
    "print(\"DY009 OOD (390 neurons, 1200 train spikes) denoised data GMM score: \" + str(dy009_ood_score))\n",
    "testset_A_score = pca_gmm_average_tr(threenine_1200_denoised_11c_train_data, id_denoised_11c_memory_data, id_denoised_11c_test_data, id_denoised_11c_test_labels)\n",
    "print(\"test set A (real OOD DY016) (390 neurons, 1200 train spikes) denoised data GMM score: \" + str(testset_A_score))"
   ]
  },
  {
   "cell_type": "code",
   "execution_count": 7,
   "id": "609b99f3",
   "metadata": {},
   "outputs": [
    {
     "name": "stdout",
     "output_type": "stream",
     "text": [
      "max gmm score: 39.189555871252686\n",
      "min gmm score: 28.935972677835114\n",
      "50 run gmm mean score: 34.53771812976084\n",
      "50 run gmm std-dev score: 2.1985301275746054\n",
      "DY016 OOD (390 neurons, 1200 train spikes) data GMM score: 34.53771812976084\n",
      "max gmm score: 36.17186157242666\n",
      "min gmm score: 27.277896826425675\n",
      "50 run gmm mean score: 31.420735723586652\n",
      "50 run gmm std-dev score: 2.175408313716692\n",
      "DY009 OOD (390 neurons, 1200 train spikes) denoised data GMM score: 31.420735723586652\n",
      "max gmm score: 43.24709337992005\n",
      "min gmm score: 32.93959869314438\n",
      "50 run gmm mean score: 37.9835405610387\n",
      "50 run gmm std-dev score: 3.344276432386825\n",
      "test set A (real OOD DY016) (390 neurons, 1200 train spikes) data GMM score: 37.9835405610387\n"
     ]
    }
   ],
   "source": [
    "dy016_ood_score = pca_gmm_average_tr(threenine_1200_11c_train_data, dy016_ood_11c_memory_data, dy016_ood_11c_test_data, dy016_ood_11c_test_labels)\n",
    "print(\"DY016 OOD (390 neurons, 1200 train spikes) data GMM score: \" + str(dy016_ood_score))\n",
    "dy009_ood_score = pca_gmm_average_tr(threenine_1200_11c_train_data, dy009_ood_11c_memory_data, dy009_ood_11c_test_data, dy009_ood_11c_test_labels)\n",
    "print(\"DY009 OOD (390 neurons, 1200 train spikes) denoised data GMM score: \" + str(dy009_ood_score))\n",
    "testset_A_score = pca_gmm_average_tr(threenine_1200_11c_train_data, id_11c_memory_data, id_11c_test_data, id_11c_test_labels)\n",
    "print(\"test set A (real OOD DY016) (390 neurons, 1200 train spikes) data GMM score: \" + str(testset_A_score))"
   ]
  },
  {
   "cell_type": "markdown",
   "id": "ca209bd6",
   "metadata": {},
   "source": [
    "## 390 neuron, 1200 spikes, 5 chan"
   ]
  },
  {
   "cell_type": "code",
   "execution_count": 9,
   "id": "553afa08",
   "metadata": {},
   "outputs": [
    {
     "name": "stdout",
     "output_type": "stream",
     "text": [
      "max gmm score: 55.549688984912414\n",
      "min gmm score: 41.62956135000746\n",
      "50 run gmm mean score: 49.46433902144398\n",
      "50 run gmm std-dev score: 4.305482778200534\n",
      "test set A (real OOD DY016) (390 neurons, 1200 train spikes) denoised data GMM score: 49.46433902144398\n"
     ]
    }
   ],
   "source": [
    "# dy016_ood_score = pca_gmm_average_tr(threenine_1200_denoised_5c_train_data, dy016_denoised_ood_5c_memory_data, dy016_denoised_ood_5c_test_data, dy016_denoised_ood_5c_test_labels)\n",
    "# print(\"DY016 OOD (390 neurons, 1200 train spikes) denoised data GMM score: \" + str(dy016_ood_score))\n",
    "# dy009_ood_score = pca_gmm_average_tr(threenine_1200_denoised_5c_train_data, dy009_denoised_ood_5c_memory_data, dy009_denoised_ood_5c_test_data, dy009_denoised_ood_5c_test_labels)\n",
    "# print(\"DY009 OOD (390 neurons, 1200 train spikes) denoised data GMM score: \" + str(dy009_ood_score))\n",
    "testset_A_score = pca_gmm_average_tr(threenine_1200_denoised_5c_train_data, id_denoised_5c_memory_data, id_denoised_5c_test_data, id_denoised_5c_test_labels)\n",
    "print(\"test set A (real OOD DY016) (390 neurons, 1200 train spikes) denoised data GMM score: \" + str(testset_A_score))"
   ]
  },
  {
   "cell_type": "code",
   "execution_count": 10,
   "id": "9359514a",
   "metadata": {},
   "outputs": [
    {
     "name": "stdout",
     "output_type": "stream",
     "text": [
      "max gmm score: 50.04236190276502\n",
      "min gmm score: 35.211012333715445\n",
      "50 run gmm mean score: 44.65907862400737\n",
      "50 run gmm std-dev score: 3.1798425257429526\n",
      "test set A (real OOD DY016) (390 neurons, 1200 train spikes) data GMM score: 44.65907862400737\n"
     ]
    }
   ],
   "source": [
    "# dy016_ood_score = pca_gmm_average_tr(threenine_1200_5c_train_data, dy016_ood_5c_memory_data, dy016_ood_5c_test_data, dy016_ood_5c_test_labels)\n",
    "# print(\"DY016 OOD (390 neurons, 1200 train spikes) data GMM score: \" + str(dy016_ood_score))\n",
    "# dy009_ood_score = pca_gmm_average_tr(threenine_1200_5c_train_data, dy009_ood_5c_memory_data, dy009_ood_5c_test_data, dy009_ood_5c_test_labels)\n",
    "# print(\"DY009 OOD (390 neurons, 1200 train spikes) denoised data GMM score: \" + str(dy009_ood_score))\n",
    "testset_A_score = pca_gmm_average_tr(threenine_1200_5c_train_data, id_5c_memory_data, id_5c_test_data, id_5c_test_labels)\n",
    "print(\"test set A (real OOD DY016) (390 neurons, 1200 train spikes) data GMM score: \" + str(testset_A_score))"
   ]
  },
  {
   "cell_type": "markdown",
   "id": "8d03a969",
   "metadata": {},
   "source": [
    "## 390 neuron, 200 spikes, 11 chan"
   ]
  },
  {
   "cell_type": "code",
   "execution_count": 13,
   "id": "89e43c7d",
   "metadata": {},
   "outputs": [
    {
     "name": "stdout",
     "output_type": "stream",
     "text": [
      "max gmm score: 54.142899883337655\n",
      "min gmm score: 35.40300261482869\n",
      "50 run gmm mean score: 43.8595789884621\n",
      "50 run gmm std-dev score: 3.607852687923732\n",
      "test set A (real OOD DY016) (390 neurons, 200 train spikes) denoised data GMM score: 43.8595789884621\n"
     ]
    }
   ],
   "source": [
    "# dy016_ood_score = pca_gmm_average_tr(threenine_200_denoised_11c_train_data, dy016_denoised_ood_11c_memory_data, dy016_denoised_ood_11c_test_data, dy016_denoised_ood_11c_test_labels)\n",
    "# print(\"DY016 OOD (390 neurons, 200 train spikes) denoised data GMM score: \" + str(dy016_ood_score))\n",
    "# dy009_ood_score = pca_gmm_average_tr(threenine_200_denoised_11c_train_data, dy009_denoised_ood_11c_memory_data, dy009_denoised_ood_11c_test_data, dy009_denoised_ood_11c_test_labels)\n",
    "# print(\"DY009 OOD (390 neurons, 200 train spikes) denoised data GMM score: \" + str(dy009_ood_score))\n",
    "testset_A_score = pca_gmm_average_tr(threenine_200_denoised_11c_train_data, id_denoised_11c_memory_data, id_denoised_11c_test_data, id_denoised_11c_test_labels)\n",
    "print(\"test set A (real OOD DY016) (390 neurons, 200 train spikes) denoised data GMM score: \" + str(testset_A_score))"
   ]
  },
  {
   "cell_type": "code",
   "execution_count": 14,
   "id": "a34f6de6",
   "metadata": {},
   "outputs": [
    {
     "name": "stdout",
     "output_type": "stream",
     "text": [
      "max gmm score: 44.75409980235697\n",
      "min gmm score: 33.64156989652088\n",
      "50 run gmm mean score: 40.080611925455344\n",
      "50 run gmm std-dev score: 3.2865079971507436\n",
      "test set A (real OOD DY016) (390 neurons, 200 train spikes) data GMM score: 40.080611925455344\n"
     ]
    }
   ],
   "source": [
    "# dy016_ood_score = pca_gmm_average_tr(threenine_200_11c_train_data, dy016_ood_11c_memory_data, dy016_ood_11c_test_data, dy016_ood_11c_test_labels)\n",
    "# print(\"DY016 OOD (390 neurons, 200 train spikes) data GMM score: \" + str(dy016_ood_score))\n",
    "# dy009_ood_score = pca_gmm_average_tr(threenine_200_11c_train_data, dy009_ood_11c_memory_data, dy009_ood_11c_test_data, dy009_ood_11c_test_labels)\n",
    "# print(\"DY009 OOD (390 neurons, 200 train spikes) denoised data GMM score: \" + str(dy009_ood_score))\n",
    "testset_A_score = pca_gmm_average_tr(threenine_200_11c_train_data, id_11c_memory_data, id_11c_test_data, id_11c_test_labels)\n",
    "print(\"test set A (real OOD DY016) (390 neurons, 200 train spikes) data GMM score: \" + str(testset_A_score))"
   ]
  },
  {
   "cell_type": "markdown",
   "id": "4f0079cb",
   "metadata": {},
   "source": [
    "## 390 neuron, 200 spikes, 5 chan"
   ]
  },
  {
   "cell_type": "code",
   "execution_count": 18,
   "id": "43f0e746",
   "metadata": {},
   "outputs": [
    {
     "name": "stdout",
     "output_type": "stream",
     "text": [
      "max gmm score: 54.48242513321132\n",
      "min gmm score: 40.95370606120831\n",
      "50 run gmm mean score: 47.71489214919725\n",
      "50 run gmm std-dev score: 4.254024821979045\n",
      "test set A (real OOD DY016) (390 neurons, 200 train spikes) denoised data GMM score: 47.71489214919725\n"
     ]
    }
   ],
   "source": [
    "# dy016_ood_score = pca_gmm_average_tr(threenine_200_denoised_5c_train_data, dy016_denoised_ood_5c_memory_data, dy016_denoised_ood_5c_test_data, dy016_denoised_ood_5c_test_labels)\n",
    "# print(\"DY016 OOD (390 neurons, 200 train spikes) denoised data GMM score: \" + str(dy016_ood_score))\n",
    "# dy009_ood_score = pca_gmm_average_tr(threenine_200_denoised_5c_train_data, dy009_denoised_ood_5c_memory_data, dy009_denoised_ood_5c_test_data, dy009_denoised_ood_5c_test_labels)\n",
    "# print(\"DY009 OOD (390 neurons, 200 train spikes) denoised data GMM score: \" + str(dy009_ood_score))\n",
    "testset_A_score = pca_gmm_average_tr(threenine_200_denoised_5c_train_data, id_denoised_5c_memory_data, id_denoised_5c_test_data, id_denoised_5c_test_labels)\n",
    "print(\"test set A (real OOD DY016) (390 neurons, 200 train spikes) denoised data GMM score: \" + str(testset_A_score))"
   ]
  },
  {
   "cell_type": "code",
   "execution_count": 19,
   "id": "74488662",
   "metadata": {},
   "outputs": [
    {
     "name": "stdout",
     "output_type": "stream",
     "text": [
      "max gmm score: 50.26284972490571\n",
      "min gmm score: 35.28060336664095\n",
      "50 run gmm mean score: 43.43548326743042\n",
      "50 run gmm std-dev score: 3.7924848032514658\n",
      "test set A (real OOD DY016) (390 neurons, 200 train spikes) data GMM score: 43.43548326743042\n"
     ]
    }
   ],
   "source": [
    "# dy016_ood_score = pca_gmm_average_tr(threenine_1200_5c_train_data, dy016_ood_5c_memory_data, dy016_ood_5c_test_data, dy016_ood_5c_test_labels)\n",
    "# print(\"DY016 OOD (390 neurons, 1200 train spikes) data GMM score: \" + str(dy016_ood_score))\n",
    "# dy009_ood_score = pca_gmm_average_tr(threenine_1200_5c_train_data, dy009_ood_5c_memory_data, dy009_ood_5c_test_data, dy009_ood_5c_test_labels)\n",
    "# print(\"DY009 OOD (390 neurons, 1200 train spikes) denoised data GMM score: \" + str(dy009_ood_score))\n",
    "testset_A_score = pca_gmm_average_tr(threenine_200_5c_train_data, id_5c_memory_data, id_5c_test_data, id_5c_test_labels)\n",
    "print(\"test set A (real OOD DY016) (390 neurons, 200 train spikes) data GMM score: \" + str(testset_A_score))"
   ]
  },
  {
   "cell_type": "markdown",
   "id": "9172ecee",
   "metadata": {},
   "source": [
    "## ID of all sets"
   ]
  },
  {
   "cell_type": "code",
   "execution_count": 9,
   "id": "74928c3e",
   "metadata": {},
   "outputs": [
    {
     "name": "stdout",
     "output_type": "stream",
     "text": [
      "max gmm score: 52.584032309117376\n",
      "min gmm score: 46.0081820452671\n",
      "50 run gmm mean score: 49.2891235247913\n",
      "50 run gmm std-dev score: 1.6740202597724116\n",
      "DY016 ID (200 train spikes) denoised data GMM score: 49.2891235247913\n",
      "max gmm score: 47.609536052231974\n",
      "min gmm score: 38.36627362684138\n",
      "50 run gmm mean score: 43.84671865114465\n",
      "50 run gmm std-dev score: 2.4790120498438704\n",
      "DY009 ID (200 train spikes) denoised data GMM score: 43.84671865114465\n",
      "max gmm score: 55.13788604316496\n",
      "min gmm score: 41.24540178404644\n",
      "50 run gmm mean score: 50.089815808558384\n",
      "50 run gmm std-dev score: 3.7784439320488157\n",
      "test set A (DY016) (200 train spikes) ID denoised data GMM score: 50.089815808558384\n"
     ]
    }
   ],
   "source": [
    "dy016_ood_score = pca_gmm_average(dy016_denoised_ood_5c_memory_data, dy016_denoised_ood_5c_test_data, dy016_denoised_ood_5c_test_labels)\n",
    "print(\"DY016 ID (200 train spikes) denoised data GMM score: \" + str(dy016_ood_score))\n",
    "dy009_ood_score = pca_gmm_average(dy009_denoised_ood_5c_memory_data, dy009_denoised_ood_5c_test_data, dy009_denoised_ood_5c_test_labels)\n",
    "print(\"DY009 ID (200 train spikes) denoised data GMM score: \" + str(dy009_ood_score))\n",
    "testset_A_score = pca_gmm_average(id_denoised_5c_memory_data, id_denoised_5c_test_data, id_denoised_5c_test_labels)\n",
    "print(\"test set A (DY016) (200 train spikes) ID denoised data GMM score: \" + str(testset_A_score))"
   ]
  },
  {
   "cell_type": "code",
   "execution_count": 10,
   "id": "c714b02e",
   "metadata": {},
   "outputs": [
    {
     "name": "stdout",
     "output_type": "stream",
     "text": [
      "max gmm score: 52.87893863727135\n",
      "min gmm score: 46.19428913641999\n",
      "50 run gmm mean score: 49.9818882433913\n",
      "50 run gmm std-dev score: 1.3541427496136573\n",
      "DY016 ID (200 train spikes) denoised data GMM score: 49.9818882433913\n",
      "max gmm score: 49.72548301103939\n",
      "min gmm score: 44.87138629207036\n",
      "50 run gmm mean score: 48.07065613084811\n",
      "50 run gmm std-dev score: 1.503227640182234\n",
      "DY009 ID (200 train spikes) denoised data GMM score: 48.07065613084811\n",
      "max gmm score: 44.28033538250909\n",
      "min gmm score: 31.39884573758237\n",
      "50 run gmm mean score: 39.61758101381981\n",
      "50 run gmm std-dev score: 2.7179886027734343\n",
      "test set A (DY016) (200 train spikes) ID data denoised GMM score: 39.61758101381981\n"
     ]
    }
   ],
   "source": [
    "dy016_ood_score = pca_gmm_average(dy016_denoised_ood_11c_memory_data, dy016_denoised_ood_11c_test_data, dy016_denoised_ood_11c_test_labels)\n",
    "print(\"DY016 ID (200 train spikes) denoised data GMM score: \" + str(dy016_ood_score))\n",
    "dy009_ood_score = pca_gmm_average(dy009_denoised_ood_11c_memory_data, dy009_denoised_ood_11c_memory_data, dy009_denoised_ood_11c_test_labels)\n",
    "print(\"DY009 ID (200 train spikes) denoised data GMM score: \" + str(dy009_ood_score))\n",
    "testset_A_score = pca_gmm_average(id_denoised_11c_memory_data, id_denoised_11c_test_data, id_denoised_11c_test_labels)\n",
    "print(\"test set A (DY016) (200 train spikes) ID data denoised GMM score: \" + str(testset_A_score))"
   ]
  },
  {
   "cell_type": "code",
   "execution_count": 7,
   "id": "bec0d498",
   "metadata": {
    "scrolled": true
   },
   "outputs": [
    {
     "name": "stdout",
     "output_type": "stream",
     "text": [
      "max gmm score: 44.016484964451244\n",
      "min gmm score: 34.27168700179398\n",
      "50 run gmm mean score: 38.60536750922742\n",
      "50 run gmm std-dev score: 2.2499194442618533\n",
      "DY016 OOD data GMM score: 38.60536750922742\n",
      "max gmm score: 43.2123786410486\n",
      "min gmm score: 32.315591872083886\n",
      "50 run gmm mean score: 39.17478255524215\n",
      "50 run gmm std-dev score: 2.2927240799944033\n",
      "DY009 OOD data GMM score: 39.17478255524215\n",
      "max gmm score: 54.85513270593066\n",
      "min gmm score: 36.60393970101378\n",
      "50 run gmm mean score: 44.16644158201513\n",
      "50 run gmm std-dev score: 3.601146433041381\n",
      "test set A data GMM score: 44.16644158201513\n"
     ]
    }
   ],
   "source": [
    "dy016_ood_score = pca_gmm_average(dy016_ood_5c_memory_data, dy016_ood_5c_test_data, dy016_ood_5c_test_labels)\n",
    "print(\"DY016 ID (200 train spikes) data GMM score: \" + str(dy016_ood_score))\n",
    "dy009_ood_score = pca_gmm_average(dy009_ood_5c_memory_data, dy009_ood_5c_memory_data, dy009_ood_5c_test_labels)\n",
    "print(\"DY009 ID (200 train spikes) data GMM score: \" + str(dy009_ood_score))\n",
    "testset_A_score = pca_gmm_average(id_5c_memory_data, id_5c_test_data, id_5c_test_labels)\n",
    "print(\"test set A (DY016) (200 train spikes) ID data GMM score: \" + str(testset_A_score))"
   ]
  },
  {
   "cell_type": "code",
   "execution_count": 8,
   "id": "9eae0d84",
   "metadata": {},
   "outputs": [
    {
     "name": "stdout",
     "output_type": "stream",
     "text": [
      "max gmm score: 41.339826356672376\n",
      "min gmm score: 29.16540999756477\n",
      "50 run gmm mean score: 36.14958006262585\n",
      "50 run gmm std-dev score: 2.557504424154209\n",
      "DY016 OOD data GMM score: 36.14958006262585\n",
      "max gmm score: 40.11572258482997\n",
      "min gmm score: 30.17548036088694\n",
      "50 run gmm mean score: 36.8479892578336\n",
      "50 run gmm std-dev score: 2.278244767294241\n",
      "DY009 OOD data GMM score: 36.8479892578336\n",
      "max gmm score: 47.95558042099082\n",
      "min gmm score: 33.61906273944858\n",
      "50 run gmm mean score: 41.315006775805585\n",
      "50 run gmm std-dev score: 3.819610125152901\n",
      "test set A data GMM score: 41.315006775805585\n"
     ]
    }
   ],
   "source": [
    "dy016_ood_score = pca_gmm_average(dy016_ood_11c_memory_data, dy016_ood_11c_test_data, dy016_ood_11c_test_labels)\n",
    "print(\"DY016 ID (200 train spikes) data GMM score: \" + str(dy016_ood_score))\n",
    "dy009_ood_score = pca_gmm_average(dy009_ood_11c_memory_data, dy009_ood_11c_memory_data, dy009_ood_11c_test_labels)\n",
    "print(\"DY009 ID (200 train spikes) data GMM score: \" + str(dy009_ood_score))\n",
    "testset_A_score = pca_gmm_average(id_11c_memory_data, id_11c_test_data, id_11c_test_labels)\n",
    "print(\"test set A (DY016) (200 train spikes) ID data GMM score: \" + str(testset_A_score))"
   ]
  },
  {
   "cell_type": "code",
   "execution_count": 12,
   "id": "393e9ef9",
   "metadata": {},
   "outputs": [
    {
     "name": "stdout",
     "output_type": "stream",
     "text": [
      "max gmm score: 24.715127816076123\n",
      "min gmm score: 20.984923304102924\n",
      "50 run gmm mean score: 23.58112385071734\n",
      "50 run gmm std-dev score: 0.5275223408566994\n",
      "DY016 OOD (test set A 1200 spikes) data GMM score: 23.58112385071734\n",
      "max gmm score: 21.238489666225092\n",
      "min gmm score: 14.593883750991893\n",
      "50 run gmm mean score: 17.9354498400044\n",
      "50 run gmm std-dev score: 0.9226892008696899\n",
      "DY009 OOD (test set A 1200 spikes) data GMM score: 17.9354498400044\n",
      "max gmm score: 48.48341232339838\n",
      "min gmm score: 42.088143716207256\n",
      "50 run gmm mean score: 46.35456126187191\n",
      "50 run gmm std-dev score: 2.02502218740775\n",
      "test set A (test set A 1200 spikes) data GMM score: 46.35456126187191\n"
     ]
    }
   ],
   "source": [
    "dy016_ood_score = pca_gmm_average(dy016_id_5c_memory_data, dy016_ood_5c_test_data, dy016_ood_5c_test_labels)\n",
    "print(\"DY016 OOD (test set A 1200 spikes) data GMM score: \" + str(dy016_ood_score))\n",
    "dy009_ood_score = pca_gmm_average(dy016_id_5c_memory_data, dy009_ood_5c_memory_data, dy009_ood_5c_test_labels)\n",
    "print(\"DY009 OOD (test set A 1200 spikes) data GMM score: \" + str(dy009_ood_score))\n",
    "testset_A_score = pca_gmm_average(dy016_id_5c_memory_data, id_5c_test_data, id_5c_test_labels)\n",
    "print(\"test set A (test set A 1200 spikes) data GMM score: \" + str(testset_A_score))"
   ]
  },
  {
   "cell_type": "code",
   "execution_count": 13,
   "id": "f9740b21",
   "metadata": {},
   "outputs": [
    {
     "name": "stdout",
     "output_type": "stream",
     "text": [
      "max gmm score: 23.662534858583182\n",
      "min gmm score: 10.746395164699681\n",
      "50 run gmm mean score: 16.4852522192692\n",
      "50 run gmm std-dev score: 3.3836952638107967\n",
      "DY016 OOD (test set A 1200 spikes) data GMM score: 16.4852522192692\n",
      "max gmm score: 22.049626883106228\n",
      "min gmm score: 9.837814120694349\n",
      "50 run gmm mean score: 15.901064382157278\n",
      "50 run gmm std-dev score: 4.077840670932784\n",
      "DY009 OOD (test set A 1200 spikes) data GMM score: 15.901064382157278\n",
      "max gmm score: 43.13007028785448\n",
      "min gmm score: 28.370391755074348\n",
      "50 run gmm mean score: 36.29547030978494\n",
      "50 run gmm std-dev score: 3.6242172401098993\n",
      "test set A (test set A 1200 spikes) data GMM score: 36.29547030978494\n"
     ]
    }
   ],
   "source": [
    "dy016_ood_score = pca_gmm_average(dy016_id_11c_memory_data, dy016_ood_11c_test_data, dy016_ood_11c_test_labels)\n",
    "print(\"DY016 OOD (test set A 1200 spikes) data GMM score: \" + str(dy016_ood_score))\n",
    "dy009_ood_score = pca_gmm_average(dy016_id_11c_memory_data, dy009_ood_11c_memory_data, dy009_ood_11c_test_labels)\n",
    "print(\"DY009 OOD (test set A 1200 spikes) data GMM score: \" + str(dy009_ood_score))\n",
    "testset_A_score = pca_gmm_average(dy016_id_11c_memory_data, id_11c_test_data, id_11c_test_labels)\n",
    "print(\"test set A (test set A 1200 spikes) data GMM score: \" + str(testset_A_score))"
   ]
  },
  {
   "cell_type": "code",
   "execution_count": null,
   "id": "323424f6",
   "metadata": {},
   "outputs": [],
   "source": []
  }
 ],
 "metadata": {
  "kernelspec": {
   "display_name": "ceed",
   "language": "python",
   "name": "ceed"
  },
  "language_info": {
   "codemirror_mode": {
    "name": "ipython",
    "version": 3
   },
   "file_extension": ".py",
   "mimetype": "text/x-python",
   "name": "python",
   "nbconvert_exporter": "python",
   "pygments_lexer": "ipython3",
   "version": "3.8.17"
  }
 },
 "nbformat": 4,
 "nbformat_minor": 5
}
