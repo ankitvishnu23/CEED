{
 "cells": [
  {
   "cell_type": "code",
   "execution_count": 1,
   "id": "6a45facf",
   "metadata": {},
   "outputs": [
    {
     "name": "stderr",
     "output_type": "stream",
     "text": [
      "/Users/ankit/miniforge3/envs/ceed/lib/python3.8/site-packages/tqdm/auto.py:21: TqdmWarning: IProgress not found. Please update jupyter and ipywidgets. See https://ipywidgets.readthedocs.io/en/stable/user_install.html\n",
      "  from .autonotebook import tqdm as notebook_tqdm\n",
      "/Users/ankit/miniforge3/envs/ceed/lib/python3.8/site-packages/umap/distances.py:1063: NumbaDeprecationWarning: The 'nopython' keyword argument was not supplied to the 'numba.jit' decorator. The implicit default value for this argument is currently False, but it will be changed to True in Numba 0.59.0. See https://numba.readthedocs.io/en/stable/reference/deprecation.html#deprecation-of-object-mode-fall-back-behaviour-when-using-jit for details.\n",
      "  @numba.jit()\n",
      "/Users/ankit/miniforge3/envs/ceed/lib/python3.8/site-packages/umap/distances.py:1071: NumbaDeprecationWarning: The 'nopython' keyword argument was not supplied to the 'numba.jit' decorator. The implicit default value for this argument is currently False, but it will be changed to True in Numba 0.59.0. See https://numba.readthedocs.io/en/stable/reference/deprecation.html#deprecation-of-object-mode-fall-back-behaviour-when-using-jit for details.\n",
      "  @numba.jit()\n",
      "/Users/ankit/miniforge3/envs/ceed/lib/python3.8/site-packages/umap/distances.py:1086: NumbaDeprecationWarning: The 'nopython' keyword argument was not supplied to the 'numba.jit' decorator. The implicit default value for this argument is currently False, but it will be changed to True in Numba 0.59.0. See https://numba.readthedocs.io/en/stable/reference/deprecation.html#deprecation-of-object-mode-fall-back-behaviour-when-using-jit for details.\n",
      "  @numba.jit()\n",
      "/Users/ankit/miniforge3/envs/ceed/lib/python3.8/site-packages/umap/umap_.py:660: NumbaDeprecationWarning: The 'nopython' keyword argument was not supplied to the 'numba.jit' decorator. The implicit default value for this argument is currently False, but it will be changed to True in Numba 0.59.0. See https://numba.readthedocs.io/en/stable/reference/deprecation.html#deprecation-of-object-mode-fall-back-behaviour-when-using-jit for details.\n",
      "  @numba.jit()\n"
     ]
    }
   ],
   "source": [
    "from pathlib import Path\n",
    "import numpy as np\n",
    "# import h5py\n",
    "from tqdm.auto import tqdm, trange\n",
    "import scipy.io\n",
    "import time\n",
    "import torch\n",
    "import random\n",
    "import math\n",
    "import shutil\n",
    "from sklearn.decomposition import PCA\n",
    "import scipy as sp\n",
    "import scipy.signal\n",
    "import os\n",
    "import pandas as pd\n",
    "from torch import nn\n",
    "from scipy.spatial.distance import cdist\n",
    "# import spikeinterface.core as sc\n",
    "# import spikeinterface.full as si\n",
    "\n",
    "from analysis.projections import pca_train, pca, get_flattened_data\n",
    "from analysis.plotting import plot_gmm, plot_closest_spikes\n",
    "from analysis.encoder_utils import load_GPT_backbone, get_fcenc_backbone\n",
    "from analysis.cluster import GMM, HDBSCAN\n",
    "from sklearn.mixture import GaussianMixture\n",
    "from sklearn.metrics import adjusted_rand_score\n",
    "from analysis.cluster import MeanShift\n",
    "from analysis.benchmarking import class_scores, avg_score, per_class_accs, avg_class_accs\n",
    "import matplotlib.patheffects as pe\n",
    "\n",
    "from ceed.models.model_simclr import FullyConnectedEnc\n",
    "from utils.utils import gmm_monitor, knn_monitor\n",
    "from data_aug.wf_data_augs import Crop\n",
    "from data_aug.contrastive_learning_dataset import WFDataset_lab "
   ]
  },
  {
   "cell_type": "code",
   "execution_count": 2,
   "id": "9fddcf02",
   "metadata": {},
   "outputs": [
    {
     "name": "stdout",
     "output_type": "stream",
     "text": [
      "1\n"
     ]
    }
   ],
   "source": [
    "# class Args(Object):\n",
    "#     def __init__(epoch_nums=1):\n",
    "#         epochs = epoch_nums\n",
    "    \n",
    "class Args(object):\n",
    "    pass\n",
    "\n",
    "args = Args()\n",
    "args.epochs = 1\n",
    "args.use_chan_pos = False\n",
    "args.use_gpt = False\n",
    "print(args.epochs)"
   ]
  },
  {
   "cell_type": "code",
   "execution_count": 3,
   "id": "0d8fd619",
   "metadata": {},
   "outputs": [],
   "source": [
    "ten_neur_id_path_dy016 = '/Users/ankit/Documents/PaninskiLab/contrastive_spikes/dy016_random_choice_fix_mc'\n",
    "ten_neur_ood_path_dy016 = '/Users/ankit/Documents/PaninskiLab/contrastive_spikes/dy016_10_neuron_400ood'\n",
    "ten_neur_ood_path_dy009 = '/Users/ankit/Documents/PaninskiLab/contrastive_spikes/dy009_10_neuron_400ood'\n",
    "fourhund_neur_path = '/Users/ankit/Documents/PaninskiLab/contrastive_spikes/real400n_200s'\n",
    "fourhund_neur_1200_path = '/Users/ankit/Documents/PaninskiLab/contrastive_spikes/real400n_1200s'\n",
    "threenine_neur_1200_path = '/Users/ankit/Documents/PaninskiLab/contrastive_spikes/real390n_1200s'\n",
    "sixhund_neur_path = '/Users/ankit/Documents/PaninskiLab/contrastive_spikes/real600n_1200s'\n",
    "test_setA = '/Users/ankit/Documents/PaninskiLab/contrastive_spikes/dy016_og_goodunit_subset'\n",
    "test_fn = 'spikes_test.npy' \n",
    "train_fn = 'spikes_train.npy'\n",
    "\n",
    "single_chan_ckpt = '/Users/ankit/Documents/PaninskiLab/spike-psvae/pretrained/single_chan_denoiser.pt'"
   ]
  },
  {
   "cell_type": "code",
   "execution_count": 4,
   "id": "2fb32c3a",
   "metadata": {
    "scrolled": true
   },
   "outputs": [
    {
     "name": "stdout",
     "output_type": "stream",
     "text": [
      "True spikes_train.npy\n",
      "(12000, 21, 121)\n"
     ]
    },
    {
     "name": "stderr",
     "output_type": "stream",
     "text": [
      "100%|██████████████████████████████████████████████████████████████████████████████████████████████████████████████████████████████████████████████████████████████████| 12000/12000 [00:00<00:00, 194665.90it/s]\n",
      "100%|████████████████████████████████████████████████████████████████████████████████████████████████████████████████████████████████████████████████████████████████████| 12000/12000 [00:05<00:00, 2069.42it/s]\n"
     ]
    },
    {
     "name": "stdout",
     "output_type": "stream",
     "text": [
      "True spikes_train.npy\n",
      "(12000, 21, 121)\n"
     ]
    },
    {
     "name": "stderr",
     "output_type": "stream",
     "text": [
      "100%|██████████████████████████████████████████████████████████████████████████████████████████████████████████████████████████████████████████████████████████████████| 12000/12000 [00:00<00:00, 189017.76it/s]\n",
      "100%|█████████████████████████████████████████████████████████████████████████████████████████████████████████████████████████████████████████████████████████████████████| 12000/12000 [00:12<00:00, 999.21it/s]\n"
     ]
    },
    {
     "name": "stdout",
     "output_type": "stream",
     "text": [
      "True spikes_train.npy\n",
      "(467004, 21, 121)\n"
     ]
    },
    {
     "name": "stderr",
     "output_type": "stream",
     "text": [
      "100%|████████████████████████████████████████████████████████████████████████████████████████████████████████████████████████████████████████████████████████████████| 467004/467004 [00:02<00:00, 172418.01it/s]\n",
      "100%|██████████████████████████████████████████████████████████████████████████████████████████████████████████████████████████████████████████████████████████████████| 467004/467004 [03:35<00:00, 2169.19it/s]\n"
     ]
    },
    {
     "name": "stdout",
     "output_type": "stream",
     "text": [
      "True spikes_train.npy\n",
      "(467004, 21, 121)\n"
     ]
    },
    {
     "name": "stderr",
     "output_type": "stream",
     "text": [
      "100%|████████████████████████████████████████████████████████████████████████████████████████████████████████████████████████████████████████████████████████████████| 467004/467004 [00:02<00:00, 156920.18it/s]\n",
      "100%|███████████████████████████████████████████████████████████████████████████████████████████████████████████████████████████████████████████████████████████████████| 467004/467004 [07:50<00:00, 993.30it/s]\n"
     ]
    },
    {
     "name": "stdout",
     "output_type": "stream",
     "text": [
      "True spikes_train.npy\n",
      "(2000, 21, 121)\n"
     ]
    },
    {
     "name": "stderr",
     "output_type": "stream",
     "text": [
      "100%|████████████████████████████████████████████████████████████████████████████████████████████████████████████████████████████████████████████████████████████████████| 2000/2000 [00:00<00:00, 227790.37it/s]\n",
      "100%|██████████████████████████████████████████████████████████████████████████████████████████████████████████████████████████████████████████████████████████████████████| 2000/2000 [00:00<00:00, 2158.79it/s]\n"
     ]
    },
    {
     "name": "stdout",
     "output_type": "stream",
     "text": [
      "(2000, 21, 121)\n"
     ]
    },
    {
     "name": "stderr",
     "output_type": "stream",
     "text": [
      "100%|████████████████████████████████████████████████████████████████████████████████████████████████████████████████████████████████████████████████████████████████████| 2000/2000 [00:00<00:00, 236518.68it/s]\n",
      "100%|██████████████████████████████████████████████████████████████████████████████████████████████████████████████████████████████████████████████████████████████████████| 2000/2000 [00:00<00:00, 2153.68it/s]\n"
     ]
    },
    {
     "name": "stdout",
     "output_type": "stream",
     "text": [
      "True spikes_train.npy\n",
      "(2000, 21, 121)\n"
     ]
    },
    {
     "name": "stderr",
     "output_type": "stream",
     "text": [
      "100%|████████████████████████████████████████████████████████████████████████████████████████████████████████████████████████████████████████████████████████████████████| 2000/2000 [00:00<00:00, 218886.55it/s]\n",
      "100%|██████████████████████████████████████████████████████████████████████████████████████████████████████████████████████████████████████████████████████████████████████| 2000/2000 [00:01<00:00, 1001.82it/s]\n"
     ]
    },
    {
     "name": "stdout",
     "output_type": "stream",
     "text": [
      "(2000, 21, 121)\n"
     ]
    },
    {
     "name": "stderr",
     "output_type": "stream",
     "text": [
      "100%|████████████████████████████████████████████████████████████████████████████████████████████████████████████████████████████████████████████████████████████████████| 2000/2000 [00:00<00:00, 209605.16it/s]\n",
      "100%|██████████████████████████████████████████████████████████████████████████████████████████████████████████████████████████████████████████████████████████████████████| 2000/2000 [00:01<00:00, 1000.96it/s]\n"
     ]
    },
    {
     "name": "stdout",
     "output_type": "stream",
     "text": [
      "True spikes_train.npy\n",
      "(2000, 21, 121)\n"
     ]
    },
    {
     "name": "stderr",
     "output_type": "stream",
     "text": [
      "100%|████████████████████████████████████████████████████████████████████████████████████████████████████████████████████████████████████████████████████████████████████| 2000/2000 [00:00<00:00, 227951.30it/s]\n",
      "100%|██████████████████████████████████████████████████████████████████████████████████████████████████████████████████████████████████████████████████████████████████████| 2000/2000 [00:00<00:00, 2190.26it/s]\n"
     ]
    },
    {
     "name": "stdout",
     "output_type": "stream",
     "text": [
      "(2000, 21, 121)\n"
     ]
    },
    {
     "name": "stderr",
     "output_type": "stream",
     "text": [
      "100%|████████████████████████████████████████████████████████████████████████████████████████████████████████████████████████████████████████████████████████████████████| 2000/2000 [00:00<00:00, 230222.25it/s]\n",
      "100%|██████████████████████████████████████████████████████████████████████████████████████████████████████████████████████████████████████████████████████████████████████| 2000/2000 [00:00<00:00, 2223.23it/s]\n"
     ]
    },
    {
     "name": "stdout",
     "output_type": "stream",
     "text": [
      "True spikes_train.npy\n",
      "(2000, 21, 121)\n"
     ]
    },
    {
     "name": "stderr",
     "output_type": "stream",
     "text": [
      "100%|████████████████████████████████████████████████████████████████████████████████████████████████████████████████████████████████████████████████████████████████████| 2000/2000 [00:00<00:00, 213011.55it/s]\n",
      "100%|███████████████████████████████████████████████████████████████████████████████████████████████████████████████████████████████████████████████████████████████████████| 2000/2000 [00:02<00:00, 999.65it/s]\n"
     ]
    },
    {
     "name": "stdout",
     "output_type": "stream",
     "text": [
      "(2000, 21, 121)\n"
     ]
    },
    {
     "name": "stderr",
     "output_type": "stream",
     "text": [
      "100%|████████████████████████████████████████████████████████████████████████████████████████████████████████████████████████████████████████████████████████████████████| 2000/2000 [00:00<00:00, 207382.15it/s]\n",
      "100%|███████████████████████████████████████████████████████████████████████████████████████████████████████████████████████████████████████████████████████████████████████| 2000/2000 [00:02<00:00, 768.51it/s]\n"
     ]
    },
    {
     "name": "stdout",
     "output_type": "stream",
     "text": [
      "True spikes_train.npy\n",
      "(2000, 21, 121)\n"
     ]
    },
    {
     "name": "stderr",
     "output_type": "stream",
     "text": [
      "100%|████████████████████████████████████████████████████████████████████████████████████████████████████████████████████████████████████████████████████████████████████| 2000/2000 [00:00<00:00, 227068.94it/s]\n",
      "100%|██████████████████████████████████████████████████████████████████████████████████████████████████████████████████████████████████████████████████████████████████████| 2000/2000 [00:00<00:00, 2066.38it/s]\n"
     ]
    },
    {
     "name": "stdout",
     "output_type": "stream",
     "text": [
      "(2000, 21, 121)\n"
     ]
    },
    {
     "name": "stderr",
     "output_type": "stream",
     "text": [
      "100%|████████████████████████████████████████████████████████████████████████████████████████████████████████████████████████████████████████████████████████████████████| 2000/2000 [00:00<00:00, 214729.13it/s]\n",
      "100%|██████████████████████████████████████████████████████████████████████████████████████████████████████████████████████████████████████████████████████████████████████| 2000/2000 [00:00<00:00, 2053.07it/s]\n"
     ]
    },
    {
     "name": "stdout",
     "output_type": "stream",
     "text": [
      "True spikes_train.npy\n",
      "(2000, 21, 121)\n"
     ]
    },
    {
     "name": "stderr",
     "output_type": "stream",
     "text": [
      "100%|████████████████████████████████████████████████████████████████████████████████████████████████████████████████████████████████████████████████████████████████████| 2000/2000 [00:00<00:00, 206697.42it/s]\n",
      "100%|███████████████████████████████████████████████████████████████████████████████████████████████████████████████████████████████████████████████████████████████████████| 2000/2000 [00:02<00:00, 955.41it/s]\n"
     ]
    },
    {
     "name": "stdout",
     "output_type": "stream",
     "text": [
      "(2000, 21, 121)\n"
     ]
    },
    {
     "name": "stderr",
     "output_type": "stream",
     "text": [
      "100%|████████████████████████████████████████████████████████████████████████████████████████████████████████████████████████████████████████████████████████████████████| 2000/2000 [00:00<00:00, 205230.90it/s]\n",
      "100%|███████████████████████████████████████████████████████████████████████████████████████████████████████████████████████████████████████████████████████████████████████| 2000/2000 [00:02<00:00, 984.94it/s]\n"
     ]
    }
   ],
   "source": [
    "# dy016 ID train data\n",
    "dy016_id_5c_train_dataset = WFDataset_lab(ten_neur_id_path_dy016, split='train', multi_chan=True, transform=Crop(prob=0.0, num_extra_chans=2, ignore_chan_num=True), use_chan_pos=False)\n",
    "dy016_id_5c_train_data, dy016_id_5c_train_labels = get_flattened_data(dy016_id_5c_train_dataset)\n",
    "dy016_denoised_id_5c_train_data, dy016_denoised_id_5c_train_labels = get_flattened_data(dy016_id_5c_train_dataset, denoise=True, denoise_path=single_chan_ckpt)\n",
    "\n",
    "dy016_id_11c_train_dataset = WFDataset_lab(ten_neur_id_path_dy016, split='train', multi_chan=True, transform=Crop(prob=0.0, num_extra_chans=5, ignore_chan_num=True), use_chan_pos=False)\n",
    "dy016_id_11c_train_data, dy016_id_11c_train_labels = get_flattened_data(dy016_id_11c_train_dataset)\n",
    "dy016_denoised_id_11c_train_data, dy016_denoised_id_11c_train_labels = get_flattened_data(dy016_id_11c_train_dataset, denoise=True, denoise_path=single_chan_ckpt)\n",
    "\n",
    "# 400 neuron, 200 spikes train data\n",
    "# fourhund_5c_train_dataset = WFDataset_lab(fourhund_neur_path, split='train', multi_chan=True, transform=Crop(prob=0.0, num_extra_chans=2, ignore_chan_num=True), use_chan_pos=False)\n",
    "# fourhund_5c_train_data, fourhund_5c_train_labels = get_flattened_data(fourhund_5c_train_dataset)\n",
    "# fourhund_denoised_5c_train_data, fourhund_denoised_5c_train_labels = get_flattened_data(fourhund_5c_train_dataset, denoise=True, denoise_path=single_chan_ckpt)\n",
    "\n",
    "# fourhund_11c_train_dataset = WFDataset_lab(fourhund_neur_path, split='train', multi_chan=True, transform=Crop(prob=0.0, num_extra_chans=5, ignore_chan_num=True), use_chan_pos=False)\n",
    "# fourhund_11c_train_data, fourhund_11c_train_labels = get_flattened_data(fourhund_11c_train_dataset)\n",
    "# fourhund_denoised_11c_train_data, fourhund_denoised_11c_train_labels = get_flattened_data(fourhund_11c_train_dataset, denoise=True, denoise_path=single_chan_ckpt)\n",
    "\n",
    "# 400 neuron, 1200 spikes train data\n",
    "# fourhund_1200_5c_train_dataset = WFDataset_lab(fourhund_neur_1200_path, split='train', multi_chan=True, transform=Crop(prob=0.0, num_extra_chans=2, ignore_chan_num=True), use_chan_pos=False)\n",
    "# fourhund_1200_5c_train_data, fourhund_1200_5c_train_labels = get_flattened_data(fourhund_1200_5c_train_dataset)\n",
    "# fourhund_1200_denoised_5c_train_data, fourhund_1200_denoised_5c_train_labels = get_flattened_data(fourhund_1200_5c_train_dataset, denoise=True, denoise_path=single_chan_ckpt)\n",
    "\n",
    "# fourhund_1200_11c_train_dataset = WFDataset_lab(fourhund_neur_1200_path, split='train', multi_chan=True, transform=Crop(prob=0.0, num_extra_chans=5, ignore_chan_num=True), use_chan_pos=False)\n",
    "# fourhund_1200_11c_train_data, fourhund_1200_11c_train_labels = get_flattened_data(fourhund_1200_11c_train_dataset)\n",
    "# fourhund_1200_denoised_11c_train_data, fourhund_1200_denoised_11c_train_labels = get_flattened_data(fourhund_1200_11c_train_dataset, denoise=True, denoise_path=single_chan_ckpt)\n",
    "\n",
    "# 390 neuron, 1200 spikes train data\n",
    "threenine_1200_5c_train_dataset = WFDataset_lab(threenine_neur_1200_path, split='train', multi_chan=True, transform=Crop(prob=0.0, num_extra_chans=2, ignore_chan_num=True), use_chan_pos=False)\n",
    "threenine_1200_5c_train_data, threenine_1200_5c_train_labels = get_flattened_data(threenine_1200_5c_train_dataset)\n",
    "threenine_1200_denoised_5c_train_data, threenine_1200_denoised_5c_train_labels = get_flattened_data(threenine_1200_5c_train_dataset, denoise=True, denoise_path=single_chan_ckpt)\n",
    "\n",
    "threenine_1200_11c_train_dataset = WFDataset_lab(threenine_neur_1200_path, split='train', multi_chan=True, transform=Crop(prob=0.0, num_extra_chans=5, ignore_chan_num=True), use_chan_pos=False)\n",
    "threenine_1200_11c_train_data, threenine_1200_11c_train_labels = get_flattened_data(threenine_1200_11c_train_dataset)\n",
    "threenine_1200_denoised_11c_train_data, threenine_1200_denoised_11c_train_labels = get_flattened_data(threenine_1200_11c_train_dataset, denoise=True, denoise_path=single_chan_ckpt)\n",
    "\n",
    "# dy016 ood data loaders\n",
    "dy016_ood_5c_memory_dataset = WFDataset_lab(ten_neur_ood_path_dy016, split='train', multi_chan=True, transform=Crop(prob=0.0, num_extra_chans=2, ignore_chan_num=True), use_chan_pos=False)\n",
    "dy016_ood_5c_memory_data, dy016_ood_5c_memory_labels = get_flattened_data(dy016_ood_5c_memory_dataset)\n",
    "dy016_denoised_ood_5c_memory_data, dy016_denoised_ood_5c_memory_labels = get_flattened_data(dy016_ood_5c_memory_dataset, denoise=True, denoise_path=single_chan_ckpt)\n",
    "\n",
    "dy016_ood_5c_test_dataset = WFDataset_lab(ten_neur_ood_path_dy016, split='test', multi_chan=True, transform=Crop(prob=0.0, num_extra_chans=2, ignore_chan_num=True), use_chan_pos=False)\n",
    "dy016_ood_5c_test_data, dy016_ood_5c_test_labels = get_flattened_data(dy016_ood_5c_test_dataset)\n",
    "dy016_denoised_ood_5c_test_data, dy016_denoised_ood_5c_test_labels = get_flattened_data(dy016_ood_5c_test_dataset, denoise=True, denoise_path=single_chan_ckpt)\n",
    "\n",
    "dy016_ood_11c_memory_dataset = WFDataset_lab(ten_neur_ood_path_dy016, split='train', multi_chan=True, transform=Crop(prob=0.0, num_extra_chans=5, ignore_chan_num=True), use_chan_pos=False)\n",
    "dy016_ood_11c_memory_data, dy016_ood_11c_memory_labels = get_flattened_data(dy016_ood_11c_memory_dataset)\n",
    "dy016_denoised_ood_11c_memory_data, dy016_denoised_ood_11c_memory_labels = get_flattened_data(dy016_ood_11c_memory_dataset, denoise=True, denoise_path=single_chan_ckpt)\n",
    "\n",
    "dy016_ood_11c_test_dataset = WFDataset_lab(ten_neur_ood_path_dy016, split='test', multi_chan=True, transform=Crop(prob=0.0, num_extra_chans=5, ignore_chan_num=True), use_chan_pos=False)\n",
    "dy016_ood_11c_test_data, dy016_ood_11c_test_labels = get_flattened_data(dy016_ood_11c_test_dataset)\n",
    "dy016_denoised_ood_11c_test_data, dy016_denoised_ood_11c_test_labels = get_flattened_data(dy016_ood_11c_test_dataset, denoise=True, denoise_path=single_chan_ckpt)\n",
    "\n",
    "# dy009 ood data loaders\n",
    "dy009_ood_5c_memory_dataset = WFDataset_lab(ten_neur_ood_path_dy009, split='train', multi_chan=True, transform=Crop(prob=0.0, num_extra_chans=2, ignore_chan_num=True), use_chan_pos=False)\n",
    "dy009_ood_5c_memory_data, dy009_ood_5c_memory_labels = get_flattened_data(dy009_ood_5c_memory_dataset)\n",
    "dy009_denoised_ood_5c_memory_data, dy009_denoised_ood_5c_memory_labels = get_flattened_data(dy009_ood_5c_memory_dataset, denoise=True, denoise_path=single_chan_ckpt)\n",
    "\n",
    "dy009_ood_5c_test_dataset = WFDataset_lab(ten_neur_ood_path_dy009, split='test', multi_chan=True, transform=Crop(prob=0.0, num_extra_chans=2, ignore_chan_num=True), use_chan_pos=False)\n",
    "dy009_ood_5c_test_data, dy009_ood_5c_test_labels = get_flattened_data(dy016_ood_5c_test_dataset)\n",
    "dy009_denoised_ood_5c_test_data, dy009_denoised_ood_5c_test_labels = get_flattened_data(dy009_ood_5c_memory_dataset, denoise=True, denoise_path=single_chan_ckpt)\n",
    "\n",
    "dy009_ood_11c_memory_dataset = WFDataset_lab(ten_neur_ood_path_dy009, split='train', multi_chan=True, transform=Crop(prob=0.0, num_extra_chans=5, ignore_chan_num=True), use_chan_pos=False)\n",
    "dy009_ood_11c_memory_data, dy009_ood_11c_memory_labels = get_flattened_data(dy009_ood_11c_memory_dataset)\n",
    "dy009_denoised_ood_11c_memory_data, dy009_denoised_ood_11c_memory_labels = get_flattened_data(dy009_ood_11c_memory_dataset, denoise=True, denoise_path=single_chan_ckpt)\n",
    "\n",
    "dy009_ood_11c_test_dataset = WFDataset_lab(ten_neur_ood_path_dy009, split='test', multi_chan=True, transform=Crop(prob=0.0, num_extra_chans=5, ignore_chan_num=True), use_chan_pos=False)\n",
    "dy009_ood_11c_test_data, dy009_ood_11c_test_labels = get_flattened_data(dy009_ood_11c_test_dataset)\n",
    "dy009_denoised_ood_11c_test_data, dy009_denoised_ood_11c_test_labels = get_flattened_data(dy009_ood_11c_test_dataset, denoise=True, denoise_path=single_chan_ckpt)\n",
    "\n",
    "# ten neuron ID data loaders\n",
    "# dy009 ood data loaders\n",
    "id_5c_memory_dataset = WFDataset_lab(test_setA, split='train', multi_chan=True, transform=Crop(prob=0.0, num_extra_chans=2, ignore_chan_num=True), use_chan_pos=False)\n",
    "id_5c_memory_data, id_5c_memory_labels = get_flattened_data(id_5c_memory_dataset)\n",
    "id_denoised_5c_memory_data, id_denoised_5c_memory_labels = get_flattened_data(id_5c_memory_dataset, denoise=True, denoise_path=single_chan_ckpt)\n",
    "\n",
    "id_5c_test_dataset = WFDataset_lab(test_setA, split='test', multi_chan=True, transform=Crop(prob=0.0, num_extra_chans=2, ignore_chan_num=True), use_chan_pos=False)\n",
    "id_5c_test_data, id_5c_test_labels = get_flattened_data(id_5c_test_dataset)\n",
    "id_denoised_5c_test_data, id_denoised_5c_test_labels = get_flattened_data(id_5c_test_dataset, denoise=True, denoise_path=single_chan_ckpt)\n",
    "\n",
    "id_11c_memory_dataset = WFDataset_lab(test_setA, split='train', multi_chan=True, transform=Crop(prob=0.0, num_extra_chans=5, ignore_chan_num=True), use_chan_pos=False)\n",
    "id_11c_memory_data, id_11c_memory_labels = get_flattened_data(id_11c_memory_dataset)\n",
    "id_denoised_11c_memory_data, id_denoised_11c_memory_labels = get_flattened_data(id_11c_memory_dataset, denoise=True, denoise_path=single_chan_ckpt)\n",
    "\n",
    "id_11c_test_dataset = WFDataset_lab(test_setA, split='test', multi_chan=True, transform=Crop(prob=0.0, num_extra_chans=5, ignore_chan_num=True), use_chan_pos=False)\n",
    "id_11c_test_data, id_11c_test_labels = get_flattened_data(id_11c_test_dataset)\n",
    "id_denoised_11c_test_data, id_denoised_11c_test_labels = get_flattened_data(id_11c_test_dataset, denoise=True, denoise_path=single_chan_ckpt)"
   ]
  },
  {
   "cell_type": "code",
   "execution_count": 5,
   "id": "41075935",
   "metadata": {},
   "outputs": [],
   "source": [
    "def pca_gmm_average_tr(train_dataset, memory_dataset, test_dataset, test_labels, num_classes=10, num_iters=50, out_dim=5):\n",
    "    scores = []\n",
    "    for i in range(num_iters):\n",
    "        # covariance_type : {'full', 'tied', 'diag', 'spherical'}\n",
    "        covariance_type = 'full'\n",
    "        reps_train, _, pca_ = pca(train_dataset, out_dim)\n",
    "        reps_memory = pca_.transform(memory_dataset)\n",
    "        reps_test = pca_.transform(test_dataset)\n",
    "        gmm = GaussianMixture(num_classes,\n",
    "                            random_state=random.randint(0, 1000000),\n",
    "                            covariance_type=covariance_type).fit(reps_memory)\n",
    "        gmm_cont_test_labels = gmm.predict(reps_test)\n",
    "        curr_score = adjusted_rand_score(test_labels, gmm_cont_test_labels)*100\n",
    "        scores.append(curr_score)\n",
    "        if i == 49:\n",
    "           print(\"max gmm score: {}\".format(max(scores)))\n",
    "           print(\"min gmm score: {}\".format(min(scores)))\n",
    "           print(\"50 run gmm mean score: {}\".format(np.mean(scores)))\n",
    "           print(\"50 run gmm std-dev score: {}\".format(np.std(scores)))\n",
    "\n",
    "    score = np.mean(scores)\n",
    "\n",
    "    return score\n",
    "\n",
    "def pca_gmm_average(memory_dataset, test_dataset, test_labels, num_classes=10, num_iters=50, out_dim=5):\n",
    "    scores = []\n",
    "    for i in range(num_iters):\n",
    "        # covariance_type : {'full', 'tied', 'diag', 'spherical'}\n",
    "        covariance_type = 'full'\n",
    "        reps_train, _, pca_ = pca(memory_dataset, out_dim)\n",
    "        reps_test = pca_.transform(test_dataset)\n",
    "        gmm = GaussianMixture(num_classes,\n",
    "                            random_state=random.randint(0, 1000000),\n",
    "                            covariance_type=covariance_type).fit(reps_train)\n",
    "        gmm_cont_test_labels = gmm.predict(reps_test)\n",
    "        curr_score = adjusted_rand_score(test_labels, gmm_cont_test_labels)*100\n",
    "        scores.append(curr_score)\n",
    "        if i == 49:\n",
    "           print(\"max gmm score: {}\".format(max(scores)))\n",
    "           print(\"min gmm score: {}\".format(min(scores)))\n",
    "           print(\"50 run gmm mean score: {}\".format(np.mean(scores)))\n",
    "           print(\"50 run gmm std-dev score: {}\".format(np.std(scores)))\n",
    "\n",
    "    score = np.mean(scores)\n",
    "\n",
    "    return score"
   ]
  },
  {
   "cell_type": "markdown",
   "id": "f39b8e7c",
   "metadata": {},
   "source": [
    "# New Neuron metrics"
   ]
  },
  {
   "cell_type": "markdown",
   "id": "290982b5",
   "metadata": {},
   "source": [
    "## 10 neuron, 1200 spikes, 5 channels"
   ]
  },
  {
   "cell_type": "code",
   "execution_count": 16,
   "id": "e382969a",
   "metadata": {},
   "outputs": [
    {
     "name": "stdout",
     "output_type": "stream",
     "text": [
      "max gmm score: 49.94842592385938\n",
      "min gmm score: 42.4561070568621\n",
      "50 run gmm mean score: 46.41453202384358\n",
      "50 run gmm std-dev score: 1.641824642630016\n",
      "DY016 ID (200 train spikes) denoised data GMM score: 46.41453202384358\n",
      "max gmm score: 43.23980993019478\n",
      "min gmm score: 36.045935604862564\n",
      "50 run gmm mean score: 38.97439442092881\n",
      "50 run gmm std-dev score: 1.319551055255417\n",
      "DY009 ID (200 train spikes) denoised data GMM score: 38.97439442092881\n",
      "max gmm score: 55.71084489678194\n",
      "min gmm score: 33.0873169073262\n",
      "50 run gmm mean score: 46.00936104828743\n",
      "50 run gmm std-dev score: 6.792019176866088\n",
      "test set A (DY016) (200 train spikes) ID denoised data GMM score: 46.00936104828743\n"
     ]
    }
   ],
   "source": [
    "dy016_ood_score = pca_gmm_average_tr(dy016_denoised_id_5c_train_data, dy016_denoised_ood_5c_memory_data, dy016_denoised_ood_5c_test_data, dy016_denoised_ood_5c_test_labels)\n",
    "print(\"DY016 OOD (1200 train spikes) denoised data GMM score: \" + str(dy016_ood_score))\n",
    "dy009_ood_score = pca_gmm_average_tr(dy016_denoised_id_5c_train_data, dy009_denoised_ood_5c_memory_data, dy009_denoised_ood_5c_test_data, dy009_denoised_ood_5c_test_labels)\n",
    "print(\"DY009 OOD (1200 train spikes) denoised data GMM score: \" + str(dy009_ood_score))\n",
    "testset_A_score = pca_gmm_average_tr(dy016_denoised_id_5c_train_data, id_denoised_5c_memory_data, id_denoised_5c_test_data, id_denoised_5c_test_labels)\n",
    "print(\"test set A (DY016 ID) (1200 train spikes) ID denoised data GMM score: \" + str(testset_A_score))"
   ]
  },
  {
   "cell_type": "code",
   "execution_count": 18,
   "id": "823b30ac",
   "metadata": {},
   "outputs": [
    {
     "name": "stdout",
     "output_type": "stream",
     "text": [
      "max gmm score: 40.260985988403114\n",
      "min gmm score: 29.225243863254796\n",
      "50 run gmm mean score: 34.60790511126595\n",
      "50 run gmm std-dev score: 2.54071928339712\n",
      "DY016 OOD (10 neurons, 1200 train spikes) data GMM score: 34.60790511126595\n",
      "max gmm score: 26.317805234862252\n",
      "min gmm score: 18.433767303204288\n",
      "50 run gmm mean score: 21.828724358383383\n",
      "50 run gmm std-dev score: 2.094112767631093\n",
      "DY009 OOD (10 neurons, 1200 train spikes) data GMM score: 21.828724358383383\n",
      "max gmm score: 51.152363011948665\n",
      "min gmm score: 32.68867536638837\n",
      "50 run gmm mean score: 43.49786698028805\n",
      "50 run gmm std-dev score: 5.243246579351943\n",
      "test set A (ID DY016) (10 neurons, 1200 train spikes) ID data GMM score: 43.49786698028805\n"
     ]
    }
   ],
   "source": [
    "dy016_ood_score = pca_gmm_average_tr(dy016_id_5c_train_data, dy016_ood_5c_memory_data, dy016_ood_5c_test_data, dy016_ood_5c_test_labels)\n",
    "print(\"DY016 OOD (10 neurons, 1200 train spikes) data GMM score: \" + str(dy016_ood_score))\n",
    "dy009_ood_score = pca_gmm_average_tr(dy016_id_5c_train_data, dy009_ood_5c_memory_data, dy009_ood_5c_test_data, dy009_ood_5c_test_labels)\n",
    "print(\"DY009 OOD (10 neurons, 1200 train spikes) data GMM score: \" + str(dy009_ood_score))\n",
    "testset_A_score = pca_gmm_average_tr(dy016_id_5c_train_data, id_5c_memory_data, id_5c_test_data, id_5c_test_labels)\n",
    "print(\"test set A (ID DY016) (10 neurons, 1200 train spikes) ID data GMM score: \" + str(testset_A_score))"
   ]
  },
  {
   "cell_type": "markdown",
   "id": "25a19dff",
   "metadata": {},
   "source": [
    "## 10 neuron, 1200 spikes, 11 channels"
   ]
  },
  {
   "cell_type": "code",
   "execution_count": null,
   "id": "e4d23bb9",
   "metadata": {},
   "outputs": [],
   "source": [
    "dy016_ood_score = pca_gmm_average_tr(dy016_denoised_id_11c_train_data, dy016_denoised_ood_11c_memory_data, dy016_denoised_ood_11c_test_data, dy016_denoised_ood_11c_test_labels)\n",
    "print(\"DY016 OOD (1200 train spikes) denoised data GMM score: \" + str(dy016_ood_score))\n",
    "dy009_ood_score = pca_gmm_average_tr(dy016_denoised_id_11c_train_data, dy009_denoised_ood_11c_memory_data, dy009_denoised_ood_11c_test_data, dy009_denoised_ood_11c_test_labels)\n",
    "print(\"DY009 OOD (1200 train spikes) denoised data GMM score: \" + str(dy009_ood_score))\n",
    "testset_A_score = pca_gmm_average_tr(dy016_denoised_id_11c_train_data, id_denoised_11c_memory_data, id_denoised_11c_test_data, id_denoised_11c_test_labels)\n",
    "print(\"test set A (DY016 ID) (1200 train spikes) ID denoised data GMM score: \" + str(testset_A_score))"
   ]
  },
  {
   "cell_type": "code",
   "execution_count": null,
   "id": "24b7436f",
   "metadata": {},
   "outputs": [],
   "source": [
    "dy016_ood_score = pca_gmm_average_tr(dy016_id_11c_train_data, dy016_ood_11c_memory_data, dy016_ood_11c_test_data, dy016_ood_11c_test_labels)\n",
    "print(\"DY016 OOD (10 neurons, 1200 train spikes) data GMM score: \" + str(dy016_ood_score))\n",
    "dy009_ood_score = pca_gmm_average_tr(dy016_id_11c_train_data, dy009_ood_11c_memory_data, dy009_ood_11c_test_data, dy009_ood_11c_test_labels)\n",
    "print(\"DY009 OOD (10 neurons, 1200 train spikes) data GMM score: \" + str(dy009_ood_score))\n",
    "testset_A_score = pca_gmm_average_tr(dy016_id_11c_train_data, id_11c_memory_data, id_11c_test_data, id_11c_test_labels)\n",
    "print(\"test set A (ID DY016) (10 neurons, 1200 train spikes) ID data GMM score: \" + str(testset_A_score))"
   ]
  },
  {
   "cell_type": "markdown",
   "id": "1bfcef20",
   "metadata": {},
   "source": [
    "## 400 neuron, 200 spikes, 5 chan"
   ]
  },
  {
   "cell_type": "code",
   "execution_count": 24,
   "id": "de5f631a",
   "metadata": {},
   "outputs": [
    {
     "name": "stdout",
     "output_type": "stream",
     "text": [
      "max gmm score: 48.852660255138034\n",
      "min gmm score: 42.61961320461751\n",
      "50 run gmm mean score: 45.859394513078385\n",
      "50 run gmm std-dev score: 1.6699787348189143\n",
      "DY016 OOD (400 neurons, 200 train spikes) denoised data GMM score: 45.859394513078385\n",
      "max gmm score: 43.50847543736153\n",
      "min gmm score: 35.619292892656055\n",
      "50 run gmm mean score: 39.15385726020336\n",
      "50 run gmm std-dev score: 2.1699930947155828\n",
      "DY009 OOD (400 neurons, 200 train spikes) denoised data GMM score: 39.15385726020336\n",
      "max gmm score: 54.64599017617606\n",
      "min gmm score: 38.370586128739106\n",
      "50 run gmm mean score: 49.26934635422893\n",
      "50 run gmm std-dev score: 4.472748220905369\n",
      "test set A (ID DY016) (400 neurons, 200 train spikes) ID denoised data GMM score: 49.26934635422893\n"
     ]
    }
   ],
   "source": [
    "dy016_ood_score = pca_gmm_average_tr(fourhund_denoised_5c_train_data, dy016_denoised_ood_5c_memory_data, dy016_denoised_ood_5c_test_data, dy016_denoised_ood_5c_test_labels)\n",
    "print(\"DY016 OOD (400 neurons, 200 train spikes) denoised data GMM score: \" + str(dy016_ood_score))\n",
    "dy009_ood_score = pca_gmm_average_tr(fourhund_denoised_5c_train_data, dy009_denoised_ood_5c_memory_data, dy009_denoised_ood_5c_test_data, dy009_denoised_ood_5c_test_labels)\n",
    "print(\"DY009 OOD (400 neurons, 200 train spikes) denoised data GMM score: \" + str(dy009_ood_score))\n",
    "testset_A_score = pca_gmm_average_tr(fourhund_denoised_5c_train_data, id_denoised_5c_memory_data, id_denoised_5c_test_data, id_denoised_5c_test_labels)\n",
    "print(\"test set A (ID DY016) (400 neurons, 200 train spikes) ID denoised data GMM score: \" + str(testset_A_score))"
   ]
  },
  {
   "cell_type": "code",
   "execution_count": 25,
   "id": "48b08031",
   "metadata": {},
   "outputs": [
    {
     "name": "stdout",
     "output_type": "stream",
     "text": [
      "max gmm score: 42.5790105809703\n",
      "min gmm score: 24.839751754514143\n",
      "50 run gmm mean score: 34.62326199084467\n",
      "50 run gmm std-dev score: 4.1181057189157615\n",
      "DY016 OOD (400 neurons, 200 train spikes) data GMM score: 34.62326199084467\n",
      "max gmm score: 23.64360815251711\n",
      "min gmm score: 15.598370364436695\n",
      "50 run gmm mean score: 19.737513415238556\n",
      "50 run gmm std-dev score: 1.5803748763485617\n",
      "DY009 OOD (400 neurons, 200 train spikes) denoised data GMM score: 19.737513415238556\n",
      "max gmm score: 48.41062989522548\n",
      "min gmm score: 36.001991663148324\n",
      "50 run gmm mean score: 43.56754906865924\n",
      "50 run gmm std-dev score: 3.468305734304177\n",
      "test set A (ID DY016) (400 neurons, 200 train spikes) ID data GMM score: 43.56754906865924\n"
     ]
    }
   ],
   "source": [
    "dy016_ood_score = pca_gmm_average_tr(fourhund_5c_train_data, dy016_ood_5c_memory_data, dy016_ood_5c_test_data, dy016_ood_5c_test_labels)\n",
    "print(\"DY016 OOD (400 neurons, 200 train spikes) data GMM score: \" + str(dy016_ood_score))\n",
    "dy009_ood_score = pca_gmm_average_tr(fourhund_5c_train_data, dy009_ood_5c_memory_data, dy009_ood_5c_test_data, dy009_ood_5c_test_labels)\n",
    "print(\"DY009 OOD (400 neurons, 200 train spikes) data GMM score: \" + str(dy009_ood_score))\n",
    "testset_A_score = pca_gmm_average_tr(fourhund_5c_train_data, id_5c_memory_data, id_5c_test_data, id_5c_test_labels)\n",
    "print(\"test set A (ID DY016) (400 neurons, 200 train spikes) ID data GMM score: \" + str(testset_A_score))"
   ]
  },
  {
   "cell_type": "markdown",
   "id": "e0e68a4e",
   "metadata": {},
   "source": [
    "## 400 neuron, 200 spikes, 11 chan"
   ]
  },
  {
   "cell_type": "code",
   "execution_count": 26,
   "id": "6538f6bb",
   "metadata": {},
   "outputs": [
    {
     "name": "stdout",
     "output_type": "stream",
     "text": [
      "max gmm score: 48.244958295217174\n",
      "min gmm score: 40.4848033111489\n",
      "50 run gmm mean score: 46.448484524812066\n",
      "50 run gmm std-dev score: 1.4455020400279521\n",
      "DY016 OOD (400 neurons, 200 train spikes) denoised data GMM score: 46.448484524812066\n",
      "max gmm score: 45.47727678049991\n",
      "min gmm score: 38.70774512786305\n",
      "50 run gmm mean score: 42.776622635266406\n",
      "50 run gmm std-dev score: 1.8247957739373344\n",
      "DY009 OOD (400 neurons, 200 train spikes) denoised data GMM score: 42.776622635266406\n",
      "max gmm score: 54.28607334870959\n",
      "min gmm score: 34.691665530745844\n",
      "50 run gmm mean score: 42.675400186749386\n",
      "50 run gmm std-dev score: 3.2538126642336005\n",
      "test set A (ID DY016) (400 neurons, 200 train spikes) ID denoised data GMM score: 42.675400186749386\n"
     ]
    }
   ],
   "source": [
    "dy016_ood_score = pca_gmm_average_tr(fourhund_denoised_11c_train_data, dy016_denoised_ood_11c_memory_data, dy016_denoised_ood_11c_test_data, dy016_denoised_ood_11c_test_labels)\n",
    "print(\"DY016 OOD (400 neurons, 200 train spikes) denoised data GMM score: \" + str(dy016_ood_score))\n",
    "dy009_ood_score = pca_gmm_average_tr(fourhund_denoised_11c_train_data, dy009_denoised_ood_11c_memory_data, dy009_denoised_ood_11c_test_data, dy009_denoised_ood_11c_test_labels)\n",
    "print(\"DY009 OOD (400 neurons, 200 train spikes) denoised data GMM score: \" + str(dy009_ood_score))\n",
    "testset_A_score = pca_gmm_average_tr(fourhund_denoised_11c_train_data, id_denoised_11c_memory_data, id_denoised_11c_test_data, id_denoised_11c_test_labels)\n",
    "print(\"test set A (ID DY016) (400 neurons, 200 train spikes) ID denoised data GMM score: \" + str(testset_A_score))"
   ]
  },
  {
   "cell_type": "code",
   "execution_count": 27,
   "id": "12ca9c95",
   "metadata": {},
   "outputs": [
    {
     "name": "stdout",
     "output_type": "stream",
     "text": [
      "max gmm score: 41.60675125017051\n",
      "min gmm score: 30.786828103802954\n",
      "50 run gmm mean score: 36.10275655248079\n",
      "50 run gmm std-dev score: 2.521434748232127\n",
      "DY016 OOD (400 neurons, 200 train spikes) data GMM score: 36.10275655248079\n",
      "max gmm score: 37.55857981940917\n",
      "min gmm score: 27.450000211494384\n",
      "50 run gmm mean score: 31.2089024732494\n",
      "50 run gmm std-dev score: 2.53233762744236\n",
      "DY009 OOD (400 neurons, 200 train spikes) denoised data GMM score: 31.2089024732494\n",
      "max gmm score: 44.705760996409985\n",
      "min gmm score: 33.909147579717605\n",
      "50 run gmm mean score: 40.77009849126654\n",
      "50 run gmm std-dev score: 3.3294820050708007\n",
      "test set A (ID DY016) (400 neurons, 200 train spikes) ID data GMM score: 40.77009849126654\n"
     ]
    }
   ],
   "source": [
    "dy016_ood_score = pca_gmm_average_tr(fourhund_11c_train_data, dy016_ood_11c_memory_data, dy016_ood_11c_test_data, dy016_ood_11c_test_labels)\n",
    "print(\"DY016 OOD (400 neurons, 200 train spikes) data GMM score: \" + str(dy016_ood_score))\n",
    "dy009_ood_score = pca_gmm_average_tr(fourhund_11c_train_data, dy009_ood_11c_memory_data, dy009_ood_11c_test_data, dy009_ood_11c_test_labels)\n",
    "print(\"DY009 OOD (400 neurons, 200 train spikes) denoised data GMM score: \" + str(dy009_ood_score))\n",
    "testset_A_score = pca_gmm_average_tr(fourhund_11c_train_data, id_11c_memory_data, id_11c_test_data, id_11c_test_labels)\n",
    "print(\"test set A (ID DY016) (400 neurons, 200 train spikes) ID data GMM score: \" + str(testset_A_score))"
   ]
  },
  {
   "cell_type": "markdown",
   "id": "0500eae2",
   "metadata": {},
   "source": [
    "## 400 neuron, 1200 spikes, 5 chan"
   ]
  },
  {
   "cell_type": "code",
   "execution_count": 28,
   "id": "fa9c3437",
   "metadata": {},
   "outputs": [
    {
     "name": "stdout",
     "output_type": "stream",
     "text": [
      "max gmm score: 48.094395698234464\n",
      "min gmm score: 41.745284448139024\n",
      "50 run gmm mean score: 44.502718507091146\n",
      "50 run gmm std-dev score: 1.7779936129471667\n",
      "DY016 OOD (400 neurons, 1200 train spikes) denoised data GMM score: 44.502718507091146\n",
      "max gmm score: 44.52775351653091\n",
      "min gmm score: 34.04123445104575\n",
      "50 run gmm mean score: 40.33534892495606\n",
      "50 run gmm std-dev score: 2.6011016533929294\n",
      "DY009 OOD (400 neurons, 1200 train spikes) denoised data GMM score: 40.33534892495606\n",
      "max gmm score: 55.92005422904447\n",
      "min gmm score: 39.23059834144118\n",
      "50 run gmm mean score: 48.38147559926359\n",
      "50 run gmm std-dev score: 4.251579451897838\n",
      "test set A (ID DY016) (400 neurons, 1200 train spikes) ID denoised data GMM score: 48.38147559926359\n"
     ]
    }
   ],
   "source": [
    "dy016_ood_score = pca_gmm_average_tr(fourhund_1200_denoised_5c_train_data, dy016_denoised_ood_5c_memory_data, dy016_denoised_ood_5c_test_data, dy016_denoised_ood_5c_test_labels)\n",
    "print(\"DY016 OOD (400 neurons, 1200 train spikes) denoised data GMM score: \" + str(dy016_ood_score))\n",
    "dy009_ood_score = pca_gmm_average_tr(fourhund_1200_denoised_5c_train_data, dy009_denoised_ood_5c_memory_data, dy009_denoised_ood_5c_test_data, dy009_denoised_ood_5c_test_labels)\n",
    "print(\"DY009 OOD (400 neurons, 1200 train spikes) denoised data GMM score: \" + str(dy009_ood_score))\n",
    "testset_A_score = pca_gmm_average_tr(fourhund_1200_denoised_5c_train_data, id_denoised_5c_memory_data, id_denoised_5c_test_data, id_denoised_5c_test_labels)\n",
    "print(\"test set A (ID DY016) (400 neurons, 1200 train spikes) ID denoised data GMM score: \" + str(testset_A_score))"
   ]
  },
  {
   "cell_type": "code",
   "execution_count": 29,
   "id": "ac0649e2",
   "metadata": {},
   "outputs": [
    {
     "name": "stdout",
     "output_type": "stream",
     "text": [
      "max gmm score: 39.89104024339202\n",
      "min gmm score: 26.546702953463004\n",
      "50 run gmm mean score: 34.43533178154106\n",
      "50 run gmm std-dev score: 3.5552293564893485\n",
      "DY016 OOD (400 neurons, 1200 train spikes) data GMM score: 34.43533178154106\n",
      "max gmm score: 26.50103263323565\n",
      "min gmm score: 17.536011558451317\n",
      "50 run gmm mean score: 20.862068292899586\n",
      "50 run gmm std-dev score: 1.5991941748639513\n",
      "DY009 OOD (400 neurons, 1200 train spikes) denoised data GMM score: 20.862068292899586\n",
      "max gmm score: 51.654971611343306\n",
      "min gmm score: 35.082526937637624\n",
      "50 run gmm mean score: 44.87747682661522\n",
      "50 run gmm std-dev score: 4.001206501321743\n",
      "test set A (ID DY016) (400 neurons, 1200 train spikes) ID data GMM score: 44.87747682661522\n"
     ]
    }
   ],
   "source": [
    "dy016_ood_score = pca_gmm_average_tr(fourhund_1200_5c_train_data, dy016_ood_5c_memory_data, dy016_ood_5c_test_data, dy016_ood_5c_test_labels)\n",
    "print(\"DY016 OOD (400 neurons, 1200 train spikes) data GMM score: \" + str(dy016_ood_score))\n",
    "dy009_ood_score = pca_gmm_average_tr(fourhund_1200_5c_train_data, dy009_ood_5c_memory_data, dy009_ood_5c_test_data, dy009_ood_5c_test_labels)\n",
    "print(\"DY009 OOD (400 neurons, 1200 train spikes) denoised data GMM score: \" + str(dy009_ood_score))\n",
    "testset_A_score = pca_gmm_average_tr(fourhund_1200_5c_train_data, id_5c_memory_data, id_5c_test_data, id_5c_test_labels)\n",
    "print(\"test set A (ID DY016) (400 neurons, 1200 train spikes) ID data GMM score: \" + str(testset_A_score))"
   ]
  },
  {
   "cell_type": "markdown",
   "id": "dd37830c",
   "metadata": {},
   "source": [
    "## 400 neuron, 1200 spikes, 11 chan"
   ]
  },
  {
   "cell_type": "code",
   "execution_count": 30,
   "id": "2270863d",
   "metadata": {},
   "outputs": [
    {
     "name": "stdout",
     "output_type": "stream",
     "text": [
      "max gmm score: 48.99614025165182\n",
      "min gmm score: 40.78003377881754\n",
      "50 run gmm mean score: 46.727223066562104\n",
      "50 run gmm std-dev score: 1.5269670513611084\n",
      "DY016 OOD (400 neurons, 1200 train spikes) denoised data GMM score: 46.727223066562104\n",
      "max gmm score: 45.14165294730949\n",
      "min gmm score: 35.96376483977253\n",
      "50 run gmm mean score: 41.27244488979042\n",
      "50 run gmm std-dev score: 2.310532488437097\n",
      "DY009 OOD (400 neurons, 1200 train spikes) denoised data GMM score: 41.27244488979042\n",
      "max gmm score: 55.17556987256861\n",
      "min gmm score: 34.355718816344115\n",
      "50 run gmm mean score: 44.6044794271138\n",
      "50 run gmm std-dev score: 4.258011368895061\n",
      "test set A (ID DY016) (400 neurons, 1200 train spikes) ID denoised data GMM score: 44.6044794271138\n"
     ]
    }
   ],
   "source": [
    "dy016_ood_score = pca_gmm_average_tr(fourhund_1200_denoised_11c_train_data, dy016_denoised_ood_11c_memory_data, dy016_denoised_ood_11c_test_data, dy016_denoised_ood_11c_test_labels)\n",
    "print(\"DY016 OOD (400 neurons, 1200 train spikes) denoised data GMM score: \" + str(dy016_ood_score))\n",
    "dy009_ood_score = pca_gmm_average_tr(fourhund_1200_denoised_11c_train_data, dy009_denoised_ood_11c_memory_data, dy009_denoised_ood_11c_test_data, dy009_denoised_ood_11c_test_labels)\n",
    "print(\"DY009 OOD (400 neurons, 1200 train spikes) denoised data GMM score: \" + str(dy009_ood_score))\n",
    "testset_A_score = pca_gmm_average_tr(fourhund_1200_denoised_11c_train_data, id_denoised_11c_memory_data, id_denoised_11c_test_data, id_denoised_11c_test_labels)\n",
    "print(\"test set A (ID DY016) (400 neurons, 1200 train spikes) ID denoised data GMM score: \" + str(testset_A_score))"
   ]
  },
  {
   "cell_type": "code",
   "execution_count": 31,
   "id": "4c0ad845",
   "metadata": {},
   "outputs": [
    {
     "name": "stdout",
     "output_type": "stream",
     "text": [
      "max gmm score: 40.8809364902398\n",
      "min gmm score: 31.559800924748416\n",
      "50 run gmm mean score: 36.01833361293192\n",
      "50 run gmm std-dev score: 2.358189822154822\n",
      "DY016 OOD (400 neurons, 1200 train spikes) data GMM score: 36.01833361293192\n",
      "max gmm score: 38.4876234446748\n",
      "min gmm score: 27.708631557995485\n",
      "50 run gmm mean score: 30.764194111764947\n",
      "50 run gmm std-dev score: 2.1523340052588593\n",
      "DY009 OOD (400 neurons, 1200 train spikes) denoised data GMM score: 30.764194111764947\n",
      "max gmm score: 43.2844852786714\n",
      "min gmm score: 26.144529981858213\n",
      "50 run gmm mean score: 37.77904473049833\n",
      "50 run gmm std-dev score: 3.780511526098917\n",
      "test set A (ID DY016) (400 neurons, 1200 train spikes) ID data GMM score: 37.77904473049833\n"
     ]
    }
   ],
   "source": [
    "dy016_ood_score = pca_gmm_average_tr(fourhund_1200_11c_train_data, dy016_ood_11c_memory_data, dy016_ood_11c_test_data, dy016_ood_11c_test_labels)\n",
    "print(\"DY016 OOD (400 neurons, 1200 train spikes) data GMM score: \" + str(dy016_ood_score))\n",
    "dy009_ood_score = pca_gmm_average_tr(fourhund_1200_11c_train_data, dy009_ood_11c_memory_data, dy009_ood_11c_test_data, dy009_ood_11c_test_labels)\n",
    "print(\"DY009 OOD (400 neurons, 1200 train spikes) denoised data GMM score: \" + str(dy009_ood_score))\n",
    "testset_A_score = pca_gmm_average_tr(fourhund_1200_11c_train_data, id_11c_memory_data, id_11c_test_data, id_11c_test_labels)\n",
    "print(\"test set A (ID DY016) (400 neurons, 1200 train spikes) ID data GMM score: \" + str(testset_A_score))"
   ]
  },
  {
   "cell_type": "markdown",
   "id": "c8e80b3e",
   "metadata": {},
   "source": [
    "## 390 neuron, 1200 spikes, 11 chan"
   ]
  },
  {
   "cell_type": "code",
   "execution_count": 6,
   "id": "3c01a7ed",
   "metadata": {},
   "outputs": [
    {
     "name": "stdout",
     "output_type": "stream",
     "text": [
      "max gmm score: 48.60804477338698\n",
      "min gmm score: 39.75480683937004\n",
      "50 run gmm mean score: 45.92914436746882\n",
      "50 run gmm std-dev score: 1.6328892611301953\n",
      "DY016 OOD (390 neurons, 1200 train spikes) denoised data GMM score: 45.92914436746882\n",
      "max gmm score: 46.13402195125406\n",
      "min gmm score: 35.80291780581771\n",
      "50 run gmm mean score: 42.379070562153146\n",
      "50 run gmm std-dev score: 2.2303673248404534\n",
      "DY009 OOD (390 neurons, 1200 train spikes) denoised data GMM score: 42.379070562153146\n",
      "max gmm score: 55.18234671845307\n",
      "min gmm score: 35.598123840937454\n",
      "50 run gmm mean score: 45.77485420791682\n",
      "50 run gmm std-dev score: 4.1986008009968385\n",
      "test set A (real OOD DY016) (390 neurons, 1200 train spikes) denoised data GMM score: 45.77485420791682\n"
     ]
    }
   ],
   "source": [
    "dy016_ood_score = pca_gmm_average_tr(threenine_1200_denoised_11c_train_data, dy016_denoised_ood_11c_memory_data, dy016_denoised_ood_11c_test_data, dy016_denoised_ood_11c_test_labels)\n",
    "print(\"DY016 OOD (390 neurons, 1200 train spikes) denoised data GMM score: \" + str(dy016_ood_score))\n",
    "dy009_ood_score = pca_gmm_average_tr(threenine_1200_denoised_11c_train_data, dy009_denoised_ood_11c_memory_data, dy009_denoised_ood_11c_test_data, dy009_denoised_ood_11c_test_labels)\n",
    "print(\"DY009 OOD (390 neurons, 1200 train spikes) denoised data GMM score: \" + str(dy009_ood_score))\n",
    "testset_A_score = pca_gmm_average_tr(threenine_1200_denoised_11c_train_data, id_denoised_11c_memory_data, id_denoised_11c_test_data, id_denoised_11c_test_labels)\n",
    "print(\"test set A (real OOD DY016) (390 neurons, 1200 train spikes) denoised data GMM score: \" + str(testset_A_score))"
   ]
  },
  {
   "cell_type": "code",
   "execution_count": 7,
   "id": "a233af20",
   "metadata": {},
   "outputs": [
    {
     "name": "stdout",
     "output_type": "stream",
     "text": [
      "max gmm score: 39.189555871252686\n",
      "min gmm score: 28.935972677835114\n",
      "50 run gmm mean score: 34.53771812976084\n",
      "50 run gmm std-dev score: 2.1985301275746054\n",
      "DY016 OOD (390 neurons, 1200 train spikes) data GMM score: 34.53771812976084\n",
      "max gmm score: 36.17186157242666\n",
      "min gmm score: 27.277896826425675\n",
      "50 run gmm mean score: 31.420735723586652\n",
      "50 run gmm std-dev score: 2.175408313716692\n",
      "DY009 OOD (390 neurons, 1200 train spikes) denoised data GMM score: 31.420735723586652\n",
      "max gmm score: 43.24709337992005\n",
      "min gmm score: 32.93959869314438\n",
      "50 run gmm mean score: 37.9835405610387\n",
      "50 run gmm std-dev score: 3.344276432386825\n",
      "test set A (real OOD DY016) (390 neurons, 1200 train spikes) data GMM score: 37.9835405610387\n"
     ]
    }
   ],
   "source": [
    "dy016_ood_score = pca_gmm_average_tr(threenine_1200_11c_train_data, dy016_ood_11c_memory_data, dy016_ood_11c_test_data, dy016_ood_11c_test_labels)\n",
    "print(\"DY016 OOD (390 neurons, 1200 train spikes) data GMM score: \" + str(dy016_ood_score))\n",
    "dy009_ood_score = pca_gmm_average_tr(threenine_1200_11c_train_data, dy009_ood_11c_memory_data, dy009_ood_11c_test_data, dy009_ood_11c_test_labels)\n",
    "print(\"DY009 OOD (390 neurons, 1200 train spikes) denoised data GMM score: \" + str(dy009_ood_score))\n",
    "testset_A_score = pca_gmm_average_tr(threenine_1200_11c_train_data, id_11c_memory_data, id_11c_test_data, id_11c_test_labels)\n",
    "print(\"test set A (real OOD DY016) (390 neurons, 1200 train spikes) data GMM score: \" + str(testset_A_score))"
   ]
  },
  {
   "cell_type": "markdown",
   "id": "9172ecee",
   "metadata": {},
   "source": [
    "## ID of all sets"
   ]
  },
  {
   "cell_type": "code",
   "execution_count": 9,
   "id": "74928c3e",
   "metadata": {},
   "outputs": [
    {
     "name": "stdout",
     "output_type": "stream",
     "text": [
      "max gmm score: 52.584032309117376\n",
      "min gmm score: 46.0081820452671\n",
      "50 run gmm mean score: 49.2891235247913\n",
      "50 run gmm std-dev score: 1.6740202597724116\n",
      "DY016 ID (200 train spikes) denoised data GMM score: 49.2891235247913\n",
      "max gmm score: 47.609536052231974\n",
      "min gmm score: 38.36627362684138\n",
      "50 run gmm mean score: 43.84671865114465\n",
      "50 run gmm std-dev score: 2.4790120498438704\n",
      "DY009 ID (200 train spikes) denoised data GMM score: 43.84671865114465\n",
      "max gmm score: 55.13788604316496\n",
      "min gmm score: 41.24540178404644\n",
      "50 run gmm mean score: 50.089815808558384\n",
      "50 run gmm std-dev score: 3.7784439320488157\n",
      "test set A (DY016) (200 train spikes) ID denoised data GMM score: 50.089815808558384\n"
     ]
    }
   ],
   "source": [
    "dy016_ood_score = pca_gmm_average(dy016_denoised_ood_5c_memory_data, dy016_denoised_ood_5c_test_data, dy016_denoised_ood_5c_test_labels)\n",
    "print(\"DY016 ID (200 train spikes) denoised data GMM score: \" + str(dy016_ood_score))\n",
    "dy009_ood_score = pca_gmm_average(dy009_denoised_ood_5c_memory_data, dy009_denoised_ood_5c_test_data, dy009_denoised_ood_5c_test_labels)\n",
    "print(\"DY009 ID (200 train spikes) denoised data GMM score: \" + str(dy009_ood_score))\n",
    "testset_A_score = pca_gmm_average(id_denoised_5c_memory_data, id_denoised_5c_test_data, id_denoised_5c_test_labels)\n",
    "print(\"test set A (DY016) (200 train spikes) ID denoised data GMM score: \" + str(testset_A_score))"
   ]
  },
  {
   "cell_type": "code",
   "execution_count": 10,
   "id": "c714b02e",
   "metadata": {},
   "outputs": [
    {
     "name": "stdout",
     "output_type": "stream",
     "text": [
      "max gmm score: 52.87893863727135\n",
      "min gmm score: 46.19428913641999\n",
      "50 run gmm mean score: 49.9818882433913\n",
      "50 run gmm std-dev score: 1.3541427496136573\n",
      "DY016 ID (200 train spikes) denoised data GMM score: 49.9818882433913\n",
      "max gmm score: 49.72548301103939\n",
      "min gmm score: 44.87138629207036\n",
      "50 run gmm mean score: 48.07065613084811\n",
      "50 run gmm std-dev score: 1.503227640182234\n",
      "DY009 ID (200 train spikes) denoised data GMM score: 48.07065613084811\n",
      "max gmm score: 44.28033538250909\n",
      "min gmm score: 31.39884573758237\n",
      "50 run gmm mean score: 39.61758101381981\n",
      "50 run gmm std-dev score: 2.7179886027734343\n",
      "test set A (DY016) (200 train spikes) ID data denoised GMM score: 39.61758101381981\n"
     ]
    }
   ],
   "source": [
    "dy016_ood_score = pca_gmm_average(dy016_denoised_ood_11c_memory_data, dy016_denoised_ood_11c_test_data, dy016_denoised_ood_11c_test_labels)\n",
    "print(\"DY016 ID (200 train spikes) denoised data GMM score: \" + str(dy016_ood_score))\n",
    "dy009_ood_score = pca_gmm_average(dy009_denoised_ood_11c_memory_data, dy009_denoised_ood_11c_memory_data, dy009_denoised_ood_11c_test_labels)\n",
    "print(\"DY009 ID (200 train spikes) denoised data GMM score: \" + str(dy009_ood_score))\n",
    "testset_A_score = pca_gmm_average(id_denoised_11c_memory_data, id_denoised_11c_test_data, id_denoised_11c_test_labels)\n",
    "print(\"test set A (DY016) (200 train spikes) ID data denoised GMM score: \" + str(testset_A_score))"
   ]
  },
  {
   "cell_type": "code",
   "execution_count": 7,
   "id": "bec0d498",
   "metadata": {
    "scrolled": true
   },
   "outputs": [
    {
     "name": "stdout",
     "output_type": "stream",
     "text": [
      "max gmm score: 44.016484964451244\n",
      "min gmm score: 34.27168700179398\n",
      "50 run gmm mean score: 38.60536750922742\n",
      "50 run gmm std-dev score: 2.2499194442618533\n",
      "DY016 OOD data GMM score: 38.60536750922742\n",
      "max gmm score: 43.2123786410486\n",
      "min gmm score: 32.315591872083886\n",
      "50 run gmm mean score: 39.17478255524215\n",
      "50 run gmm std-dev score: 2.2927240799944033\n",
      "DY009 OOD data GMM score: 39.17478255524215\n",
      "max gmm score: 54.85513270593066\n",
      "min gmm score: 36.60393970101378\n",
      "50 run gmm mean score: 44.16644158201513\n",
      "50 run gmm std-dev score: 3.601146433041381\n",
      "test set A data GMM score: 44.16644158201513\n"
     ]
    }
   ],
   "source": [
    "dy016_ood_score = pca_gmm_average(dy016_ood_5c_memory_data, dy016_ood_5c_test_data, dy016_ood_5c_test_labels)\n",
    "print(\"DY016 ID (200 train spikes) data GMM score: \" + str(dy016_ood_score))\n",
    "dy009_ood_score = pca_gmm_average(dy009_ood_5c_memory_data, dy009_ood_5c_memory_data, dy009_ood_5c_test_labels)\n",
    "print(\"DY009 ID (200 train spikes) data GMM score: \" + str(dy009_ood_score))\n",
    "testset_A_score = pca_gmm_average(id_5c_memory_data, id_5c_test_data, id_5c_test_labels)\n",
    "print(\"test set A (DY016) (200 train spikes) ID data GMM score: \" + str(testset_A_score))"
   ]
  },
  {
   "cell_type": "code",
   "execution_count": 8,
   "id": "9eae0d84",
   "metadata": {},
   "outputs": [
    {
     "name": "stdout",
     "output_type": "stream",
     "text": [
      "max gmm score: 41.339826356672376\n",
      "min gmm score: 29.16540999756477\n",
      "50 run gmm mean score: 36.14958006262585\n",
      "50 run gmm std-dev score: 2.557504424154209\n",
      "DY016 OOD data GMM score: 36.14958006262585\n",
      "max gmm score: 40.11572258482997\n",
      "min gmm score: 30.17548036088694\n",
      "50 run gmm mean score: 36.8479892578336\n",
      "50 run gmm std-dev score: 2.278244767294241\n",
      "DY009 OOD data GMM score: 36.8479892578336\n",
      "max gmm score: 47.95558042099082\n",
      "min gmm score: 33.61906273944858\n",
      "50 run gmm mean score: 41.315006775805585\n",
      "50 run gmm std-dev score: 3.819610125152901\n",
      "test set A data GMM score: 41.315006775805585\n"
     ]
    }
   ],
   "source": [
    "dy016_ood_score = pca_gmm_average(dy016_ood_11c_memory_data, dy016_ood_11c_test_data, dy016_ood_11c_test_labels)\n",
    "print(\"DY016 ID (200 train spikes) data GMM score: \" + str(dy016_ood_score))\n",
    "dy009_ood_score = pca_gmm_average(dy009_ood_11c_memory_data, dy009_ood_11c_memory_data, dy009_ood_11c_test_labels)\n",
    "print(\"DY009 ID (200 train spikes) data GMM score: \" + str(dy009_ood_score))\n",
    "testset_A_score = pca_gmm_average(id_11c_memory_data, id_11c_test_data, id_11c_test_labels)\n",
    "print(\"test set A (DY016) (200 train spikes) ID data GMM score: \" + str(testset_A_score))"
   ]
  },
  {
   "cell_type": "code",
   "execution_count": 12,
   "id": "393e9ef9",
   "metadata": {},
   "outputs": [
    {
     "name": "stdout",
     "output_type": "stream",
     "text": [
      "max gmm score: 24.715127816076123\n",
      "min gmm score: 20.984923304102924\n",
      "50 run gmm mean score: 23.58112385071734\n",
      "50 run gmm std-dev score: 0.5275223408566994\n",
      "DY016 OOD (test set A 1200 spikes) data GMM score: 23.58112385071734\n",
      "max gmm score: 21.238489666225092\n",
      "min gmm score: 14.593883750991893\n",
      "50 run gmm mean score: 17.9354498400044\n",
      "50 run gmm std-dev score: 0.9226892008696899\n",
      "DY009 OOD (test set A 1200 spikes) data GMM score: 17.9354498400044\n",
      "max gmm score: 48.48341232339838\n",
      "min gmm score: 42.088143716207256\n",
      "50 run gmm mean score: 46.35456126187191\n",
      "50 run gmm std-dev score: 2.02502218740775\n",
      "test set A (test set A 1200 spikes) data GMM score: 46.35456126187191\n"
     ]
    }
   ],
   "source": [
    "dy016_ood_score = pca_gmm_average(dy016_id_5c_memory_data, dy016_ood_5c_test_data, dy016_ood_5c_test_labels)\n",
    "print(\"DY016 OOD (test set A 1200 spikes) data GMM score: \" + str(dy016_ood_score))\n",
    "dy009_ood_score = pca_gmm_average(dy016_id_5c_memory_data, dy009_ood_5c_memory_data, dy009_ood_5c_test_labels)\n",
    "print(\"DY009 OOD (test set A 1200 spikes) data GMM score: \" + str(dy009_ood_score))\n",
    "testset_A_score = pca_gmm_average(dy016_id_5c_memory_data, id_5c_test_data, id_5c_test_labels)\n",
    "print(\"test set A (test set A 1200 spikes) data GMM score: \" + str(testset_A_score))"
   ]
  },
  {
   "cell_type": "code",
   "execution_count": 13,
   "id": "f9740b21",
   "metadata": {},
   "outputs": [
    {
     "name": "stdout",
     "output_type": "stream",
     "text": [
      "max gmm score: 23.662534858583182\n",
      "min gmm score: 10.746395164699681\n",
      "50 run gmm mean score: 16.4852522192692\n",
      "50 run gmm std-dev score: 3.3836952638107967\n",
      "DY016 OOD (test set A 1200 spikes) data GMM score: 16.4852522192692\n",
      "max gmm score: 22.049626883106228\n",
      "min gmm score: 9.837814120694349\n",
      "50 run gmm mean score: 15.901064382157278\n",
      "50 run gmm std-dev score: 4.077840670932784\n",
      "DY009 OOD (test set A 1200 spikes) data GMM score: 15.901064382157278\n",
      "max gmm score: 43.13007028785448\n",
      "min gmm score: 28.370391755074348\n",
      "50 run gmm mean score: 36.29547030978494\n",
      "50 run gmm std-dev score: 3.6242172401098993\n",
      "test set A (test set A 1200 spikes) data GMM score: 36.29547030978494\n"
     ]
    }
   ],
   "source": [
    "dy016_ood_score = pca_gmm_average(dy016_id_11c_memory_data, dy016_ood_11c_test_data, dy016_ood_11c_test_labels)\n",
    "print(\"DY016 OOD (test set A 1200 spikes) data GMM score: \" + str(dy016_ood_score))\n",
    "dy009_ood_score = pca_gmm_average(dy016_id_11c_memory_data, dy009_ood_11c_memory_data, dy009_ood_11c_test_labels)\n",
    "print(\"DY009 OOD (test set A 1200 spikes) data GMM score: \" + str(dy009_ood_score))\n",
    "testset_A_score = pca_gmm_average(dy016_id_11c_memory_data, id_11c_test_data, id_11c_test_labels)\n",
    "print(\"test set A (test set A 1200 spikes) data GMM score: \" + str(testset_A_score))"
   ]
  },
  {
   "cell_type": "code",
   "execution_count": null,
   "id": "323424f6",
   "metadata": {},
   "outputs": [],
   "source": []
  }
 ],
 "metadata": {
  "kernelspec": {
   "display_name": "ceed",
   "language": "python",
   "name": "ceed"
  },
  "language_info": {
   "codemirror_mode": {
    "name": "ipython",
    "version": 3
   },
   "file_extension": ".py",
   "mimetype": "text/x-python",
   "name": "python",
   "nbconvert_exporter": "python",
   "pygments_lexer": "ipython3",
   "version": "3.8.17"
  }
 },
 "nbformat": 4,
 "nbformat_minor": 5
}
