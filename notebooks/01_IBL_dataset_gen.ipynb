{
 "cells": [
  {
   "cell_type": "markdown",
   "metadata": {},
   "source": [
    "### Download and destripe AP data from an IBL session by its PID."
   ]
  },
  {
   "cell_type": "code",
   "execution_count": null,
   "metadata": {
    "tags": []
   },
   "outputs": [],
   "source": [
    "pid_sess1 = 'dab512bd-a02d-4c1f-8dbc-9155a163efc0'\n",
    "pid_sess2 = 'febb430e-2d50-4f83-87a0-b5ffbb9a4943'\n",
    "save_folder_sess1 = '/media/cat/data/IBL_data_CEED/dab512bd-a02d-4c1f-8dbc-9155a163efc0'\n",
    "save_folder_sess2 = '/media/cat/data/IBL_data_CEED/febb430e-2d50-4f83-87a0-b5ffbb9a4943'\n",
    "t_window = [0, 1000] #in seconds\n",
    "overwrite = False\n",
    "rec1, meta_file_sess1 = download_IBL(pid=pid_sess1, t_window=t_window, save_folder=save_folder_sess1, overwrite=overwrite)\n",
    "rec2, meta_file_sess2 = download_IBL(pid=pid_sess2, t_window=t_window, save_folder=save_folder_sess2, overwrite=overwrite)"
   ]
  },
  {
   "cell_type": "code",
   "execution_count": null,
   "metadata": {
    "tags": []
   },
   "outputs": [],
   "source": [
    "'''extract the all data needed to make CEED dataset\n",
    "spike_idx_sess: spike_times, channels, neurons (if use_labels=True)\n",
    "geom_sess: channels x 2\n",
    "chan_idx_sess: waveform extraction channels for each channel\n",
    "templates_sess: templates across all channels for all neurons\n",
    "'''\n",
    "recompute = False\n",
    "\n",
    "if recompute:\n",
    "    spike_idx_sess1, geom_sess1, chan_idx_sess1, templates_sess1 = extract_IBL(rec=rec1, \n",
    "                                                                               meta_fp=meta_file_sess1, \n",
    "                                                                               pid=pid_sess1, \n",
    "                                                                               t_window=t_window, \n",
    "                                                                               use_labels=True)\n",
    "    spike_idx_sess2, geom_sess2, chan_idx_sess2, templates_sess2 = extract_IBL(rec=rec2, \n",
    "                                                                               meta_fp=meta_file_sess2, \n",
    "                                                                               pid=pid_sess2, \n",
    "                                                                               t_window=t_window,\n",
    "                                                                               use_labels=True)\n",
    "    np.save('spike_idx_sess1.npy', spike_idx_sess1)\n",
    "    np.save('geom_sess1.npy', geom_sess1)\n",
    "    np.save('chan_idx_sess1.npy', chan_idx_sess1)\n",
    "    np.save('templates_sess1.npy', templates_sess1)\n",
    "    np.save('spike_idx_sess2.npy', spike_idx_sess2)\n",
    "    np.save('geom_sess2.npy', geom_sess2)\n",
    "    np.save('chan_idx_sess2.npy', chan_idx_sess2)\n",
    "    np.save('templates_sess2.npy', templates_sess2)\n",
    "else:\n",
    "    spike_idx_sess1 = np.load('spike_idx_sess1.npy')\n",
    "    geom_sess1 = np.load('geom_sess1.npy')\n",
    "    chan_idx_sess1 = np.load('chan_idx_sess1.npy')\n",
    "    templates_sess1 = np.load('templates_sess1.npy')\n",
    "    spike_idx_sess2 = np.load('spike_idx_sess2.npy')\n",
    "    geom_sess2 = np.load('geom_sess2.npy')\n",
    "    chan_idx_sess2 = np.load('chan_idx_sess2.npy')\n",
    "    templates_sess2 = np.load('templates_sess2.npy')"
   ]
  },
  {
   "cell_type": "code",
   "execution_count": null,
   "metadata": {
    "tags": []
   },
   "outputs": [],
   "source": [
    "#plot a denoised template on the 40 extracted channels (not all 40 used to train CEED).\n",
    "template_id = 454\n",
    "template = templates_sess1[template_id]\n",
    "max_channel = np.argmax(np.ptp(template,0))\n",
    "plt.plot(templates_sess1[template_id][:,chan_idx_sess1[max_channel]]);"
   ]
  },
  {
   "cell_type": "code",
   "execution_count": null,
   "metadata": {},
   "outputs": [],
   "source": [
    "save_fewer = True"
   ]
  },
  {
   "cell_type": "code",
   "execution_count": null,
   "metadata": {},
   "outputs": [],
   "source": [
    "# session 1 units to get data from and dataset save path\n",
    "selected_units_sess1 = np.arange(400)\n",
    "dataset_folder_sess1 = save_folder_sess1 + '/ds'\n",
    "\n",
    "# make a dataset for training\n",
    "# will create a folder with the spike, probe channel number, and corresponding channel location datasets in the train, val, test splits\n",
    "# optionally also saves out spatial and temporal noise covariance matrices\n",
    "inference = False\n",
    "train_num = 400\n",
    "val_num = 0\n",
    "test_num = 100\n",
    "save_covs = True\n",
    "num_chans_extract = 21\n",
    "normalize = False #True for cell-type dataset\n",
    "shift = True\n",
    "train_set1, val_set1, test_set1, train_geom_locs1, val_geom_locs1, \\\n",
    "test_geom_locs1, train_max_chan1, val_max_chan1, test_max_chan1 = make_dataset(rec=rec1, \n",
    "                                                                               spike_index=spike_idx_sess1,\n",
    "                                                                               geom=geom_sess1, \n",
    "                                                                               save_path=dataset_folder_sess1, \n",
    "                                                                               chan_index=chan_idx_sess1, \n",
    "                                                                               templates=templates_sess1, \n",
    "                                                                               unit_ids=selected_units_sess1, \n",
    "                                                                               train_num=train_num, \n",
    "                                                                               val_num=val_num, \n",
    "                                                                               test_num=test_num, \n",
    "                                                                               save_covs=save_covs, \n",
    "                                                                               num_chans_extract=num_chans_extract, \n",
    "                                                                               normalize=normalize, \n",
    "                                                                               shift=shift, \n",
    "                                                                               inference=inference,\n",
    "                                                                               save_fewer=save_fewer)"
   ]
  },
  {
   "cell_type": "code",
   "execution_count": null,
   "metadata": {},
   "outputs": [],
   "source": [
    "# session 1 units to get data from and dataset save path\n",
    "selected_units_sess2 = np.arange(400)\n",
    "dataset_folder_sess2 = save_folder_sess2 + '/ds'\n",
    "\n",
    "# make a dataset for training\n",
    "# will create a folder with the spike, probe channel number, and corresponding channel location datasets in the train, val, test splits\n",
    "# optionally also saves out spatial and temporal noise covariance matrices\n",
    "inference = False\n",
    "train_num = 400\n",
    "val_num = 0\n",
    "test_num = 100\n",
    "save_covs = True\n",
    "num_chans_extract = 21\n",
    "normalize = False\n",
    "shift = True\n",
    "\n",
    "train_set2, val_set2, test_set2, train_geom_locs, val_geom_locs2, \\\n",
    "test_geom_locs2, train_max_chan2, val_max_chan2, test_max_chan2 = make_dataset(rec=rec2, \n",
    "                                                                               spike_index=spike_idx_sess2,\n",
    "                                                                               geom=geom_sess2, \n",
    "                                                                               save_path=dataset_folder_sess2, \n",
    "                                                                               chan_index=chan_idx_sess2, \n",
    "                                                                               templates=templates_sess2, \n",
    "                                                                               unit_ids=selected_units_sess2, \n",
    "                                                                               train_num=train_num, \n",
    "                                                                               val_num=val_num, \n",
    "                                                                               test_num=test_num, \n",
    "                                                                               save_covs=save_covs, \n",
    "                                                                               num_chans_extract=num_chans_extract, \n",
    "                                                                               normalize=normalize, \n",
    "                                                                               shift=shift, \n",
    "                                                                               inference=inference,\n",
    "                                                                               save_fewer=save_fewer)"
   ]
  },
  {
   "cell_type": "code",
   "execution_count": null,
   "metadata": {},
   "outputs": [],
   "source": [
    "combined_ds_path = '/media/cat/data/IBL_data_CEED/combined'\n",
    "\n",
    "# combine the two training datasets into a larger one for more unit diversity\n",
    "dataset_list = [dataset_folder_sess1, dataset_folder_sess2]\n",
    "combine_datasets(dataset_list, combined_ds_path)"
   ]
  },
  {
   "cell_type": "code",
   "execution_count": null,
   "metadata": {},
   "outputs": [],
   "source": [
    "# session 1 units to get data from and dataset save path\n",
    "selected_units_inference = np.arange(400)\n",
    "inference_ds_path = save_folder_sess1 + '/ds_inference'\n",
    "\n",
    "# make a dataset for training\n",
    "# will create a folder with the spike, probe channel number, and corresponding channel location datasets in the train, val, test splits\n",
    "# optionally also saves out spatial and temporal noise covariance matrices\n",
    "inference = True\n",
    "test_num = 500\n",
    "save_covs = True\n",
    "num_chans_extract = 21\n",
    "normalize = False\n",
    "shift = True\n",
    "\n",
    "test_set, test_geom_locs, test_max_chan = make_dataset(rec=rec1, \n",
    "                                                       spike_index=spike_idx_sess1,\n",
    "                                                       geom=geom_sess1, \n",
    "                                                       save_path=inference_ds_path, \n",
    "                                                       chan_index=chan_idx_sess1, \n",
    "                                                       templates=templates_sess1, \n",
    "                                                       unit_ids=selected_units_inference, \n",
    "                                                       train_num=train_num, \n",
    "                                                       val_num=val_num, \n",
    "                                                       test_num=test_num, \n",
    "                                                       save_covs=save_covs, \n",
    "                                                       num_chans_extract=num_chans_extract, \n",
    "                                                       normalize=normalize, \n",
    "                                                       shift=shift, \n",
    "                                                       inference=inference,\n",
    "                                                       save_fewer=save_fewer)"
   ]
  },
  {
   "cell_type": "code",
   "execution_count": null,
   "metadata": {
    "tags": []
   },
   "outputs": [],
   "source": [
    "## spikes_test = np.load(inference_ds_path + '/spikes_test.npy') \n",
    "labels_test = np.load(inference_ds_path + '/labels_test.npy') \n",
    "\n",
    "template_id = 145\n",
    "plt.plot(np.mean(test_set[labels_test==template_id],0).T);"
   ]
  }
 ],
 "metadata": {
  "kernelspec": {
   "display_name": "Python [conda env:ceed]",
   "language": "python",
   "name": "conda-env-ceed-py"
  },
  "language_info": {
   "codemirror_mode": {
    "name": "ipython",
    "version": 3
   },
   "file_extension": ".py",
   "mimetype": "text/x-python",
   "name": "python",
   "nbconvert_exporter": "python",
   "pygments_lexer": "ipython3",
   "version": "3.10.12"
  }
 },
 "nbformat": 4,
 "nbformat_minor": 4
}
