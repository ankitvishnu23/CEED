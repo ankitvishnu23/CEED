{
 "cells": [
  {
   "cell_type": "code",
   "execution_count": 1,
   "metadata": {
    "tags": []
   },
   "outputs": [
    {
     "name": "stderr",
     "output_type": "stream",
     "text": [
      "2023-10-13 13:52:41.675367: E tensorflow/compiler/xla/stream_executor/cuda/cuda_dnn.cc:9342] Unable to register cuDNN factory: Attempting to register factory for plugin cuDNN when one has already been registered\n",
      "2023-10-13 13:52:41.675401: E tensorflow/compiler/xla/stream_executor/cuda/cuda_fft.cc:609] Unable to register cuFFT factory: Attempting to register factory for plugin cuFFT when one has already been registered\n",
      "2023-10-13 13:52:41.675420: E tensorflow/compiler/xla/stream_executor/cuda/cuda_blas.cc:1518] Unable to register cuBLAS factory: Attempting to register factory for plugin cuBLAS when one has already been registered\n",
      "2023-10-13 13:52:41.682725: I tensorflow/core/platform/cpu_feature_guard.cc:182] This TensorFlow binary is optimized to use available CPU instructions in performance-critical operations.\n",
      "To enable the following instructions: AVX2 FMA, in other operations, rebuild TensorFlow with the appropriate compiler flags.\n",
      "2023-10-13 13:52:42.557944: W tensorflow/compiler/tf2tensorrt/utils/py_utils.cc:38] TF-TRT Warning: Could not find TensorRT\n",
      "/media/cat/cole/miniforge-pypy3/envs/ceed/lib/python3.10/site-packages/ibllib/atlas/__init__.py:202: DeprecationWarning: ibllib.atlas is deprecated. Please install iblatlas using \"pip install iblatlas\" and use this module instead\n",
      "  warnings.warn('ibllib.atlas is deprecated. Please install iblatlas using \"pip install iblatlas\" and use '\n"
     ]
    }
   ],
   "source": [
    "from analysis.data_gen_utils import download_IBL, extract_IBL, make_dataset, combine_datasets\n",
    "import numpy as np\n",
    "import matplotlib.pyplot as plt"
   ]
  },
  {
   "cell_type": "markdown",
   "metadata": {},
   "source": [
    "### Download and destripe AP data from an IBL session by its PID."
   ]
  },
  {
   "cell_type": "code",
   "execution_count": 2,
   "metadata": {
    "tags": []
   },
   "outputs": [
    {
     "name": "stdout",
     "output_type": "stream",
     "text": [
      "INFO:one.api:Downloading remote caches...\n",
      "Downloading: /home/cole/Downloads/ONE/alyx.internationalbrainlab.org/tmpdrppk0ot/cache.zip Bytes: 111039749\n"
     ]
    },
    {
     "name": "stderr",
     "output_type": "stream",
     "text": [
      "100%|████████████████████████████| 105.89575672149658/105.89575672149658 [00:02<00:00, 39.46it/s]\n"
     ]
    },
    {
     "name": "stdout",
     "output_type": "stream",
     "text": [
      "INFO:one.api:Downloading from AWS\n"
     ]
    },
    {
     "name": "stderr",
     "output_type": "stream",
     "text": [
      "/home/cole/Downloads/ONE/alyx.internationalbrainlab.org/danlab/Subjects/DY_016/2020-09-12/001/raw"
     ]
    },
    {
     "name": "stdout",
     "output_type": "stream",
     "text": [
      "INFO:one.api:Downloading from AWS\n"
     ]
    },
    {
     "name": "stderr",
     "output_type": "stream",
     "text": [
      "\n",
      "/home/cole/Downloads/ONE/alyx.internationalbrainlab.org/danlab/Subjects/DY_016/2020-09-12/001/raw\n"
     ]
    },
    {
     "name": "stdout",
     "output_type": "stream",
     "text": [
      "Downloading: /home/cole/Downloads/ONE/alyx.internationalbrainlab.org/cache/ap/danlab/Subjects/DY_016/2020-09-12/001/raw_ephys_data/probe00/chunk_000000_to_000199/_spikeglx_ephysData_g0_t0.imec0.ap.8cb6749e-846b-4c1e-94da-2d026c410921.cbin Bytes: 1832463486\n"
     ]
    },
    {
     "name": "stderr",
     "output_type": "stream",
     "text": [
      "100%|████████████████████████████| 1747.5733623504639/1747.5733623504639 [01:50<00:00, 15.78it/s]\n"
     ]
    },
    {
     "name": "stdout",
     "output_type": "stream",
     "text": [
      "/home/cole/Downloads/ONE/alyx.internationalbrainlab.org/danlab/Subjects/DY_016/2020-09-12/001/raw_ephys_data/probe00/_spikeglx_ephysData_g0_t0.imec0.ap.meta\n",
      "Folder '/media/cat/data/IBL_data_CEED/dab512bd-a02d-4c1f-8dbc-9155a163efc0_test' overwritten.\n",
      "\u001b[1;33m2023-10-13 13:54:52.115 WARNING  [spikeglx.py:104] /home/cole/Downloads/ONE/alyx.internationalbrainlab.org/cache/ap/danlab/Subjects/DY_016/2020-09-12/001/raw_ephys_data/probe00/chunk_000000_to_000199/_spikeglx_ephysData_g0_t0.imec0.ap.stream.cbin : meta data and compressed chunks dont checkout\n",
      "File duration: expected 3668.9780333333333, actual 200.0\n",
      "Will attempt to fudge the meta-data information.\u001b[0m\n",
      "WARNING:ibllib:/home/cole/Downloads/ONE/alyx.internationalbrainlab.org/cache/ap/danlab/Subjects/DY_016/2020-09-12/001/raw_ephys_data/probe00/chunk_000000_to_000199/_spikeglx_ephysData_g0_t0.imec0.ap.stream.cbin : meta data and compressed chunks dont checkout\n",
      "File duration: expected 3668.9780333333333, actual 200.0\n",
      "Will attempt to fudge the meta-data information.\n",
      "running destriping\n"
     ]
    },
    {
     "data": {
      "application/vnd.jupyter.widget-view+json": {
       "model_id": "77afb367a12b4b9eaa40fc87dbbe9418",
       "version_major": 2,
       "version_minor": 0
      },
      "text/plain": [
       "destripe batches:   0%|          | 0/3 [00:00<?, ?it/s]"
      ]
     },
     "metadata": {},
     "output_type": "display_data"
    },
    {
     "name": "stdout",
     "output_type": "stream",
     "text": [
      "\u001b[1;33m2023-10-13 13:54:57.721 WARNING  [spikeglx.py:104] /home/cole/Downloads/ONE/alyx.internationalbrainlab.org/cache/ap/danlab/Subjects/DY_016/2020-09-12/001/raw_ephys_data/probe00/chunk_000000_to_000199/_spikeglx_ephysData_g0_t0.imec0.ap.stream.cbin : meta data and compressed chunks dont checkout\n",
      "File duration: expected 3668.9780333333333, actual 200.0\n",
      "Will attempt to fudge the meta-data information.\u001b[0m\n",
      "WARNING:ibllib:/home/cole/Downloads/ONE/alyx.internationalbrainlab.org/cache/ap/danlab/Subjects/DY_016/2020-09-12/001/raw_ephys_data/probe00/chunk_000000_to_000199/_spikeglx_ephysData_g0_t0.imec0.ap.stream.cbin : meta data and compressed chunks dont checkout\n",
      "File duration: expected 3668.9780333333333, actual 200.0\n",
      "Will attempt to fudge the meta-data information.\n"
     ]
    },
    {
     "name": "stderr",
     "output_type": "stream",
     "text": [
      "/home/cole/Downloads/ONE/alyx.internationalbrainlab.org/cache/ap/danlab/Subjects/DY_016/2020-09-12/001/raw_ephys_data/probe00/chunk_000000_to_000199/_spikeglx_ephysData_g0_t0.imec0.ap.stream.cbin : meta data and compressed chunks dont checkout\n",
      "File duration: expected 3668.9780333333333, actual 200.0\n",
      "Will attempt to fudge the meta-data information.\n",
      "/home/cole/Downloads/ONE/alyx.internationalbrainlab.org/cache/ap/danlab/Subjects/DY_016/2020-09-12/001/raw_ephys_data/probe00/chunk_000000_to_000199/_spikeglx_ephysData_g0_t0.imec0.ap.stream.cbin : meta data and compressed chunks dont checkout\n",
      "File duration: expected 3668.9780333333333, actual 200.0\n",
      "Will attempt to fudge the meta-data information.\n",
      "/home/cole/Downloads/ONE/alyx.internationalbrainlab.org/cache/ap/danlab/Subjects/DY_016/2020-09-12/001/raw_ephys_data/probe00/chunk_000000_to_000199/_spikeglx_ephysData_g0_t0.imec0.ap.stream.cbin : meta data and compressed chunks dont checkout\n",
      "File duration: expected 3668.9780333333333, actual 200.0\n",
      "Will attempt to fudge the meta-data information.\n",
      "/home/cole/Downloads/ONE/alyx.internationalbrainlab.org/cache/ap/danlab/Subjects/DY_016/2020-09-12/001/raw_ephys_data/probe00/chunk_000000_to_000199/_spikeglx_ephysData_g0_t0.imec0.ap.stream.cbin : meta data and compressed chunks dont checkout\n",
      "File duration: expected 3668.9780333333333, actual 200.0\n",
      "Will attempt to fudge the meta-data information.\n",
      "/home/cole/Downloads/ONE/alyx.internationalbrainlab.org/cache/ap/danlab/Subjects/DY_016/2020-09-12/001/raw_ephys_data/probe00/chunk_000000_to_000199/_spikeglx_ephysData_g0_t0.imec0.ap.stream.cbin : meta data and compressed chunks dont checkout\n",
      "File duration: expected 3668.9780333333333, actual 200.0\n",
      "Will attempt to fudge the meta-data information.\n",
      "/home/cole/Downloads/ONE/alyx.internationalbrainlab.org/cache/ap/danlab/Subjects/DY_016/2020-09-12/001/raw_ephys_data/probe00/chunk_000000_to_000199/_spikeglx_ephysData_g0_t0.imec0.ap.stream.cbin : meta data and compressed chunks dont checkout\n",
      "File duration: expected 3668.9780333333333, actual 200.0\n",
      "Will attempt to fudge the meta-data information.\n",
      "/home/cole/Downloads/ONE/alyx.internationalbrainlab.org/cache/ap/danlab/Subjects/DY_016/2020-09-12/001/raw_ephys_data/probe00/chunk_000000_to_000199/_spikeglx_ephysData_g0_t0.imec0.ap.stream.cbin : meta data and compressed chunks dont checkout\n",
      "File duration: expected 3668.9780333333333, actual 200.0\n",
      "Will attempt to fudge the meta-data information.\n",
      "/home/cole/Downloads/ONE/alyx.internationalbrainlab.org/cache/ap/danlab/Subjects/DY_016/2020-09-12/001/raw_ephys_data/probe00/chunk_000000_to_000199/_spikeglx_ephysData_g0_t0.imec0.ap.stream.cbin : meta data and compressed chunks dont checkout\n",
      "File duration: expected 3668.9780333333333, actual 200.0\n",
      "Will attempt to fudge the meta-data information.\n",
      "/home/cole/Downloads/ONE/alyx.internationalbrainlab.org/cache/ap/danlab/Subjects/DY_016/2020-09-12/001/raw_ephys_data/probe00/chunk_000000_to_000199/_spikeglx_ephysData_g0_t0.imec0.ap.stream.cbin : meta data and compressed chunks dont checkout\n",
      "File duration: expected 3668.9780333333333, actual 200.0\n",
      "Will attempt to fudge the meta-data information.\n"
     ]
    },
    {
     "name": "stdout",
     "output_type": "stream",
     "text": [
      "done with destriping\n",
      "INFO:one.api:Downloading from AWS\n"
     ]
    },
    {
     "name": "stderr",
     "output_type": "stream",
     "text": [
      "/home/cole/Downloads/ONE/alyx.internationalbrainlab.org/danlab/Subjects/DY_009/2020-02-27/001/raw"
     ]
    },
    {
     "name": "stdout",
     "output_type": "stream",
     "text": [
      "INFO:one.api:Downloading from AWS\n"
     ]
    },
    {
     "name": "stderr",
     "output_type": "stream",
     "text": [
      "\n",
      "/home/cole/Downloads/ONE/alyx.internationalbrainlab.org/danlab/Subjects/DY_009/2020-02-27/001/raw\n"
     ]
    },
    {
     "name": "stdout",
     "output_type": "stream",
     "text": [
      "Downloading: /home/cole/Downloads/ONE/alyx.internationalbrainlab.org/cache/ap/danlab/Subjects/DY_009/2020-02-27/001/raw_ephys_data/probe00/chunk_000000_to_000199/_spikeglx_ephysData_g0_t0.imec0.ap.628241b1-657d-4854-8dab-c7af86553db4.cbin Bytes: 1784500337\n"
     ]
    },
    {
     "name": "stderr",
     "output_type": "stream",
     "text": [
      "100%|████████████████████████████| 1701.8321390151978/1701.8321390151978 [02:44<00:00, 10.36it/s]\n"
     ]
    },
    {
     "name": "stdout",
     "output_type": "stream",
     "text": [
      "/home/cole/Downloads/ONE/alyx.internationalbrainlab.org/danlab/Subjects/DY_009/2020-02-27/001/raw_ephys_data/probe00/_spikeglx_ephysData_g0_t0.imec0.ap.meta\n",
      "Folder '/media/cat/data/IBL_data_CEED/febb430e-2d50-4f83-87a0-b5ffbb9a4943_test' overwritten.\n",
      "\u001b[1;33m2023-10-13 13:59:45.38 WARNING  [spikeglx.py:104] /home/cole/Downloads/ONE/alyx.internationalbrainlab.org/cache/ap/danlab/Subjects/DY_009/2020-02-27/001/raw_ephys_data/probe00/chunk_000000_to_000199/_spikeglx_ephysData_g0_t0.imec0.ap.stream.cbin : meta data and compressed chunks dont checkout\n",
      "File duration: expected 3488.6784, actual 200.0\n",
      "Will attempt to fudge the meta-data information.\u001b[0m\n",
      "WARNING:ibllib:/home/cole/Downloads/ONE/alyx.internationalbrainlab.org/cache/ap/danlab/Subjects/DY_009/2020-02-27/001/raw_ephys_data/probe00/chunk_000000_to_000199/_spikeglx_ephysData_g0_t0.imec0.ap.stream.cbin : meta data and compressed chunks dont checkout\n",
      "File duration: expected 3488.6784, actual 200.0\n",
      "Will attempt to fudge the meta-data information.\n",
      "running destriping\n"
     ]
    },
    {
     "data": {
      "application/vnd.jupyter.widget-view+json": {
       "model_id": "3d13a970d7294fa8bdc08eaf2064e514",
       "version_major": 2,
       "version_minor": 0
      },
      "text/plain": [
       "destripe batches:   0%|          | 0/3 [00:00<?, ?it/s]"
      ]
     },
     "metadata": {},
     "output_type": "display_data"
    },
    {
     "name": "stdout",
     "output_type": "stream",
     "text": [
      "\u001b[1;33m2023-10-13 13:59:50.543 WARNING  [spikeglx.py:104] /home/cole/Downloads/ONE/alyx.internationalbrainlab.org/cache/ap/danlab/Subjects/DY_009/2020-02-27/001/raw_ephys_data/probe00/chunk_000000_to_000199/_spikeglx_ephysData_g0_t0.imec0.ap.stream.cbin : meta data and compressed chunks dont checkout\n",
      "File duration: expected 3488.6784, actual 200.0\n",
      "Will attempt to fudge the meta-data information.\u001b[0m\n",
      "WARNING:ibllib:/home/cole/Downloads/ONE/alyx.internationalbrainlab.org/cache/ap/danlab/Subjects/DY_009/2020-02-27/001/raw_ephys_data/probe00/chunk_000000_to_000199/_spikeglx_ephysData_g0_t0.imec0.ap.stream.cbin : meta data and compressed chunks dont checkout\n",
      "File duration: expected 3488.6784, actual 200.0\n",
      "Will attempt to fudge the meta-data information.\n"
     ]
    },
    {
     "name": "stderr",
     "output_type": "stream",
     "text": [
      "/home/cole/Downloads/ONE/alyx.internationalbrainlab.org/cache/ap/danlab/Subjects/DY_009/2020-02-27/001/raw_ephys_data/probe00/chunk_000000_to_000199/_spikeglx_ephysData_g0_t0.imec0.ap.stream.cbin : meta data and compressed chunks dont checkout\n",
      "File duration: expected 3488.6784, actual 200.0\n",
      "Will attempt to fudge the meta-data information.\n",
      "/home/cole/Downloads/ONE/alyx.internationalbrainlab.org/cache/ap/danlab/Subjects/DY_009/2020-02-27/001/raw_ephys_data/probe00/chunk_000000_to_000199/_spikeglx_ephysData_g0_t0.imec0.ap.stream.cbin : meta data and compressed chunks dont checkout\n",
      "File duration: expected 3488.6784, actual 200.0\n",
      "Will attempt to fudge the meta-data information.\n",
      "/home/cole/Downloads/ONE/alyx.internationalbrainlab.org/cache/ap/danlab/Subjects/DY_009/2020-02-27/001/raw_ephys_data/probe00/chunk_000000_to_000199/_spikeglx_ephysData_g0_t0.imec0.ap.stream.cbin : meta data and compressed chunks dont checkout\n",
      "File duration: expected 3488.6784, actual 200.0\n",
      "Will attempt to fudge the meta-data information.\n",
      "/home/cole/Downloads/ONE/alyx.internationalbrainlab.org/cache/ap/danlab/Subjects/DY_009/2020-02-27/001/raw_ephys_data/probe00/chunk_000000_to_000199/_spikeglx_ephysData_g0_t0.imec0.ap.stream.cbin : meta data and compressed chunks dont checkout\n",
      "File duration: expected 3488.6784, actual 200.0\n",
      "Will attempt to fudge the meta-data information.\n",
      "/home/cole/Downloads/ONE/alyx.internationalbrainlab.org/cache/ap/danlab/Subjects/DY_009/2020-02-27/001/raw_ephys_data/probe00/chunk_000000_to_000199/_spikeglx_ephysData_g0_t0.imec0.ap.stream.cbin : meta data and compressed chunks dont checkout\n",
      "File duration: expected 3488.6784, actual 200.0\n",
      "Will attempt to fudge the meta-data information.\n",
      "/home/cole/Downloads/ONE/alyx.internationalbrainlab.org/cache/ap/danlab/Subjects/DY_009/2020-02-27/001/raw_ephys_data/probe00/chunk_000000_to_000199/_spikeglx_ephysData_g0_t0.imec0.ap.stream.cbin : meta data and compressed chunks dont checkout\n",
      "File duration: expected 3488.6784, actual 200.0\n",
      "Will attempt to fudge the meta-data information.\n",
      "/home/cole/Downloads/ONE/alyx.internationalbrainlab.org/cache/ap/danlab/Subjects/DY_009/2020-02-27/001/raw_ephys_data/probe00/chunk_000000_to_000199/_spikeglx_ephysData_g0_t0.imec0.ap.stream.cbin : meta data and compressed chunks dont checkout\n",
      "File duration: expected 3488.6784, actual 200.0\n",
      "Will attempt to fudge the meta-data information.\n",
      "/home/cole/Downloads/ONE/alyx.internationalbrainlab.org/cache/ap/danlab/Subjects/DY_009/2020-02-27/001/raw_ephys_data/probe00/chunk_000000_to_000199/_spikeglx_ephysData_g0_t0.imec0.ap.stream.cbin : meta data and compressed chunks dont checkout\n",
      "File duration: expected 3488.6784, actual 200.0\n",
      "Will attempt to fudge the meta-data information.\n",
      "/home/cole/Downloads/ONE/alyx.internationalbrainlab.org/cache/ap/danlab/Subjects/DY_009/2020-02-27/001/raw_ephys_data/probe00/chunk_000000_to_000199/_spikeglx_ephysData_g0_t0.imec0.ap.stream.cbin : meta data and compressed chunks dont checkout\n",
      "File duration: expected 3488.6784, actual 200.0\n",
      "Will attempt to fudge the meta-data information.\n"
     ]
    },
    {
     "name": "stdout",
     "output_type": "stream",
     "text": [
      "done with destriping\n"
     ]
    }
   ],
   "source": [
    "pid_sess1 = 'dab512bd-a02d-4c1f-8dbc-9155a163efc0'\n",
    "pid_sess2 = 'febb430e-2d50-4f83-87a0-b5ffbb9a4943'\n",
    "save_folder_sess1 = '/media/cat/data/IBL_data_CEED/dab512bd-a02d-4c1f-8dbc-9155a163efc0_test'\n",
    "save_folder_sess2 = '/media/cat/data/IBL_data_CEED/febb430e-2d50-4f83-87a0-b5ffbb9a4943_test'\n",
    "t_window = [0, 200] #in seconds\n",
    "bin_file_sess1, meta_file_sess1 = download_IBL(pid=pid_sess1, t_window=t_window, save_folder=save_folder_sess1, overwrite=True)\n",
    "bin_file_sess2, meta_file_sess2 = download_IBL(pid=pid_sess2, t_window=t_window, save_folder=save_folder_sess2, overwrite=True)"
   ]
  },
  {
   "cell_type": "code",
   "execution_count": 3,
   "metadata": {
    "tags": []
   },
   "outputs": [
    {
     "name": "stderr",
     "output_type": "stream",
     "text": [
      "/media/cat/cole/miniforge-pypy3/envs/ceed/lib/python3.10/site-packages/ibllib/atlas/atlas.py:13: DeprecationWarning: ibllib.atlas.atlas.AllenAtlas is deprecated. Use iblatlas.atlas.AllenAtlas instead\n",
      "  warnings.warn(warning_text, DeprecationWarning)\n"
     ]
    },
    {
     "name": "stdout",
     "output_type": "stream",
     "text": [
      "Downloading: /home/cole/Downloads/ONE/alyx.internationalbrainlab.org/histology/ATLAS/Needles/Allen/average_template_25.nrrd Bytes: 32998960\n"
     ]
    },
    {
     "name": "stderr",
     "output_type": "stream",
     "text": [
      "100%|████████████████████████████| 31.470260620117188/31.470260620117188 [00:03<00:00, 10.01it/s]\n"
     ]
    },
    {
     "name": "stdout",
     "output_type": "stream",
     "text": [
      "Downloading: /home/cole/Downloads/ONE/alyx.internationalbrainlab.org/histology/ATLAS/Needles/Allen/annotation_25.nrrd Bytes: 4035363\n"
     ]
    },
    {
     "name": "stderr",
     "output_type": "stream",
     "text": [
      "100%|██████████████████████████████| 3.848422050476074/3.848422050476074 [00:03<00:00,  1.20it/s]\n"
     ]
    },
    {
     "name": "stdout",
     "output_type": "stream",
     "text": [
      "INFO:iblatlas.atlas:Computing brain atlas annotations lookup table\n",
      "INFO:iblatlas.atlas:Cached remapping file /home/cole/Downloads/ONE/alyx.internationalbrainlab.org/histology/ATLAS/Needles/Allen/annotation_25_lut_v01.npz ...\n",
      "INFO:one.api:Downloading from AWS\n"
     ]
    },
    {
     "name": "stderr",
     "output_type": "stream",
     "text": [
      "/home/cole/Downloads/ONE/alyx.internationalbrainlab.org/danlab/Subjects/DY_016/2020-09-12/001/alf\n",
      "/home/cole/Downloads/ONE/alyx.internationalbrainlab.org/danlab/Subjects/DY_016/2020-09-12/001/alf\n",
      "/home/cole/Downloads/ONE/alyx.internationalbrainlab.org/danlab/Subjects/DY_016/2020-09-12/001/alf\n",
      "/home/cole/Downloads/ONE/alyx.internationalbrainlab.org/danlab/Subjects/DY_016/2020-09-12/001/alf"
     ]
    },
    {
     "name": "stdout",
     "output_type": "stream",
     "text": [
      "INFO:one.api:Downloading from AWS\n"
     ]
    },
    {
     "name": "stderr",
     "output_type": "stream",
     "text": [
      "\n",
      "/home/cole/Downloads/ONE/alyx.internationalbrainlab.org/danlab/Subjects/DY_016/2020-09-12/001/alf\n",
      "/home/cole/Downloads/ONE/alyx.internationalbrainlab.org/danlab/Subjects/DY_016/2020-09-12/001/alf\n",
      "/home/cole/Downloads/ONE/alyx.internationalbrainlab.org/danlab/Subjects/DY_016/2020-09-12/001/alf\n",
      "/home/cole/Downloads/ONE/alyx.internationalbrainlab.org/danlab/Subjects/DY_016/2020-09-12/001/alf\n"
     ]
    },
    {
     "name": "stdout",
     "output_type": "stream",
     "text": [
      "INFO:one.api:Downloading from AWS\n"
     ]
    },
    {
     "name": "stderr",
     "output_type": "stream",
     "text": [
      "/home/cole/Downloads/ONE/alyx.internationalbrainlab.org/danlab/Subjects/DY_016/2020-09-12/001/alf\n",
      "/home/cole/Downloads/ONE/alyx.internationalbrainlab.org/danlab/Subjects/DY_016/2020-09-12/001/alf\n",
      "/home/cole/Downloads/ONE/alyx.internationalbrainlab.org/danlab/Subjects/DY_016/2020-09-12/001/alf\n",
      "/home/cole/Downloads/ONE/alyx.internationalbrainlab.org/danlab/Subjects/DY_016/2020-09-12/001/alf\n"
     ]
    },
    {
     "name": "stdout",
     "output_type": "stream",
     "text": [
      "INFO:one.api:Downloading from AWS\n"
     ]
    },
    {
     "name": "stderr",
     "output_type": "stream",
     "text": [
      "/home/cole/Downloads/ONE/alyx.internationalbrainlab.org/danlab/Subjects/DY_016/2020-09-12/001/alf\n",
      "/home/cole/Downloads/ONE/alyx.internationalbrainlab.org/danlab/Subjects/DY_016/2020-09-12/001/alf\n",
      "/home/cole/Downloads/ONE/alyx.internationalbrainlab.org/danlab/Subjects/DY_016/2020-09-12/001/alf\n"
     ]
    },
    {
     "name": "stdout",
     "output_type": "stream",
     "text": [
      "[1.33916735e-02 1.64916423e-02 2.14249259e-02 ... 3.66892859e+03\n",
      " 3.66892885e+03 3.66892945e+03]\n",
      "INFO:one.api:Downloading from AWS\n"
     ]
    },
    {
     "name": "stderr",
     "output_type": "stream",
     "text": [
      "/home/cole/Downloads/ONE/alyx.internationalbrainlab.org/danlab/Subjects/DY_016/2020-09-12/001/raw\n"
     ]
    },
    {
     "name": "stdout",
     "output_type": "stream",
     "text": [
      "35 inactive units\n"
     ]
    },
    {
     "data": {
      "application/vnd.jupyter.widget-view+json": {
       "model_id": "32d99a1fc5d841ca926a9068ef3a5ae2",
       "version_major": 2,
       "version_minor": 0
      },
      "text/plain": [
       "Align and get templates:   0%|          | 0/480 [00:00<?, ?it/s]"
      ]
     },
     "metadata": {},
     "output_type": "display_data"
    },
    {
     "data": {
      "application/vnd.jupyter.widget-view+json": {
       "model_id": "28b1af60c54b48ceab4550f87441d482",
       "version_major": 2,
       "version_minor": 0
      },
      "text/plain": [
       "Cleaned templates:   0%|          | 0/480 [00:00<?, ?it/s]"
      ]
     },
     "metadata": {},
     "output_type": "display_data"
    },
    {
     "name": "stderr",
     "output_type": "stream",
     "text": [
      "/media/cat/cole/miniforge-pypy3/envs/ceed/lib/python3.10/site-packages/ibllib/atlas/atlas.py:13: DeprecationWarning: ibllib.atlas.atlas.AllenAtlas is deprecated. Use iblatlas.atlas.AllenAtlas instead\n",
      "  warnings.warn(warning_text, DeprecationWarning)\n"
     ]
    },
    {
     "name": "stdout",
     "output_type": "stream",
     "text": [
      "INFO:one.api:Downloading from AWS\n"
     ]
    },
    {
     "name": "stderr",
     "output_type": "stream",
     "text": [
      "/home/cole/Downloads/ONE/alyx.internationalbrainlab.org/danlab/Subjects/DY_009/2020-02-27/001/alf\n",
      "/home/cole/Downloads/ONE/alyx.internationalbrainlab.org/danlab/Subjects/DY_009/2020-02-27/001/alf\n",
      "/home/cole/Downloads/ONE/alyx.internationalbrainlab.org/danlab/Subjects/DY_009/2020-02-27/001/alf\n",
      "/home/cole/Downloads/ONE/alyx.internationalbrainlab.org/danlab/Subjects/DY_009/2020-02-27/001/alf\n"
     ]
    },
    {
     "name": "stdout",
     "output_type": "stream",
     "text": [
      "INFO:one.api:Downloading from AWS\n"
     ]
    },
    {
     "name": "stderr",
     "output_type": "stream",
     "text": [
      "/home/cole/Downloads/ONE/alyx.internationalbrainlab.org/danlab/Subjects/DY_009/2020-02-27/001/alf\n",
      "/home/cole/Downloads/ONE/alyx.internationalbrainlab.org/danlab/Subjects/DY_009/2020-02-27/001/alf\n",
      "/home/cole/Downloads/ONE/alyx.internationalbrainlab.org/danlab/Subjects/DY_009/2020-02-27/001/alf\n",
      "/home/cole/Downloads/ONE/alyx.internationalbrainlab.org/danlab/Subjects/DY_009/2020-02-27/001/alf\n"
     ]
    },
    {
     "name": "stdout",
     "output_type": "stream",
     "text": [
      "INFO:one.api:Downloading from AWS\n"
     ]
    },
    {
     "name": "stderr",
     "output_type": "stream",
     "text": [
      "/home/cole/Downloads/ONE/alyx.internationalbrainlab.org/danlab/Subjects/DY_009/2020-02-27/001/alf\n",
      "/home/cole/Downloads/ONE/alyx.internationalbrainlab.org/danlab/Subjects/DY_009/2020-02-27/001/alf\n",
      "/home/cole/Downloads/ONE/alyx.internationalbrainlab.org/danlab/Subjects/DY_009/2020-02-27/001/alf\n",
      "/home/cole/Downloads/ONE/alyx.internationalbrainlab.org/danlab/Subjects/DY_009/2020-02-27/001/alf\n"
     ]
    },
    {
     "name": "stdout",
     "output_type": "stream",
     "text": [
      "INFO:one.api:Downloading from AWS\n"
     ]
    },
    {
     "name": "stderr",
     "output_type": "stream",
     "text": [
      "/home/cole/Downloads/ONE/alyx.internationalbrainlab.org/danlab/Subjects/DY_009/2020-02-27/001/alf\n",
      "/home/cole/Downloads/ONE/alyx.internationalbrainlab.org/danlab/Subjects/DY_009/2020-02-27/001/alf\n",
      "/home/cole/Downloads/ONE/alyx.internationalbrainlab.org/danlab/Subjects/DY_009/2020-02-27/001/alf\n"
     ]
    },
    {
     "name": "stdout",
     "output_type": "stream",
     "text": [
      "[1.36095901e-02 1.90762071e-02 2.07095256e-02 ... 3.48863415e+03\n",
      " 3.48863551e+03 3.48863595e+03]\n",
      "INFO:one.api:Downloading from AWS\n"
     ]
    },
    {
     "name": "stderr",
     "output_type": "stream",
     "text": [
      "/home/cole/Downloads/ONE/alyx.internationalbrainlab.org/danlab/Subjects/DY_009/2020-02-27/001/raw\n"
     ]
    },
    {
     "name": "stdout",
     "output_type": "stream",
     "text": [
      "28 inactive units\n"
     ]
    },
    {
     "data": {
      "application/vnd.jupyter.widget-view+json": {
       "model_id": "aac63d7ede1c42e985ab66c474e259d4",
       "version_major": 2,
       "version_minor": 0
      },
      "text/plain": [
       "Align and get templates:   0%|          | 0/438 [00:00<?, ?it/s]"
      ]
     },
     "metadata": {},
     "output_type": "display_data"
    },
    {
     "data": {
      "application/vnd.jupyter.widget-view+json": {
       "model_id": "17b18a0a3be5487f8ade91699112feeb",
       "version_major": 2,
       "version_minor": 0
      },
      "text/plain": [
       "Cleaned templates:   0%|          | 0/438 [00:00<?, ?it/s]"
      ]
     },
     "metadata": {},
     "output_type": "display_data"
    }
   ],
   "source": [
    "'''extract the all data needed to make CEED dataset\n",
    "spike_idx_sess: spike_times, channels, neurons (if use_labels=True)\n",
    "geom_sess: channels x 2\n",
    "chan_idx_sess: waveform extraction channels for each channel\n",
    "templates_sess: templates across all channels for all neurons\n",
    "'''\n",
    "recompute = True\n",
    "\n",
    "if recompute:\n",
    "    spike_idx_sess1, geom_sess1, chan_idx_sess1, templates_sess1 = extract_IBL(bin_fp=bin_file_sess1, \n",
    "                                                                               meta_fp=meta_file_sess1, \n",
    "                                                                               pid=pid_sess1, t_window=t_window, \n",
    "                                                                               use_labels=True)\n",
    "    spike_idx_sess2, geom_sess2, chan_idx_sess2, templates_sess2 = extract_IBL(bin_fp=bin_file_sess2, \n",
    "                                                                               meta_fp=meta_file_sess2, \n",
    "                                                                               pid=pid_sess2, t_window=t_window,\n",
    "                                                                               use_labels=True)\n",
    "else:\n",
    "    spike_idx_sess1 = np.load('spike_idx_sess1.npy')\n",
    "    geom_sess1 = np.load('geom_sess1.npy')\n",
    "    chan_idx_sess1 = np.load('chan_idx_sess1.npy')\n",
    "    templates_sess1 = np.load('templates_sess1.npy')\n",
    "    spike_idx_sess2 = np.load('spike_idx_sess2.npy')\n",
    "    geom_sess2 = np.load('geom_sess2.npy')\n",
    "    chan_idx_sess2 = np.load('chan_idx_sess2.npy')\n",
    "    templates_sess2 = np.load('templates_sess2.npy')"
   ]
  },
  {
   "cell_type": "code",
   "execution_count": 4,
   "metadata": {
    "tags": []
   },
   "outputs": [
    {
     "data": {
      "image/png": "[encoded data removed]",
      "text/plain": [
       "<Figure size 640x480 with 1 Axes>"
      ]
     },
     "metadata": {},
     "output_type": "display_data"
    }
   ],
   "source": [
    "#plot a template on the 40 extracted channels (not all 40 used to train CEED).\n",
    "template_id = 11\n",
    "plt.plot(templates_sess1[template_id][:,chan_idx_sess1[template_id]]);"
   ]
  },
  {
   "cell_type": "code",
   "execution_count": 5,
   "metadata": {},
   "outputs": [],
   "source": [
    "save_fewer = True"
   ]
  },
  {
   "cell_type": "code",
   "execution_count": 6,
   "metadata": {},
   "outputs": [
    {
     "name": "stdout",
     "output_type": "stream",
     "text": [
      "copying over noise covariances from previous recording from /home/cole/CEED/analysis/noise_covariances_IBL_dy016\n",
      "saving no split train dataset\n"
     ]
    }
   ],
   "source": [
    "# session 1 units to get data from and dataset save path\n",
    "selected_units_sess1 = [200, 210, 220]#np.arange(200)\n",
    "dataset_folder_sess1 = save_folder_sess1 + '/ds'\n",
    "\n",
    "# make a dataset for training\n",
    "# will create a folder with the spike, probe channel number, and corresponding channel location datasets in the train, val, test splits\n",
    "# optionally also saves out spatial and temporal noise covariance matrices\n",
    "train_set1, val_set1, test_set1, train_geom_locs1, val_geom_locs1, \\\n",
    "test_geom_locs1, train_max_chan1, val_max_chan1, test_max_chan1 = make_dataset(bin_path=bin_file_sess1, spike_index=spike_idx_sess1,\n",
    "                                                                               geom=geom_sess1, save_path=dataset_folder_sess1, \n",
    "                                                                               chan_index=chan_idx_sess1, templates=templates_sess1, \n",
    "                                                                               unit_ids=selected_units_sess1, train_num=200, val_num=0, \n",
    "                                                                               test_num=200, save_covs=False, num_chans_extract=21, \n",
    "                                                                               plot=False, normalize=False, shift=False, inference=False,\n",
    "                                                                               save_fewer=save_fewer)"
   ]
  },
  {
   "cell_type": "code",
   "execution_count": 7,
   "metadata": {},
   "outputs": [
    {
     "name": "stdout",
     "output_type": "stream",
     "text": [
      "copying over noise covariances from previous recording from /home/cole/CEED/analysis/noise_covariances_IBL_dy016\n",
      "saving no split train dataset\n"
     ]
    }
   ],
   "source": [
    "# session 1 units to get data from and dataset save path\n",
    "selected_units_sess2 = [200, 210, 220]#np.arange(200)\n",
    "dataset_folder_sess2 = save_folder_sess2 + '/ds'\n",
    "\n",
    "# make a dataset for training\n",
    "# will create a folder with the spike, probe channel number, and corresponding channel location datasets in the train, val, test splits\n",
    "# optionally also saves out spatial and temporal noise covariance matrices\n",
    "train_set2, val_set2, test_set2, train_geom_locs2, val_geom_locs2, \\\n",
    "test_geom_locs2, train_max_chan2, val_max_chan2, test_max_chan2 = make_dataset(bin_path=bin_file_sess2, spike_index=spike_idx_sess2,\n",
    "                                                                               geom=geom_sess2, save_path=dataset_folder_sess2, \n",
    "                                                                               chan_index=chan_idx_sess2, templates=templates_sess2, \n",
    "                                                                               unit_ids=selected_units_sess2, train_num=200, val_num=0, \n",
    "                                                                               test_num=200, save_covs=False, num_chans_extract=21, \n",
    "                                                                               plot=False, normalize=False, shift=False, inference=False,\n",
    "                                                                               save_fewer=save_fewer)"
   ]
  },
  {
   "cell_type": "code",
   "execution_count": 8,
   "metadata": {},
   "outputs": [],
   "source": [
    "combined_ds_path = '/media/cat/data/IBL_data_CEED/combined'\n",
    "\n",
    "# combine the two training datasets into a larger one for more unit diversity\n",
    "dataset_list = [dataset_folder_sess1, dataset_folder_sess2]\n",
    "combine_datasets(dataset_list, combined_ds_path)"
   ]
  },
  {
   "cell_type": "code",
   "execution_count": 9,
   "metadata": {},
   "outputs": [
    {
     "name": "stdout",
     "output_type": "stream",
     "text": [
      "copying over noise covariances from previous recording from /home/cole/CEED/analysis/noise_covariances_IBL_dy016\n"
     ]
    }
   ],
   "source": [
    "inference_ds_path = save_folder_sess1 + '/inference'\n",
    "selected_units_inf = [200, 210, 220]\n",
    "\n",
    "# make a dataset for spike sorting inference\n",
    "# will save out only spikes, channel numbers, and channel locations for a spikes test set (only pass in test_num)\n",
    "# save_var_num flag will allow units with < test_num spikes in the recording to be saved out in the test set as well (change to min and max spikes)\n",
    "# for cell type datasets the normalize Flag can be set to True\n",
    "test_set, test_geom_locs, test_max_chan = make_dataset(bin_path=bin_file_sess1, spike_index=spike_idx_sess1, \n",
    "                                                       geom=geom_sess1, save_path=inference_ds_path, \n",
    "                                                       chan_index=chan_idx_sess1, templates=templates_sess1, \n",
    "                                                       unit_ids=selected_units_inf, test_num=200, save_covs=False,\n",
    "                                                       num_chans_extract=21, normalize=False, save_fewer=save_fewer, inference=True)"
   ]
  },
  {
   "cell_type": "code",
   "execution_count": 10,
   "metadata": {
    "tags": []
   },
   "outputs": [],
   "source": [
    "spikes_test = np.load(save_folder_sess1 + '/ds/spikes_test.npy') \n",
    "labels_test = np.load(save_folder_sess1 + '/ds/labels_test.npy') \n",
    "channel_num_test = np.load(save_folder_sess1 + '/ds/channel_num_test.npy') \n",
    "channel_spike_locs_test = np.load(save_folder_sess1 + '/ds/channel_spike_locs_test.npy') "
   ]
  },
  {
   "cell_type": "code",
   "execution_count": null,
   "metadata": {},
   "outputs": [],
   "source": []
  },
  {
   "cell_type": "code",
   "execution_count": null,
   "metadata": {},
   "outputs": [],
   "source": []
  }
 ],
 "metadata": {
  "kernelspec": {
   "display_name": "Python [conda env:ceed]",
   "language": "python",
   "name": "conda-env-ceed-py"
  },
  "language_info": {
   "codemirror_mode": {
    "name": "ipython",
    "version": 3
   },
   "file_extension": ".py",
   "mimetype": "text/x-python",
   "name": "python",
   "nbconvert_exporter": "python",
   "pygments_lexer": "ipython3",
   "version": "3.10.12"
  }
 },
 "nbformat": 4,
 "nbformat_minor": 4
}
